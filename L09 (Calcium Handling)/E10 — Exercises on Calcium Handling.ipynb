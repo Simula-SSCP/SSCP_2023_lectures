{
 "cells": [
  {
   "cell_type": "markdown",
   "id": "2f35be8a",
   "metadata": {},
   "source": [
    "# E10 — Exercises on Calcium Handling\n",
    "\n",
    "In this notebook we look at some exercises to explore intracellular calcium handling a bit more hands on. Compared to previous sessions, there is a stronger focus on discussion and work with pen and paper, and a bit less on actual modeling.\n",
    "\n",
    "This notebook contains the following exercises:\n",
    "\n",
    "* [Exercise 1: A Simple Calcium Cycling Model](#1)\n",
    "* [Exercise 2: Thermodynamic Limits of SERCA](#2)\n",
    "* [Exercise 3: Thermodynamics of the NCX](#3)"
   ]
  },
  {
   "cell_type": "markdown",
   "id": "7b742a1e",
   "metadata": {},
   "source": [
    "<a id=\"1\"></a>\n",
    "## Exercise 1: A Simple Calcium Cycling Model\n",
    "\n",
    "We start by implementing a simple calcium cycling model to explore intracellular calcium handling a bit more hands on. The model you implement is based on a work by Friel et al. (1995). The original model was made to explain experimental findings of caffine-induced calcium oscillations in sympatheic neurons. We use the model as propsed by Friel, but change a few of the variable names to be more consistent with how we present the material in L10/E10."
   ]
  },
  {
   "cell_type": "markdown",
   "id": "0ac3d896",
   "metadata": {},
   "source": [
    "### Introducing the Model\n",
    "\n",
    "The model proposed by Friel consists of three domains:\n",
    "* The cytosol, inside the cell\n",
    "* The sarcoplasmic reticulum (SR), a subdomain inside the cell\n",
    "* The extracellular space, outside the cell.\n",
    "\n",
    "We denote the concentration of calcium in each of these domains as $\\rm [Ca^{2+}]_{\\rm i}$, $\\rm [Ca^{2+}]_{\\rm SR}$ and $\\rm [Ca^{2+}]_{\\rm o}$ respectively. The first two of these are model states which change over time, while we assume the extracellular concentration to be constant.\n",
    "\n",
    "There are four fluxes between these domains:\n",
    "* There is an external calcium entry through the sarcolemma: $J_{\\rm entry}$\n",
    "* There is an extrusion of calcium through the sarcolemma: $J_{\\rm extrusion}$\n",
    "* There is a release of calcium from the SR: $J_{\\rm rel}$\n",
    "* There is an uptake of calcium back into the SR: $J_{\\rm uptake}$.\n",
    "\n",
    "We can summarize the model with the following figure.\n",
    "\n",
    "<img src=\"fig/friel.svg\" width=500>"
   ]
  },
  {
   "cell_type": "markdown",
   "id": "87a01ade",
   "metadata": {},
   "source": [
    "**Exercise 1a) Linear currents**\n",
    "\n",
    "In the very simplest case, we can assume the four currents to be completely linear, and only dependent on the concentration gradient across a given membrane. For instance, we can then model the influx current as\n",
    "\n",
    "$$J_{\\rm entry} = k_{\\rm entry} \\left( \\rm [Ca^{2+}]_{\\rm o} - \\rm [Ca^{2+}]_{\\rm i} \\right).$$\n",
    "\n",
    "Where $k_{\\rm entry}$ would be the *flux rate*, a model parameter of units 1/s. \n",
    "\n",
    "* If we assume $\\rm [Ca^{2+}]_{\\rm o} > \\rm [Ca^{2+}]_{\\rm i}$, does $J_{\\rm entry}$ become positive or negative? \n",
    "\n",
    "We also assume the release current to be proportional to the calcium difference between the SR and the cytosol. \n",
    "\n",
    "* Write out this current so that it is also positive when entering the cytosol, $J_{\\rm rel} = ...$.\n",
    "\n",
    "Because the uptake and extrusion currents are *active* transport and not passive, let us assume these are proportional to the cytosolic concentration alone, i.e.\n",
    "\n",
    "$$J_{\\rm extrusion} = k_{\\rm extrusion} \\times [{\\rm Ca}^{2+}]_{\\rm i}.$$\n",
    "\n",
    "* Write out the same current for the uptake term, $J_{\\rm uptake} = ...$.\n",
    "\n",
    "**Exercise 1b) Concentration changes**\n",
    "\n",
    "With the fluxes defined, write out the derivatives of the cytosolic and SR calcium in terms of the four fluxes. Be especially careful that you are consistent in terms of the sign of concentration differences, fluxes and concentration changes.\n",
    "\n",
    "\\begin{equation}\n",
    "\\frac{\\rm d [Ca^{2+}]_i}{{\\rm d}t} = \\ldots,\n",
    "\\end{equation}\n",
    "\n",
    "\\begin{equation}\n",
    "\\frac{\\rm d [Ca^{2+}]_{SR}}{{\\rm d}t} = \\frac{\\ldots}{\\gamma}.\n",
    "\\end{equation}\n",
    "\n",
    "Here $\\gamma$ is a unitless model parameter needed to account for the fact that the SR has a different volume to the cytosolic space. It has a value of $\\gamma = 0.24$, meaning a movement of calcium from the SR to the cytosol will impact the SR concentration roughly four times more than the cytosolic calcium.\n",
    "\n",
    "**Exercise 1c) Variable release rate**\n",
    "\n",
    "If you read the original publication, it is not possible to find spontaneous calcium oscillations with purely linear fluxes, as one needs *calcium-induced calcium release* (CICR) to produce proper oscillations. Friel et al., therefore proposes to let the rate constant of the release current $k_{\\rm rel}$ be a function of cytosolic calcium, so that it is low when cytosolic calcium is low, but it increases fast if cytosolic calcium grows. \n",
    "\n",
    "More specifically, they let\n",
    "\n",
    "\\begin{equation}\n",
    "k_{\\rm rel} = \\kappa_0 + \\kappa_1 \\times \\frac{\\rm [Ca^{2+}]^n_{\\rm i}}{K_{\\rm d}^n + [{\\rm Ca}^{2+}]_{\\rm i}^n}\n",
    "\\end{equation}\n",
    "\n",
    "What kind of equation is this?"
   ]
  },
  {
   "cell_type": "markdown",
   "id": "b3bd2a59",
   "metadata": {},
   "source": [
    "**Exercise 1d) Implementing the RHS**\n",
    "\n",
    "Fill in the code below to define the RHS of the system"
   ]
  },
  {
   "cell_type": "code",
   "execution_count": null,
   "id": "0c1e2a57",
   "metadata": {},
   "outputs": [],
   "source": [
    "import numpy as np\n",
    "import matplotlib.pyplot as plt\n",
    "from scipy.integrate import solve_ivp\n",
    "\n",
    "def rhs(t, y, Cao, k_entry, k_extrusion, k_uptake, kappa0, kappa1, Kd, n, gamma):\n",
    "    # Split up the state vector\n",
    "    Cai, CaSR = y\n",
    "    \n",
    "    # Define the linear fluxes\n",
    "    J_entry = ...\n",
    "    J_extrusion = ...\n",
    "    J_uptake = ...\n",
    "    \n",
    "    # Compute the release rate (CICR)\n",
    "    k_rel = ...\n",
    "    J_rel = ...\n",
    "    \n",
    "    # Define the derivatives\n",
    "    dCai_dt = ...\n",
    "    dCaSR_dt = (...)/gamma\n",
    "    \n",
    "    # Return the derivatives\n",
    "    return dCai_dt, dCaSR_dt"
   ]
  },
  {
   "cell_type": "markdown",
   "id": "af8b6271",
   "metadata": {},
   "source": [
    "**Exercise 1e) Solving the model and plotting the solution**\n",
    "\n",
    "Below we have defined all the parameters of the model. Use these parameters and solve the model for $t\\in[0, 1000]$ seconds. As initial conditions use $\\rm [Ca]_{\\rm i} = 80$ nM and $\\rm [Ca]_{\\rm SR} = 4.0$ µM. Plot the solutions, $\\rm [Ca]_{\\rm i}$ and $\\rm [Ca]_{\\rm SR}$ in two different plots."
   ]
  },
  {
   "cell_type": "code",
   "execution_count": null,
   "id": "f8effbf9",
   "metadata": {},
   "outputs": [],
   "source": [
    "# Parameters\n",
    "Cao = 1000 # µM\n",
    "\n",
    "k_entry = 2e-5 # 1/s\n",
    "k_extrusion = 0.132 # 1/s\n",
    "k_uptake = 0.9 # 1/s\n",
    "kappa0 = 0.013 # 1/s\n",
    "kappa1 = 0.58 # 1/s\n",
    "Kd = 0.5 # µM\n",
    "n = 3.\n",
    "gamma = 0.24\n",
    "\n",
    "params = (Cao, k_entry, k_extrusion, k_uptake, kappa0, kappa1, Kd, n, gamma)"
   ]
  },
  {
   "cell_type": "code",
   "execution_count": null,
   "id": "b07b9eb5",
   "metadata": {},
   "outputs": [],
   "source": [
    "# Solve model with solve_ivp\n",
    "T = ...\n",
    "y0 = ...\n",
    "\n",
    "solution = solve_ivp(...)"
   ]
  },
  {
   "cell_type": "code",
   "execution_count": null,
   "id": "d0804659",
   "metadata": {},
   "outputs": [],
   "source": [
    "# Plot solutions\n",
    "plt.plot(...)\n",
    "plt.show(...)\n",
    "\n",
    "plt.plot(...)\n",
    "plt.show(...)"
   ]
  },
  {
   "cell_type": "markdown",
   "id": "fb74aac8",
   "metadata": {},
   "source": [
    "**Exercise 1f) Describing the solution**\n",
    "\n",
    "Explain how the solutions look. You don't have to describe the exact mechanisms of what is going on, but you should explain in broad strokes where calcium is moving in the model. Does it seem reasonable that this is a model to explain a phenomenon called *calcium oscillations*?"
   ]
  },
  {
   "cell_type": "markdown",
   "id": "f254c554",
   "metadata": {},
   "source": [
    "**Exercise 1g) Changes in initial conditions (Widget)**\n",
    "\n",
    "Use the widget below and play around with the initial conditions. Does the initial conditions matter? Why/Why not?"
   ]
  },
  {
   "cell_type": "code",
   "execution_count": null,
   "id": "d843e466",
   "metadata": {},
   "outputs": [],
   "source": [
    "from L10_widget import CICRWidget\n",
    "\n",
    "CICRWidget().initial_conditions_widget()"
   ]
  },
  {
   "cell_type": "markdown",
   "id": "015708e0",
   "metadata": {},
   "source": [
    "**Exercise 1h) Plotting the CICR rate**\n",
    "\n",
    "The paper this model is based on is looking at *caffine induced* calcium oscillations. What caffine does is upregulate the release flux's dependency on cytosolic calcium, meaning CICR is stronger. Let us analyze this a bit closer. The release rate was modelled as\n",
    "\n",
    "\\begin{equation}\n",
    "k_{\\rm rel} = \\kappa_0 + \\kappa_1 \\times \\frac{\\rm [Ca^{2+}]^n_{\\rm i}}{K_{\\rm d}^n + [{\\rm Ca}^{2+}]_{\\rm i}^n}\n",
    "\\end{equation}\n",
    "\n",
    "Plot this curve for $\\rm [Ca^{2+}]_{\\rm i} \\in [0, 2]$ µM.\n",
    "\n",
    "If caffine makes this function *steeper*, what model parameters could reflect this?\n",
    "\n",
    "\n",
    "\n"
   ]
  },
  {
   "cell_type": "markdown",
   "id": "2410e729",
   "metadata": {},
   "source": [
    "**Exercise 1i) Exploring the CICR model (Widget)**\n",
    "\n",
    "Below we have made a widget that plots the release rate with adjustable parameters: $\\kappa_0$, $\\kappa_1$, $K_{\\rm d}$, $n$. Play around with this widget and get a feel for what all four parameters do to the rate function. \n",
    "\n",
    "If we want a low release current at low calcium, and then a high release rate at high calcium, with a steep and swift shift. What parameters should be low, and which should be high?"
   ]
  },
  {
   "cell_type": "code",
   "execution_count": null,
   "id": "9b62aab7",
   "metadata": {},
   "outputs": [],
   "source": [
    "from L10_widget import CICRWidget\n",
    "\n",
    "CICRWidget().krel_widget()"
   ]
  },
  {
   "cell_type": "markdown",
   "id": "73375429",
   "metadata": {},
   "source": [
    "**Exercise 1j) CICR sweet-spot (Widget)**\n",
    "\n",
    "In the paper, they state that calcium oscillations are only found at certain levels of caffine. If there is no caffine, then the steepness of the CICR-function ($k_{\\rm rel}$ in the model) is too low, and we get no oscillations. If there is too much caffine, then the system releases calcium too readily, and we also get no oscillations.\n",
    "\n",
    "Attempt to shift either the $K_{\\rm d}$ (point of half-saturation) or $n$ (the Hill coefficient) to be very high or low in the widget below. Do the oscillations disappear at either extreme? Hint: The model is a bit heavy, so I suggest you pull the sliders *slowly* to give the plot a chance to update."
   ]
  },
  {
   "cell_type": "code",
   "execution_count": null,
   "id": "86037e60",
   "metadata": {},
   "outputs": [],
   "source": [
    "from L10_widget import CICRWidget\n",
    "\n",
    "CICRWidget().cicr_widget()"
   ]
  },
  {
   "cell_type": "markdown",
   "id": "603db710",
   "metadata": {},
   "source": [
    "<a id=\"2\"></a>\n",
    "## Exercise 2: Thermodynamic Limits of SERCA\n",
    "\n",
    "The sarco/endoplasmic reticulum calcium ATPase (SERCA) pump is responsible for pumping calcium into the SR from the cytosol in cardiomyocytes. This has to majorly important functions:\n",
    "* Maintain a high SR load, which can give a rapid and strong calcium transient through the CICR mechanism\n",
    "* Maintain very low levels of resting cytosolic calcium, important for allowing the myocyte to relax in between contractions\n",
    "\n",
    "Ideally the SERCA pump would pump all available calcium from the cytosol into the SR. However, due to the diffusive pressure of calcium, there has to be some theoretical maximum for how large concentration gradients the SERCA pump can achieve. In this exercise you will analyze the thermodynamics of the problem to find this theoretical limit."
   ]
  },
  {
   "cell_type": "markdown",
   "id": "9ea078a7",
   "metadata": {},
   "source": [
    "**Exercise 2a) Change in Gibbs Energy**\n",
    "\n",
    "In the lecture on physical chemistry, L2, we introduced a quantity dubbed *Gibbs energy*. Recall now that for any spontaneous process, we must have that $\\Delta G < 0$. Explain briefly why this is the case.\n",
    "\n",
    "For every cycle of the SERCA pump, it pumps two calcium ions from the cytosol into the SR. This will incur a change in Gibbs energy of\n",
    "\n",
    "$$\\Delta G_{\\rm pump} = 2RT \\ln\\left(\\frac{\\rm [Ca^{2+}]_{SR}}{\\rm [Ca^{2+}]_i}\\right),$$\n",
    "\n",
    "It is generally the case that $ {\\rm [Ca^{2+}]_{SR}} > {\\rm [Ca^{2+}]_i}$. What does this mean for the value of $\\Delta G_{\\rm pump}$. Explain why this tells us that SERCA must expend energy to move calcium ions into the SR."
   ]
  },
  {
   "cell_type": "markdown",
   "id": "38a018d4",
   "metadata": {},
   "source": [
    "**Exercise 2b) Coupling processes**\n",
    "\n",
    "SERCA is an ATPase, meaning it is an enzyme that can break down ATP molecules into ADP, a process that releases a bit of energy which SERCA can use. Explain why it must be the case that\n",
    "\n",
    "$$\\Delta G_{\\rm pump} + \\Delta G_{\\rm ATP} < 0.$$\n",
    "\n",
    "Where $G_{\\rm ATP}$ is the change in Gibbs Energy we get from \"spending\" a single ATP molecule.\n"
   ]
  },
  {
   "cell_type": "markdown",
   "id": "1db6d665",
   "metadata": {},
   "source": [
    "**Exercise 2c) Maximum concentration ratio**\n",
    "\n",
    "Insert the expression from 2a into 2b and solve for ${\\rm [Ca^{2+}]_{SR}}$. Show that this yields\n",
    "\n",
    "$${\\rm [Ca^{2+}]_{SR}} < {\\rm [Ca^{2+}]_{i}} \\times {\\rm exp}\\ \\bigg[\\frac{\\Delta G_{\\rm ATP}}{2RT}\\bigg].$$\n",
    "\n",
    "To find a specific value we will need to know the value of $\\Delta G_{\\rm ATP}$. Looking up the value in the literature reveals that this value changes with several factors. For the conditions inside a mammalian myocyte it will typically be in the range 50–70 kJ/mol. As no molecular machine, like SERCA, will ever be perfectly efficient, it makes sense to pick a number on the lower end of the scale or slightly below this.\n",
    "\n",
    "Insert $\\Delta G_{\\rm ATP}$ to find a final estimate. It can be useful to know that for body temperature, $2RT \\approx 5.2$ kJ/mol. What is the maximal concentration gradient SERCA can theoretically maintain across the SR membrane?"
   ]
  },
  {
   "cell_type": "markdown",
   "id": "1a0378de",
   "metadata": {},
   "source": [
    "**Exercise 2d) The difference between theory and practice**\n",
    "\n",
    "A commonly cited statement is that SERCA can maintain a calcium gradient of about 1:7000, i.e., the SR load can be at most 7000-fold higher than the cytosolic calcium. Compare this statement with the theoretical limit you found. If there are differences, discuss why this might be. Does it seem like SERCA is operating at its thermodynamic limit?"
   ]
  },
  {
   "cell_type": "markdown",
   "id": "2aebae75",
   "metadata": {},
   "source": [
    "<a id=\"3\"></a>\n",
    "## Exercise 3: Thermodynamics of the NCX\n",
    "\n",
    "The sodium-calcium exchanger (NCX) works by transporting 3 sodium ions (Na$^+$) in one direction, and simultaneously transporting 1 calcium ion in the opposite direction (Ca$^{2+}$). Crucially, NCX does not use any other source of energy, like ATP. Let us analyze the thermodynamics of this situation.\n"
   ]
  },
  {
   "cell_type": "markdown",
   "id": "863a0d4a",
   "metadata": {},
   "source": [
    "**Exercise 3a) Passive or active transport? (Discussion)**\n",
    "\n",
    "Previously we have introduced the terms *passive* and *active* ion transport. From what you recall of these terms, would you classify the NCX activity as passive or active?\n",
    "\n",
    "**Exercise 3b) Gibbs energy**\n",
    "\n",
    "Explain why the change in Gibbs energy of one cycle of the NCX can be described as\n",
    "\n",
    "$$\\Delta G_{\\rm NCX} = \\Delta G_{\\rm Ca} - 3\\Delta G_{\\rm Na}.$$"
   ]
  },
  {
   "cell_type": "markdown",
   "id": "ca67e151",
   "metadata": {},
   "source": [
    "**Exercise 3c) Enter the Nernst potentials**\n",
    "\n",
    "The change in Gibbs energy from moving a particle from inside to outside the cell depends both on the concentration gradient of the ion, but also the membrane potential. We have actually analyzed this exact scenario when we derived the Nernst potential. From that derivation we found that (We did not you expect to remember this expression, which is why we list it here):\n",
    "\n",
    "$$\\Delta G_{\\rm X} = z_X F \\big( E_{\\rm X} - V \\big).$$\n",
    "\n",
    "Here $z_{\\rm X}$ is the valency of ionic species X, $E_{\\rm X}$ is the Nernst potential of species X, $F$ the Faraday constant and $V$ the membrane potential.\n",
    "\n",
    "Insert $\\Delta G_{\\rm Na}$ and $\\Delta G_{\\rm Ca}$ to find a clean expression for $\\Delta G_{\\rm NCX}$."
   ]
  },
  {
   "cell_type": "markdown",
   "id": "1a59cb69",
   "metadata": {},
   "source": [
    "**Exercise 3d) Reversial potential**\n",
    "\n",
    "We know the system is at thermodynamic equilibrium when $\\Delta G = 0$. This in turn means you can find the *reversial* potential of the NCX by solving the equation\n",
    "\n",
    "$$\\Delta G_{\\rm NCX} = 0,$$\n",
    "\n",
    "for the membrane potential $V$. Show that this results in\n",
    "\n",
    "$$E_{\\rm NCX} = 3E_{\\rm Na} - 2E_{\\rm Ca}.$$\n",
    "\n",
    "Explain how this potential relates to the forward and reverse modes of the exchanger."
   ]
  },
  {
   "cell_type": "markdown",
   "id": "32c1377b",
   "metadata": {},
   "source": [
    "**Exercise 3e) Reversial potential in mV**\n",
    "\n",
    "In L3 you computed the Nernst potentials under normal conditions and found that $E_{\\rm Na} \\approx 80$  mV and $E_{\\rm Ca} \\approx 120$ mV. (Though we expect the calcium Nernst potential to shift considerably during an AP). Insert these values to find $E_{\\rm NCX}$ in terms of mV."
   ]
  },
  {
   "cell_type": "markdown",
   "id": "6bee07f1",
   "metadata": {},
   "source": [
    "**Exercise 3f) The NCX during the action potential**\n",
    "\n",
    "From your answer. Do we expect to see any reverse mode of NCX during a normal action potential? If so, where in the action potential would we expect to see calcium entering the cell through the NCX? When would we expect calcium to leave the cell?"
   ]
  }
 ],
 "metadata": {
  "kernelspec": {
   "display_name": "Python 3",
   "language": "python",
   "name": "python3"
  },
  "language_info": {
   "codemirror_mode": {
    "name": "ipython",
    "version": 3
   },
   "file_extension": ".py",
   "mimetype": "text/x-python",
   "name": "python",
   "nbconvert_exporter": "python",
   "pygments_lexer": "ipython3",
   "version": "3.6.9"
  }
 },
 "nbformat": 4,
 "nbformat_minor": 5
}
