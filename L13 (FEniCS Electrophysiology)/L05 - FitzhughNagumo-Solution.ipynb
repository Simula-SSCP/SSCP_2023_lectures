{
 "cells": [
  {
   "attachments": {},
   "cell_type": "markdown",
   "metadata": {},
   "source": [
    "# FitzHugh--Nagumo model"
   ]
  },
  {
   "attachments": {},
   "cell_type": "markdown",
   "metadata": {},
   "source": [
    "The FitzHugh–Nagumo model represents a model for the\n",
    "study of excitable media. The propagation of the transmembrane potential $u$ is modeled by a diffusion equation with a cubic nonlinear reaction term, whereas the recovery of the slow variable $v$ is represented by a single ordinary differential equation. The system of equations reads as follows:\n",
    "\n",
    "\\begin{align}\n",
    "\\frac{\\partial u}{\\partial t} &= D \\Delta u + u(1-u)(u-a) -v + S  \\qquad \\text{ for } x \\in \\Omega \\text{ and for } t \\in [0, T], \\\\\n",
    "\\frac{\\partial v}{\\partial t} &= \\epsilon (\\beta u - \\gamma v) \\qquad x \\in \\Omega \\text{ and for } t \\in [0, T]\n",
    "\\end{align}\n",
    "\n",
    "$\\Omega$ denotes the spatial domain and $t$ is time. We consider the following choice of model parameters: $K_u = 0.001$, $a = 0.1$, $\\epsilon = 0.01$,\n",
    "$\\beta = 0.5$, $\\gamma = 1.0.$ These parameters generate stable patterns in  the system in the form of re--entrant spiral waves.\n",
    "\n",
    "$S$ is a stimulus that we use to perturb the system."
   ]
  },
  {
   "attachments": {},
   "cell_type": "markdown",
   "metadata": {},
   "source": [
    " # Semi-discrete problem and weak formulation"
   ]
  },
  {
   "attachments": {},
   "cell_type": "markdown",
   "metadata": {},
   "source": [
    "At each time step we have the semidiscretized system to solve:\n",
    "\n",
    "\\begin{align}\n",
    "\\frac{u^n - u^{n-1}}{\\Delta t} &= D \\Delta u^n + u^n(1-u^n)(u^n-a) - v^n + S  \\qquad \\text{ for } x \\in \\Omega \\text{ and for } t \\in [0, T], \\\\\n",
    "\\frac{v^n - v^{n-1}}{\\Delta t} &= \\epsilon (\\beta u^n - \\gamma v^n) \\qquad x \\in \\Omega \\text{ and for } t \\in [0, T]\n",
    "\\end{align}\n",
    "\n",
    "The weak formulation reads as follows:\n",
    "\n",
    "Find $u^n$, $v^n$ s.t. \n",
    "\n",
    "\\begin{align}\n",
    "\\langle \\frac{u^n - u^{n-1}}{\\Delta t}, \\psi_u \\rangle &= - D \\langle \\nabla u^n, \\nabla \\psi_u \\rangle + \\langle u^n(1-u^n)(u^n-a), \\psi_u \\rangle - \\langle v^n, \\psi_u \\rangle + \\langle S, \\psi_u \\rangle \\qquad \\text{ for } x \\in \\Omega \\text{ and for } t \\in [0, T], \\\\\n",
    "\\langle \\frac{v^n - v^{n-1}}{\\Delta t}, \\psi_v\\rangle &= \\epsilon (\\beta \\langle u^n, \\psi_v \\rangle - \\langle \\gamma v^n, \\psi_v \\rangle ) \\qquad x \\in \\Omega \\text{ and for } t \\in [0, T]  \\text{ and for all} \\quad \\psi_u, \\psi_v\n",
    "\\end{align}"
   ]
  },
  {
   "attachments": {},
   "cell_type": "markdown",
   "metadata": {},
   "source": [
    "## FEniCS implementation"
   ]
  },
  {
   "attachments": {},
   "cell_type": "markdown",
   "metadata": {},
   "source": [
    "First, we define our domain and finite elements. We have a system of two equations, therefore we will use a Mixed Function Space where the first component is $u$ and the second is $v$."
   ]
  },
  {
   "cell_type": "code",
   "execution_count": 1,
   "metadata": {
    "collapsed": true,
    "jupyter": {
     "outputs_hidden": true
    }
   },
   "outputs": [
    {
     "name": "stderr",
     "output_type": "stream",
     "text": [
      "Authorization required, but no authorization protocol specified\n",
      "Authorization required, but no authorization protocol specified\n"
     ]
    }
   ],
   "source": [
    "from dolfin import *\n",
    "%matplotlib inline\n",
    "import pylab\n",
    "\n",
    "# Define the mesh\n",
    "N = 32\n",
    "mesh = RectangleMesh(Point(0, 0), Point(2.5, 2.5), N, N)\n",
    "\n",
    "# Define the mixed finite elements\n",
    "Ue = FiniteElement(\"Lagrange\", mesh.ufl_cell(), 1)\n",
    "Us = FunctionSpace(mesh, Ue)\n",
    "\n",
    "element = MixedElement([Ue, Ue])\n",
    "ME = FunctionSpace(mesh, element)\n",
    "\n",
    "\n",
    "# Lower the log level to get more verbose output\n",
    "set_log_level(40)"
   ]
  },
  {
   "attachments": {},
   "cell_type": "markdown",
   "metadata": {},
   "source": [
    "We need to define our stimulus $S$ and boundary conditions: "
   ]
  },
  {
   "cell_type": "code",
   "execution_count": 2,
   "metadata": {
    "collapsed": true,
    "jupyter": {
     "outputs_hidden": true
    }
   },
   "outputs": [],
   "source": [
    "def BC_U_and_stim(t):\n",
    "    ## returns tuple of BCs to apply (to V) and stimulus term at time t\n",
    "    ## What happens when you play with this parameters?\n",
    "    start_stim_end_time = 6\n",
    "    stimstarttime = 150\n",
    "    stimduration = 6.\n",
    "    stimamp = 0.8\n",
    "    \n",
    "    if t < start_stim_end_time:\n",
    "        # set a Dirichlet boundary condition of u=1 at left edge of the domain, but no stimulus term S\n",
    "        subdomain = CompiledSubDomain(\"near(x[0], 0) && on_boundary\")\n",
    "        return [DirichletBC(ME.sub(0), Constant(1), subdomain)], Constant(0)\n",
    "    \n",
    "    elif t > stimstarttime and t < stimstarttime + stimduration:\n",
    "        # have no Dirichlet boundary conditions, but a stimulus in the bottom left quarter of the domain\n",
    "        class Stimulus(UserExpression):\n",
    "            def eval(self, value, x):\n",
    "                if x[0] < 1.25 and x[1] < 1.25:\n",
    "                    value[0] = stimamp\n",
    "                else:\n",
    "                    value[0] = 0\n",
    "\n",
    "            def value_shape(self):\n",
    "                return ()\n",
    "        return [], Stimulus(degree=0)\n",
    "\n",
    "    else:\n",
    "        # no stimulus and no Dirichlet boundrary conditions\n",
    "        return [], Constant(0)\n"
   ]
  },
  {
   "attachments": {},
   "cell_type": "markdown",
   "metadata": {},
   "source": [
    "For each time step we need to solve a linear system. We define parameters, trial and test functions, and weak formulation. In FEniCS it is possible to obtain the Jacobian of the nonlinear equations automatically:"
   ]
  },
  {
   "cell_type": "code",
   "execution_count": 3,
   "metadata": {
    "collapsed": true,
    "jupyter": {
     "outputs_hidden": true
    }
   },
   "outputs": [],
   "source": [
    "def solve_single_timestep(Up, t, dt, theta=1):\n",
    "    \"\"\"\n",
    "    Solve for a single time step\n",
    "\n",
    "    Args:\n",
    "        Up: Solution from previous tiem step\n",
    "        t: Current simulation time\n",
    "        dt: Size of time step\n",
    "        theta: Choose discretization method (1=implicit Euler, 0.5=Crank-Nicholson, 0=Explicit Euler)\n",
    "    \"\"\"\n",
    "    u_p, v_p = Up.sub(0), Up.sub(1)\n",
    "    U = Function(ME)\n",
    "    dU = TrialFunction(ME)\n",
    "    psiU = TestFunction(ME)\n",
    "\n",
    "    u, v = split(U)\n",
    "    psiu, psiv = split(psiU)\n",
    "\n",
    "\n",
    "    a = Constant(0.1)\n",
    "    eps = Constant(0.01)\n",
    "    beta = Constant(0.5)\n",
    "    gamma = Constant(1)\n",
    "    D = Constant(1E-4)\n",
    "    dtc = Constant(dt)\n",
    "    \n",
    "    bcs, stim = BC_U_and_stim(t)\n",
    " \n",
    "    def RHS_E1(v, w):\n",
    "        return - D*inner(grad(u), grad(psiu)) + psiu *u*(1-u)*(u-a)  - w*psiu  + stim*psiu\n",
    "    def RHS_E2(v, w):\n",
    "        return eps*(beta*v - gamma*w)*psiv\n",
    "        \n",
    "    F1 = (u - u_p)/dtc * psiu * dx - (theta * RHS_E1(u, v_p) + (1-theta) * RHS_E1(u_p, v_p)) * dx\n",
    "    F2 = (v - v_p)/dtc * psiv * dx - (theta * RHS_E2(u, v) + (1-theta) * RHS_E2(u_p, v_p)) * dx\n",
    "\n",
    "    F = F1 + F2\n",
    "    \n",
    "    # Automatic differentiation! Isn't it cool?\n",
    "    J = derivative(F, U, dU)\n",
    "    \n",
    "    # Define non linear variational problem\n",
    "    problem = NonlinearVariationalProblem(F, U, bcs, J)\n",
    "    \n",
    "    # Assign initial guess to Newton solver\n",
    "    # Try to remove this, what happens?\n",
    "    assign(U.sub(0), u_p)\n",
    "    assign(U.sub(1), v_p)\n",
    "\n",
    "    # Newton solver\n",
    "    solver = NonlinearVariationalSolver(problem)\n",
    "    niter, _ = solver.solve()\n",
    "\n",
    "    return niter, U\n"
   ]
  },
  {
   "attachments": {},
   "cell_type": "markdown",
   "metadata": {},
   "source": [
    "Once we defined the weak formulation and the nonlinear solver we can solve our equations for $t \\leq T$:"
   ]
  },
  {
   "cell_type": "code",
   "execution_count": 4,
   "metadata": {},
   "outputs": [
    {
     "name": "stderr",
     "output_type": "stream",
     "text": [
      "t=504.00, number of Newton iterations= 6: : 126it [00:06, 18.69it/s]\n"
     ]
    }
   ],
   "source": [
    "import tqdm\n",
    "# initial conditions\n",
    "U = Function(ME)\n",
    "\n",
    "# run solver\n",
    "\n",
    "# optional saving to file\n",
    "# fv = XDMFFile(\"output/u.xdmf\")\n",
    "# fw = XDMFFile(\"output/v.xdmf\")\n",
    "\n",
    "t = 0\n",
    "dt = 4.\n",
    "T = 500\n",
    "\n",
    "U_sol = {}\n",
    "n = 0\n",
    "progress_bar_solver = tqdm.tqdm(int(T/dt), desc=\"Solving time dependent problem\")\n",
    "while t <= T:\n",
    "    progress_bar_solver.update(1)\n",
    "\n",
    "    t += dt\n",
    "    n += 1\n",
    "    niter, U = solve_single_timestep(U, t, dt)\n",
    "    U_sol[n] = (t, U.copy())\n",
    "    progress_bar_solver.set_description(f\"t={t:4.2f}, number of Newton iterations={niter:2.0f}\")\n",
    "    # save to file\n",
    "    # u_p, v_p = U.split(deepcopy=True)\n",
    "    # u_p.rename(\"u\", \"name\")\n",
    "    # v_p.rename(\"v\", \"name\")\n",
    "    # fv.write(u_p, t)\n",
    "    # fw.write(v_p, t)\n",
    "# fv.close()\n",
    "# fw.close()\n",
    "progress_bar_solver.close()\n"
   ]
  },
  {
   "cell_type": "code",
   "execution_count": 5,
   "metadata": {},
   "outputs": [
    {
     "name": "stderr",
     "output_type": "stream",
     "text": [
      "Creating animation:  58%|█████▊    | 73/126 [00:34<00:46,  1.15it/s]"
     ]
    }
   ],
   "source": [
    "# from ipywidgets import interact, interactive, IntSlider\n",
    "\n",
    "import itertools\n",
    "import matplotlib.pyplot as plt\n",
    "from matplotlib import animation\n",
    "from IPython.display import HTML\n",
    "from functools import partial\n",
    "fig = plt.figure()\n",
    "\n",
    "N_frames = len(U_sol.keys()) \n",
    "\n",
    "def animate(i, progress_bar):\n",
    "    progress_bar.update(1)\n",
    "    t, U = U_sol[i+1]\n",
    "    \n",
    "    pylab.subplot(1, 2, 1)\n",
    "    c1 = plot(U.sub(0)).collections\n",
    "    plt.title(f\"Potential at time t={t:0>4}\")\n",
    "    \n",
    "    pylab.subplot(1, 2, 2)\n",
    "    c2 = plot(U.sub(1)).collections\n",
    "    plt.title(f\"Recovery at time t={t:0>4}\")\n",
    "    \n",
    "    return itertools.chain(c1, c2)\n",
    "\n",
    "progress_bar = tqdm.tqdm(total=N_frames, desc=\"Creating animation\")\n",
    "anim = animation.FuncAnimation(fig, partial(animate, progress_bar=progress_bar),\n",
    "                               frames=len(U_sol.keys()), interval=100, blit=True)\n",
    "\n",
    "\n",
    "# cool animation\n",
    "HTML(anim.to_jshtml())\n",
    "progress_bar.close()\n",
    "\n",
    "\n",
    "# slidable movie\n",
    "# slider = IntSlider(min=min(U_sol.keys())-1, max=max(U_sol.keys())-1,continuous_update=False)\n",
    "# slider.layout.width = \"80%\"\n",
    "# interact(animate,i=slider)"
   ]
  },
  {
   "cell_type": "code",
   "execution_count": null,
   "metadata": {},
   "outputs": [],
   "source": []
  }
 ],
 "metadata": {
  "kernelspec": {
   "display_name": "Python 3 (ipykernel)",
   "language": "python",
   "name": "python3"
  },
  "language_info": {
   "codemirror_mode": {
    "name": "ipython",
    "version": 3
   },
   "file_extension": ".py",
   "mimetype": "text/x-python",
   "name": "python",
   "nbconvert_exporter": "python",
   "pygments_lexer": "ipython3",
   "version": "3.10.6"
  }
 },
 "nbformat": 4,
 "nbformat_minor": 4
}
