{
 "cells": [
  {
   "cell_type": "markdown",
   "id": "434e57d6",
   "metadata": {
    "editable": true
   },
   "source": [
    "<!-- File automatically generated using DocOnce (https://github.com/doconce/doconce/):\n",
    "doconce format ipynb Synapses.do.txt --no_abort -->\n",
    "\n",
    "## Synapses\n",
    "<!-- The synapse: receptors: NMDA, GABA, AMPA -->\n",
    "<!-- FIGURE: [figures/synapse.svg] <div id=\"fig:synapse\"></div> -->"
   ]
  },
  {
   "cell_type": "markdown",
   "id": "97684ebb",
   "metadata": {
    "editable": true
   },
   "source": [
    "## Conductance based synapse models\n",
    "Conductance-based synapses, examine the ion flow dynamics under synaptic transmission. \n",
    "Synapses, serving as communication points between neurons, \n",
    "experience conductance changes over time due to neurotransmitter release or pre-synaptic voltage changes.\n",
    "\n",
    "During synaptic activation, the membrane potential experiences a rapid and transient change, leading to excitatory \n",
    "postsynaptic potential (EPSP) or inhibitory postsynaptic potential (IPSP). This is driven by postsynaptic currents (PSCs) \n",
    "triggered by pre-synaptic cell spiking activity.\n",
    "\n",
    "Neurotransmitters stored in vesicles in the pre-synaptic terminal are released into the synaptic cleft upon \n",
    "action potential invasion. This process, facilitated by calcium ions, triggers the binding of the neurotransmitter \n",
    "to postsynaptic receptors, causing postsynaptic membrane potential changes.\n",
    "\n",
    "In conductance-based models, post synaptic conductance is impacted by the ion flow across the neuron's membrane. \n",
    "It's determined by the maximum conductance and the proportion of open channels, influenced by various factors \n",
    "including neurotransmitter amount, post-synaptic cell state, and previous synaptic activity.\n",
    "\n",
    "Conductance-based synapses showcase phenomena like short-term plasticity, facilitation, and depression. \n",
    "They offer detailed insights into synaptic dynamics, including ion channel kinetics and pre- and post-synaptic \n",
    "interactions. They are beneficial for comprehending synaptic transmission, synaptic plasticity, and \n",
    "their roles in neural network dynamics.\n",
    "\n",
    "Synaptic conductance can be presented as a product of maximum conductance and open channel probability ($g_s = \\hat{g}_s P$). \n",
    "Open probability can be split into two terms, $P = P_s P_{rel}$, reflecting pre- and post-synaptic activities. $P_s$ \n",
    "represents the probability of postsynaptic channel opening, given neurotransmitter release from the presynaptic terminal. \n",
    "$P_s$ can be considered as the fraction of opened channels due to the transmitter.\n",
    "\n",
    "At central synapses, each synaptic bouton typically contains just a few active release zones. \n",
    "Thus, when an action potential reaches a distinct anatomically recognized synapse, usually no more than one \n",
    "vesicle is released. This implies that the probability of release $P_{rel}$, \n",
    "plays a significant role in determining whether a presynaptic action potential translates into a postsynaptic signal. \n",
    "In vitro studies suggest that the release probability at an individual synapse, both in vertebrates and invertebrates, \n",
    "can vary greatly, typically ranging from 0.1 to 0.9.\n",
    "Remember that the probability statement here is a statement about the probability of release of a single vesicle, which \n",
    "is a mean value over many trials. The probability of release of a single vesicle in reality dictates a stochastic process,\n",
    "where synapse activation is a random event, with potentially many failures.\n",
    "\n",
    "In a simplified model of a directly activated receptor channel, the transmitter binds to a closed receptor and opens \n",
    "it through a binding reaction, using $k$ transmitter molecules. \n",
    "Conversely, the transmitter molecules unbind from the receptor, causing it to close. \n",
    "These processes mirror the gating of a voltage-dependent channel, and can be represented by the same type of equation to \n",
    "describe how the open probability $P_s$ changes over time:"
   ]
  },
  {
   "cell_type": "markdown",
   "id": "24ed791b",
   "metadata": {
    "editable": true
   },
   "source": [
    "<!-- Equation labels as ordinary links -->\n",
    "<div id=\"eq:post_conductance\"></div>\n",
    "\n",
    "$$\n",
    "\\begin{equation}\n",
    "\\frac{dP_s}{dt} = \\alpha_s (1 - P_s) - \\beta_s P_s\n",
    "\\label{eq:post_conductance} \\tag{1}\n",
    "\\end{equation}\n",
    "$$"
   ]
  },
  {
   "cell_type": "markdown",
   "id": "b845e418",
   "metadata": {
    "editable": true
   },
   "source": [
    "Here, $\\beta_s$ is the channel closing rate and is often considered a constant, whereas $\\alpha_s$ depends on the available transmitter \n",
    "concentration for receptor binding. Given that the concentration of the transmitter at the synaptic channel site is $[\\text{{transmitter}}]$, \n",
    "the probability of finding $k$ transmitter molecules within the channel's binding range is proportional to $[\\text{{transmitter}}]^k$, \n",
    "and $\\alpha_s$ is a proportionality constant times this factor.\n",
    "\n",
    "An action potential invading the presynaptic terminal increases the transmitter concentration and $\\alpha_s$ value, thus boosting $P_s$. \n",
    "However, following transmitter release, its concentration can rapidly diminish due to diffusion out of the cleft, \n",
    "enzyme-mediated degradation, and presynaptic uptake mechanisms, resulting in a zero $\\alpha_s$ value and an exponential decay of $P_s$ \n",
    "with a time constant $1/\\beta_s$. The channel closing time constant is usually larger than the opening time.\n",
    "\n",
    "The simplest post-synaptic conductance can be modeled considering $P_s$ decaying exponentially to zero following the equation:"
   ]
  },
  {
   "cell_type": "markdown",
   "id": "ef2efe64",
   "metadata": {
    "editable": true
   },
   "source": [
    "<!-- Equation labels as ordinary links -->\n",
    "<div id=\"_auto1\"></div>\n",
    "\n",
    "$$\n",
    "\\begin{equation}\n",
    "\\frac{dP_s}{dt} = - \\frac{P_s}{\\tau_s}\n",
    "\\label{_auto1} \\tag{2}\n",
    "\\end{equation}\n",
    "$$"
   ]
  },
  {
   "cell_type": "markdown",
   "id": "734419e7",
   "metadata": {
    "editable": true
   },
   "source": [
    "and immediately after each presynaptic action potential, the replacement is made as:"
   ]
  },
  {
   "cell_type": "markdown",
   "id": "d761ed95",
   "metadata": {
    "editable": true
   },
   "source": [
    "<!-- Equation labels as ordinary links -->\n",
    "<div id=\"_auto2\"></div>\n",
    "\n",
    "$$\n",
    "\\begin{equation}\n",
    "P_s \\leftarrow P_s + P_{max} (1 - P_s)\n",
    "\\label{_auto2} \\tag{3}\n",
    "\\end{equation}\n",
    "$$"
   ]
  },
  {
   "cell_type": "markdown",
   "id": "181f21ff",
   "metadata": {
    "editable": true
   },
   "source": [
    "Conductance-based synapses provide intricate synaptic dynamics, including ion channel kinetics and the complex \n",
    "interplay between pre- and post-synaptic activity. They help understand synaptic transmission, various forms of \n",
    "synaptic plasticity, and synapses' role in neural network dynamics. \n",
    "Notably, phenomena such as shunting inhibition, saturation, short-term plasticity, \n",
    "facilitation, or depression can be observed, where synapse responsiveness changes due to past activity.\n",
    "\n",
    "Conductance based synapses can be added to the integrate and fire neuron by"
   ]
  },
  {
   "cell_type": "markdown",
   "id": "49b8f3a4",
   "metadata": {
    "editable": true
   },
   "source": [
    "$$\n",
    "\\begin{align*}\n",
    "C_m \\frac{\\mathrm{d}u}{\\mathrm{d}t} = \\sum_i g_i(t) (E_i - u) + g_l(u_{rest} - u),\n",
    "\\end{align*}\n",
    "$$"
   ]
  },
  {
   "cell_type": "markdown",
   "id": "79cae0fb",
   "metadata": {
    "editable": true
   },
   "source": [
    "where $g_i(t)$ is the synaptic conductance of the $i$-th synapse, $E_i$ is the reversal potential of the $i$-th synapse, \n",
    "and $I_i=g_i(t) (E_i - u)$ is the synaptic current.\n",
    "\n",
    "In many cases the synaptic conductance is modeled as a sum of two exponential functions, one for the rise and one for the decay:\n",
    "Three commonly used waveform equations are illustrated below (a) single exponential decay, (b) alpha function, and \n",
    "(c) dual exponential function:"
   ]
  },
  {
   "cell_type": "markdown",
   "id": "5bb7bf31",
   "metadata": {
    "editable": true
   },
   "source": [
    "<!-- Equation labels as ordinary links -->\n",
    "<div id=\"eq:exp_decay\"></div>\n",
    "\n",
    "$$\n",
    "\\begin{equation}\n",
    "g_{\\text{syn}}(t) = \\bar{g}_{\\text{syn}} \\exp \\left( \\frac{t - t_s}{\\tau} \\right)\n",
    "\\label{eq:exp_decay} \\tag{4}\n",
    "\\end{equation}\n",
    "$$"
   ]
  },
  {
   "cell_type": "markdown",
   "id": "d6497b3e",
   "metadata": {
    "editable": true
   },
   "source": [
    "<!-- Equation labels as ordinary links -->\n",
    "<div id=\"eq:alpha_function\"></div>\n",
    "\n",
    "$$\n",
    "\\begin{equation} \n",
    "g_{\\text{syn}}(t) = \\bar{g}_{\\text{syn}} \\frac{t - t_s}{\\tau} \\exp \\left( \\frac{t - t_s}{\\tau} \\right)\n",
    "\\label{eq:alpha_function} \\tag{5}\n",
    "\\end{equation}\n",
    "$$"
   ]
  },
  {
   "cell_type": "markdown",
   "id": "fc2f557f",
   "metadata": {
    "editable": true
   },
   "source": [
    "<!-- Equation labels as ordinary links -->\n",
    "<div id=\"eq:dual_exp\"></div>\n",
    "\n",
    "$$\n",
    "\\begin{equation} \n",
    "g_{\\text{syn}}(t) = \\bar{g}_{\\text{syn}} \\frac{\\tau_1 \\tau_2}{\\tau_1 - \\tau_2} \\left( \\exp \\left( \\frac{t - t_s}{\\tau_1} \\right) - \\exp \\left( \\frac{t - t_s}{\\tau_2} \\right) \\right)\n",
    "\\label{eq:dual_exp} \\tag{6}\n",
    "\\end{equation}\n",
    "$$"
   ]
  },
  {
   "cell_type": "markdown",
   "id": "1971df85",
   "metadata": {
    "editable": true
   },
   "source": [
    "where $t,t_s$ denotes time and spike time respectively.\n",
    "\n",
    "The synaptic conductance $\\bar{g}_{\\text{syn}}$ is the maximum conductance change at the synapse, and $\\tau$ is the time constant of the\n",
    "synaptic conductance change. The time constant $\\tau$ is related to the rise and fall times of the synaptic conductance waveform.\n",
    "The alpha and dual exponential waveforms are more realistic representations of the conductance change at a typical synapse, \n",
    "and good fits of PSC using these functions for $g_{\\text{syn}}(t)$ can often be obtained to recorded synaptic currents. \n",
    "The dual exponential is needed when the rise and fall times must be set independently.\n",
    "We typically use the alpha function to model the synaptic conductance.\n",
    "\n",
    "The types of synapses are classified by the neurotransmitter they release.\n",
    "We typically separate synapses into two classes: excitatory and inhibitory, where each class have many types\n",
    "of synapses, with two main types for each.\n",
    "\n",
    "Biologists distinguish between two major types of inhibitory synapse, called GABAA\n",
    "and GABAB. Both synapse types use GABA as the neurotransmitter. \n",
    "GABAA channels are ionotropic and open exclusively for chloride ions, whereas GABAB\n",
    "synapses have metabotropic receptors that trigger a comparatively slow signaling chain ultimately leading to the opening of K+\n",
    "channels. Consequently the value of the synaptic reversal potential $E_{syn}$ depends for GABAA\n",
    "synapses on the concentration of chloride ions inside and outside the cell, while that of GABAB\n",
    "synapses depends on the potassium concentrations.\n",
    "\n",
    "Most excitatory synapses in the vertebrate central nervous system rely on glutamate as their neurotransmitter. \n",
    "The postsynaptic receptors, however, can have very different pharmacological properties and different types of \n",
    "glutamate receptor units can be present in a single synapse. These receptors are classified using artificial \n",
    "drugs such as NMDA or AMPA that act as selective agonists. NMDA (N-methyl-D-aspartate) binds to channels with \n",
    "NMDA receptors, but not to other glutamate receptors. The most prominent among those glutamate receptors that do not \n",
    "respond to NMDA are the AMPA-receptors. AMPA is an artificial glutamate. Channels with AMPA-sensitive receptors \n",
    "are called 'AMPA channels' because these channels react to AMPA, whereas channels with NMDA-sensitive receptors do \n",
    "not open upon application of AMPA. However, both NMDA and AMPA channels react to the natural form of glutamate \n",
    "that the nervous system uses as neurotransmitter."
   ]
  },
  {
   "cell_type": "markdown",
   "id": "f2892a6e",
   "metadata": {
    "editable": true
   },
   "source": [
    "## Exercise 1: Familiarize yourself with the different synapses\n",
    "\n",
    "The below code showcase the simulation of a single neuron with conductance based synapses and these different types of \n",
    "synapses. Discuss the differences between these synapses and how they affect the neuron's behavior."
   ]
  },
  {
   "cell_type": "code",
   "execution_count": 1,
   "id": "e788669a",
   "metadata": {
    "collapsed": false,
    "editable": true
   },
   "outputs": [],
   "source": [
    "%matplotlib inline\n",
    "\n",
    "import numpy as np\n",
    "import matplotlib.pyplot as plt\n",
    "from scipy.integrate import odeint\n",
    "\n",
    "# Parameters\n",
    "tau_decay_gabaa = 1  # ms\n",
    "tau_rise_gabab = 40  # ms\n",
    "tau_decay_gabab = 200  # ms\n",
    "tau_decay_ampa = 2  # ms\n",
    "tau_rise_nmda = 8  # ms\n",
    "tau_decay_nmda = 60  # ms\n",
    "alpha_nmda = 0.062  # mV^-1\n",
    "beta_nmda = 1 / 3.57  # mM^-1\n",
    "mg_concentration = 1.2  # mM\n",
    "\n",
    "E_gabaa = -75  # mV\n",
    "E_gabab = -90  # mV\n",
    "E_ampa = 0  # mV\n",
    "E_nmda = 0  # mV\n",
    "g_syn_bar_gabaa = 18\n",
    "g_syn_bar_gabab = .05\n",
    "g_syn_bar_ampa = 5\n",
    "g_syn_bar_nmda = 2\n",
    "\n",
    "u_rest = -65  # mV\n",
    "u_threshold = -50\n",
    "g_l = 10\n",
    "C_m = 200\n",
    "\n",
    "\n",
    "# Functions\n",
    "def heaviside(t):\n",
    "    return np.array(t >= 0, dtype=float)\n",
    "\n",
    "def nmda_g_inf(u, mg):\n",
    "    return 1 / (1 + beta_nmda * np.exp(-alpha_nmda * u) * mg)\n",
    "\n",
    "def g_syn_exp(t, g_syn_bar, tau):\n",
    "    return g_syn_bar * np.exp(-t/tau)* heaviside(t)\n",
    "\n",
    "def g_syn_alpha(t, g_syn_bar, tau):\n",
    "    return g_syn_bar * t/tau * np.exp(-t/tau)* heaviside(t)\n",
    "\n",
    "def g_syn_double_exp(t, g_syn_bar, tau1, tau2):\n",
    "    return g_syn_bar * tau1*tau2/(tau1-tau2) * (np.exp(-t/tau1) - np.exp(-t/tau2))* heaviside(t)\n",
    "\n",
    "def synaptic_current(u, g_syn, E_syn):\n",
    "    return g_syn * (E_syn - u)\n",
    "\n",
    "def du_dt_membrane(u, t, u_rest, g_l, C, inputs):\n",
    "    input_currents = [I_syn(u, t-t_spike) for I_syn, t_spikes in inputs for t_spike in t_spikes]\n",
    "    dudt = (sum(input_currents) + g_l*(u_rest - u)) / C\n",
    "    return dudt\n",
    "\n",
    "# Time vector\n",
    "time = np.arange(0, 1000, 0.5)\n",
    "\n",
    "gabaa_current = lambda u,t: synaptic_current(\n",
    "    u, \n",
    "    g_syn_alpha(t, g_syn_bar_gabaa, tau_decay_gabaa), \n",
    "    E_gabaa\n",
    ")\n",
    "gabab_current = lambda u,t: synaptic_current(\n",
    "    u, \n",
    "    g_syn_double_exp(t, g_syn_bar_gabab, tau_rise_gabab, tau_decay_gabab), \n",
    "    E_gabab\n",
    ")\n",
    "ampa_current = lambda u,t: synaptic_current(\n",
    "    u, \n",
    "    g_syn_exp(t, g_syn_bar_ampa, tau_decay_ampa), \n",
    "    E_ampa\n",
    ")\n",
    "nmda_current = lambda u,t: synaptic_current(\n",
    "    u, \n",
    "    g_syn_double_exp(t, g_syn_bar_nmda, tau_rise_nmda, tau_decay_nmda)*nmda_g_inf(u, mg_concentration), \n",
    "    E_nmda\n",
    ")\n",
    "\n",
    "inputs = [(gabaa_current, [10]), (gabab_current, [100]), (ampa_current, [500]), (nmda_current, [700])]\n",
    "\n",
    "u_sol = odeint(du_dt_membrane, u_rest, time, args=(u_rest, g_l, C_m, inputs))\n",
    "\n",
    "plt.figure()\n",
    "plt.plot(time, u_sol)\n",
    "plt.xlabel('Time (ms)')\n",
    "plt.ylabel('Post-synaptic potential (PSP) (mV)')\n",
    "\n",
    "plt.figure()\n",
    "for (I_syn, t_spikes), label in zip(inputs, ['GABAA', 'GABAB', 'AMPA', 'NMDA']):\n",
    "    plt.plot(time, sum([I_syn(u_rest, time - t_spike) for t_spike in t_spikes]), label=label)\n",
    "plt.legend()\n",
    "plt.xlabel('Time (ms)')\n",
    "plt.ylabel('Post-synaptic current (nA)')"
   ]
  },
  {
   "cell_type": "markdown",
   "id": "8342c095",
   "metadata": {
    "editable": true
   },
   "source": [
    "## Exercise 2: Differential expression of synapses\n",
    "\n",
    "An example of a post-synaptic current (PSC) is the $\\alpha$-function given by ([5](#eq:alpha_function)).\n",
    "This equation can be reformulated as the following ODE:"
   ]
  },
  {
   "cell_type": "markdown",
   "id": "61e3189b",
   "metadata": {
    "editable": true
   },
   "source": [
    "$$\n",
    "\\begin{align*}\n",
    "\\frac{\\mathrm{d}g}{\\mathrm{d}t} &= (g - x) / \\tau\n",
    "\\frac{dx}{dt} &= -\\frac{x}{\\tau}\n",
    "g \\leftarrow x + w_i\\, \\text{after a spike from node i}\n",
    "\\end{align*}\n",
    "$$"
   ]
  },
  {
   "cell_type": "markdown",
   "id": "4286e2b8",
   "metadata": {
    "editable": true
   },
   "source": [
    "To verify the equivalence of these two formulations, consider a single synapse and a single spike at time 0. \n",
    "The initial conditions at $t=0$ will be $g_0 = 0$, $x_0 = 1$.\n",
    "\n",
    "To solve these equations, let's substitute $s=t/\\tau$ and differentiate with respect to $s$ instead of $t$.\n",
    "We obtain the equations $\\frac{\\mathrm{d}g}{\\mathrm{d}s} = x-g$, $\\frac{\\mathrm{d}x}{\\mathrm{d}s} = -x$."
   ]
  },
  {
   "cell_type": "markdown",
   "id": "8ff51ef3",
   "metadata": {
    "editable": true
   },
   "source": [
    "In Brian2 the exponential synapse can be inplemented by\n",
    "\n",
    "**Exponential synapse:**"
   ]
  },
  {
   "cell_type": "code",
   "execution_count": 2,
   "id": "6cf97612",
   "metadata": {
    "collapsed": false,
    "editable": true
   },
   "outputs": [],
   "source": [
    "model = '''\n",
    "dg/dt = -g/tau : 1\n",
    "'''\n",
    "on_pre = 'g += w'"
   ]
  },
  {
   "cell_type": "markdown",
   "id": "bfba9600",
   "metadata": {
    "editable": true
   },
   "source": [
    "Write a similar solution for the $\\alpha$-function and dual exponential synapse.\n",
    "\n",
    "<!-- --- begin solution of exercise --- -->\n",
    "**Solution.**\n",
    "**Alpha synapse:**"
   ]
  },
  {
   "cell_type": "code",
   "execution_count": 3,
   "id": "772207c6",
   "metadata": {
    "collapsed": false,
    "editable": true
   },
   "outputs": [],
   "source": [
    "model = '''\n",
    "dg/dt = (x-g)/tau : 1\n",
    "dx/dt = -x/tau    : 1\n",
    "'''\n",
    "on_pre = 'x += w'"
   ]
  },
  {
   "cell_type": "markdown",
   "id": "6b9f05ba",
   "metadata": {
    "editable": true
   },
   "source": [
    "where $x$ reaches a maximum value of $w$ at time $\\tau$.\n",
    "\n",
    "**Dual exponential synapse:**"
   ]
  },
  {
   "cell_type": "code",
   "execution_count": 4,
   "id": "62390cd5",
   "metadata": {
    "collapsed": false,
    "editable": true
   },
   "outputs": [],
   "source": [
    "model = '''\n",
    "dg/dt = ((tau_2 / tau_1) ** (tau_1 / (tau_2 - tau_1))*x-g)/tau_1 : 1\n",
    "dx/dt = -x/tau_2                                                 : 1\n",
    "'''\n",
    "on_pre = 'x += w'"
   ]
  },
  {
   "cell_type": "markdown",
   "id": "9e2f13f4",
   "metadata": {
    "editable": true
   },
   "source": [
    "where $x$ reaches a maximum value of $w$ at time $\\tau_1 \\ln(\\tau_2 / \\tau_1)$.\n",
    "<!-- --- end solution of exercise --- -->"
   ]
  },
  {
   "cell_type": "markdown",
   "id": "637e9cb0",
   "metadata": {
    "editable": true
   },
   "source": [
    "## Exercise 3: Implement the NMDA synapse in a LIF neuron using Brian2\n",
    "\n",
    "The NMDA (N-methyl-D-aspartate) receptor is a type of ionotropic glutamate receptor that plays a crucial role in synaptic plasticity and memory function. The conductance of NMDA receptors is voltage-dependent and also influenced by the extracellular concentration of magnesium ions.\n",
    "\n",
    "The steady-state conductance of NMDA receptors can be expressed as:"
   ]
  },
  {
   "cell_type": "markdown",
   "id": "e9fc1973",
   "metadata": {
    "editable": true
   },
   "source": [
    "<!-- Equation labels as ordinary links -->\n",
    "<div id=\"_auto3\"></div>\n",
    "\n",
    "$$\n",
    "\\begin{equation}\n",
    "G_{\\text{Mg}}(u) = \\frac{1}{1 + \\beta_{\\text{nmda}} e^{-\\alpha_{\\text{nmda}} u} [\\text{Mg}]}\n",
    "\\label{_auto3} \\tag{7}\n",
    "\\end{equation}\n",
    "$$"
   ]
  },
  {
   "cell_type": "markdown",
   "id": "47789d03",
   "metadata": {
    "editable": true
   },
   "source": [
    "where $u$ is the membrane potential, $[\\text{mg}]$ is the extracellular magnesium concentration, and \n",
    "$\\alpha_{\\text{nmda}}$ and $\\beta_{\\text{nmda}}$ are constants.\n",
    "\n",
    "The synaptic conductance of an NMDA receptors is:"
   ]
  },
  {
   "cell_type": "markdown",
   "id": "4312273d",
   "metadata": {
    "editable": true
   },
   "source": [
    "<!-- Equation labels as ordinary links -->\n",
    "<div id=\"_auto4\"></div>\n",
    "\n",
    "$$\n",
    "\\begin{equation}\n",
    "g_{\\text{nmda}}(u, t) = g_{\\text{syn}}(t) G_{\\text{Mg}}(u)\n",
    "\\label{_auto4} \\tag{8}\n",
    "\\end{equation}\n",
    "$$"
   ]
  },
  {
   "cell_type": "markdown",
   "id": "398d9cc2",
   "metadata": {
    "editable": true
   },
   "source": [
    "We can implement this in brian2 as follows:"
   ]
  },
  {
   "cell_type": "code",
   "execution_count": 5,
   "id": "b87643d6",
   "metadata": {
    "collapsed": false,
    "editable": true
   },
   "outputs": [],
   "source": [
    "from brian2 import *\n",
    "start_scope()\n",
    "\n",
    "# Simulation parameters\n",
    "duration = 0.5*second\n",
    "dt = 0.001*ms\n",
    "defaultclock.dt = dt\n",
    "\n",
    "# Neuron parameters\n",
    "u_rest = -65*mV  # mV\n",
    "g_l = 10*uS\n",
    "C_m = 200*pF\n",
    "\n",
    "# Synapse parameters\n",
    "E_nmda = 0*mV\n",
    "tau_1 = 8*ms\n",
    "tau_2 = 60*ms\n",
    "g_syn_max = 100*uS\n",
    "Mg = 1*mM\n",
    "\n",
    "eqs = '''\n",
    "du/dt = code here\n",
    "G_mg = 1 / (1 + Mg/(3.57*mM)*exp(-u/(16.3*mV))) : 1\n",
    "'''\n",
    "model = '''\n",
    "dx/dt = code here\n",
    "dg/dt = code here\n",
    "'''\n",
    "\n",
    "neurons = NeuronGroup(1, eqs, method='rk4')\n",
    "neurons.u = u_rest\n",
    "indices = array([0])\n",
    "times = array([100])*ms  # Set up your spike times here\n",
    "spikes = SpikeGeneratorGroup(1, indices, times)\n",
    "S_NMDA = Synapses(spikes, neurons, model, on_pre='code here')\n",
    "\n",
    "S_NMDA.connect()\n",
    "\n",
    "# Monitor membrane potential\n",
    "monitor = StateMonitor(neurons, ['u', 'g_syn', 'G_mg'], record=True)\n",
    "\n",
    "# Run simulation\n",
    "run(duration)"
   ]
  },
  {
   "cell_type": "markdown",
   "id": "ec22f68f",
   "metadata": {
    "editable": true
   },
   "source": [
    "<!-- --- begin solution of exercise --- -->\n",
    "**Solution.**"
   ]
  },
  {
   "cell_type": "code",
   "execution_count": 6,
   "id": "0e595587",
   "metadata": {
    "collapsed": false,
    "editable": true
   },
   "outputs": [],
   "source": [
    "eqs = '''\n",
    "du/dt = (g_l*(u_rest - u) + g_syn*G_mg*(E_nmda - u)) / C_m : volt\n",
    "G_mg = 1 / (1 + Mg/(3.57*mM)*exp(-u/(16.3*mV))) : 1\n",
    "g_syn : siemens\n",
    "'''\n",
    "model = '''\n",
    "dx/dt = -x/tau_2 : siemens (clock-driven)\n",
    "dg/dt = ((tau_2 / tau_1) ** (tau_1 / (tau_2 - tau_1)) * x - g) / tau_1 : siemens (clock-driven)\n",
    "g_syn_post = g : siemens (summed)\n",
    "'''\n",
    "\n",
    "S_NMDA = Synapses(spikes, neurons, model, on_pre='x += g_syn_max')"
   ]
  },
  {
   "cell_type": "markdown",
   "id": "a8a5944a",
   "metadata": {
    "editable": true
   },
   "source": [
    "<!-- --- end solution of exercise --- -->"
   ]
  },
  {
   "cell_type": "markdown",
   "id": "b9c82368",
   "metadata": {
    "editable": true
   },
   "source": [
    "## Exercise 4: Synaptic input is nonlinear\n",
    "\n",
    "Considering constant synaptic input to the LIF neuron we get $g(t) = g$ and"
   ]
  },
  {
   "cell_type": "markdown",
   "id": "22599f6e",
   "metadata": {
    "editable": true
   },
   "source": [
    "<!-- Equation labels as ordinary links -->\n",
    "<div id=\"_auto5\"></div>\n",
    "\n",
    "$$\n",
    "\\begin{equation}\n",
    "\\tau_m \\frac{\\mathrm{d}u}{\\mathrm{d}t} = R_m g_{syn} (E_{syn} - u) + u_{rest} - u + R_m I_e \n",
    "\\label{_auto5} \\tag{9}\n",
    "\\end{equation}\n",
    "$$"
   ]
  },
  {
   "cell_type": "markdown",
   "id": "1a1a92f5",
   "metadata": {
    "editable": true
   },
   "source": [
    "<!-- Equation labels as ordinary links -->\n",
    "<div id=\"_auto6\"></div>\n",
    "\n",
    "$$\n",
    "\\begin{equation} \n",
    "= R_m g_{syn} E_{syn} - R_m g_{syn} u + u_{rest} - u + R_m I_e \n",
    "\\label{_auto6} \\tag{10}\n",
    "\\end{equation}\n",
    "$$"
   ]
  },
  {
   "cell_type": "markdown",
   "id": "59db74ec",
   "metadata": {
    "editable": true
   },
   "source": [
    "<!-- Equation labels as ordinary links -->\n",
    "<div id=\"_auto7\"></div>\n",
    "\n",
    "$$\n",
    "\\begin{equation}  \n",
    "\\frac{\\tau_m}{1 + R_m g_{syn}} \\frac{\\mathrm{d}u}{\\mathrm{d}t} =  \\frac{R_m g_{syn} E_{syn} + u_{rest} + R_m I_e}{1 + R_m g_{syn}} - u \n",
    "\\label{_auto7} \\tag{11}\n",
    "\\end{equation}\n",
    "$$"
   ]
  },
  {
   "cell_type": "markdown",
   "id": "0a2bbdbc",
   "metadata": {
    "editable": true
   },
   "source": [
    "<!-- Equation labels as ordinary links -->\n",
    "<div id=\"eq:shunting_lif\"></div>\n",
    "\n",
    "$$\n",
    "\\begin{equation} \n",
    "\\tau^'_m \\frac{\\mathrm{d}u}{\\mathrm{d}t} =  \\frac{g_{syn}E_{syn}}{G_{in}} + \\frac{u_{rest}}{R_mG_{in}} + \\frac{I_e}{G_{in}} - u\n",
    "\\label{eq:shunting_lif} \\tag{12}\n",
    "\\end{equation}\n",
    "$$"
   ]
  },
  {
   "cell_type": "markdown",
   "id": "c462b45f",
   "metadata": {
    "editable": true
   },
   "source": [
    "**a)**\n",
    "Describe the new membrane timeconstant $\\tau^'_m$ and input conductance $G_{in}$.\n",
    "\n",
    "<!-- --- begin solution of exercise --- -->\n",
    "**Solution.**\n",
    "As we see this changes the membrane timeconstant $\\tau^'_m = \\frac{C}{G_{in}} = \\frac{\\tau_m}{1 + R_m g_{syn}}$ and the \n",
    "input conductance $G_{in} = g_{syn} + g_{m}, g_{m} = 1/R_m$.\n",
    "There are two important outcomes of this, saturation and shunting.\n",
    "<!-- --- end solution of exercise --- -->"
   ]
  },
  {
   "cell_type": "markdown",
   "id": "f220179a",
   "metadata": {
    "editable": true
   },
   "source": [
    "**b)**\n",
    "To see the saturation let $u_rest=I_e=0$. Solving for Eq. ([12](#eq:shunting_lif)) describe the new stady-state potential\n",
    "in terms of $g_{syn}$ and $E_{syn}$ and $g_m$.\n",
    "\n",
    "<!-- --- begin solution of exercise --- -->\n",
    "**Solution.**"
   ]
  },
  {
   "cell_type": "markdown",
   "id": "bb935a12",
   "metadata": {
    "editable": true
   },
   "source": [
    "<!-- Equation labels as ordinary links -->\n",
    "<div id=\"_auto8\"></div>\n",
    "\n",
    "$$\n",
    "\\begin{equation}\n",
    "u_\\infty = \\frac{g_{syn}E_{syn}}{g_{syn} + g_{m}}\n",
    "\\label{_auto8} \\tag{13}\n",
    "\\end{equation}\n",
    "$$"
   ]
  },
  {
   "cell_type": "markdown",
   "id": "a8a5944a_1",
   "metadata": {
    "editable": true
   },
   "source": [
    "<!-- --- end solution of exercise --- -->"
   ]
  },
  {
   "cell_type": "markdown",
   "id": "0ceb224f",
   "metadata": {
    "editable": true
   },
   "source": [
    "**c)**\n",
    "Describe $u$ when synaptic input is small ($g_{syn} << g_m$)\n",
    "\n",
    "<!-- --- begin solution of exercise --- -->\n",
    "**Solution.**\n",
    "We get $u \\approx \\frac{g_{syn}E_{syn}}{g_m}$.\n",
    "In this case the input can be approximated well by a constant current source of amplitude $g_{syn}E_{syn}$.\n",
    "<!-- --- end solution of exercise --- -->"
   ]
  },
  {
   "cell_type": "markdown",
   "id": "e5f4010e",
   "metadata": {
    "editable": true
   },
   "source": [
    "**d)**\n",
    "Describe $u$ when $g_{syn} >> g_m$\n",
    "\n",
    "<!-- --- begin solution of exercise --- -->\n",
    "**Solution.**\n",
    "We get $u \\approx E_{syn}$.\n",
    "As the EPSP becomes larger and larger, the driving potential across the synaptic\n",
    "conductance $u—E_{syn}$ becomes smaller and smaller, disappearing eventually at $u = E_{syn}$\n",
    "No matter how large the conductance increase is made, there is no more potential to drive\n",
    "ions across the membrane.\n",
    "<!-- --- end solution of exercise --- -->"
   ]
  },
  {
   "cell_type": "markdown",
   "id": "63047876",
   "metadata": {
    "editable": true
   },
   "source": [
    "## Exercise 5: Shunting inhibition\n",
    "\n",
    "Shunting inhibition and hyperpolarizing inhibition are two mechanisms of inhibitory neurotransmission in the nervous system.\n",
    "Both types of inhibition make it more difficult for a neuron to generate an action potential, but they do so in different ways.\n",
    "\n",
    "1. **Hyperpolarizing Inhibition:** This type of inhibition occurs when inhibitory neurotransmitters bind to post-synaptic \n",
    "receptors and open potassium or chloride channels. The opening of these channels leads to an influx of negative charges \n",
    "into the neuron, which makes the inside of the neuron more negative or hyperpolarized (further from the action potential \n",
    "threshold). This increases the membrane potential, or difference in electric charge across the cell membrane, making it \n",
    "more difficult for the neuron to reach the threshold required to fire an action potential. \n",
    "This type of inhibition essentially increases the \"difficulty level\" for the neuron to fire.\n",
    "\n",
    "2. **Shunting Inhibition:** This type of inhibition occurs when inhibitory neurotransmitters bind to post-synaptic \n",
    "receptors and open chloride channels specifically. This creates an inhibitory post-synaptic potential (IPSP) that doesn't \n",
    "necessarily hyperpolarize the cell, but rather stabilizes it at its resting potential. \n",
    "This form of inhibition is often referred to as \"shunting\" because it prevents the neuron from being depolarized \n",
    "(making it less negative and more likely to fire an action potential) by other excitatory inputs. It's as if these \n",
    "inhibitory inputs create a \"shunt\" or bypass circuit that diverts the excitatory currents away, preventing them from \n",
    "causing depolarization.\n",
    "\n",
    "In both cases, the overall effect is to inhibit the neuron's ability to generate an action potential, \n",
    "but the exact mechanisms and impacts on the neuron's electrical activity are different.\n",
    "\n",
    "Activation of a $GABA_A$ synapse, one of the most common forms of fast inhibition in\n",
    "cortex and associated structures, increases the membrane conductance for chloride ions\n",
    "and has a reversal potential in the neighborhood of many cells' resting potential, thereby\n",
    "implementing a form of shunting inhibition.\n",
    "Shunting produces a nonlinear interaction between shunting inhibition and excitatory input. \n",
    "\n",
    "To see the effect of shunting consider the LIF with inhibitory and excitatory reversal potential $E_i, E_e$ \n",
    "respectively. Moreover let $E_i = u_{rest} = 0$"
   ]
  },
  {
   "cell_type": "markdown",
   "id": "a4e66e83",
   "metadata": {
    "editable": true
   },
   "source": [
    "$$\n",
    "\\begin{align*}\n",
    "\\tau_m \\frac{\\mathrm{d}u}{\\mathrm{d}t} = R_m g_i u + R_m g_e (E_e - u) - u \\\\\n",
    "\\tau^'_m \\frac{\\mathrm{d}u}{\\mathrm{d}t} &=  \\frac{g_{e}E_{e}}{G_{in}} - u\n",
    "\\end{align*}\n",
    "$$"
   ]
  },
  {
   "cell_type": "markdown",
   "id": "2aa83bc9",
   "metadata": {
    "editable": true
   },
   "source": [
    "**a)**\n",
    "Describe $G_{in}$ and $\\tau^'_m$ in terms of $g_i, g_e, g_m$ and $C$.\n",
    "\n",
    "<!-- --- begin solution of exercise --- -->\n",
    "**Solution.**\n",
    "Where $G_{in} = g_i + g_e + g_m$ and $\\tau^'_m = \\frac{C}{G_{in}}$.\n",
    "<!-- --- end solution of exercise --- -->"
   ]
  },
  {
   "cell_type": "markdown",
   "id": "052382b2",
   "metadata": {
    "editable": true
   },
   "source": [
    "**b)**\n",
    "Describe the stady state in terms of $G_{in}$, $g_e$ and $E_e$.\n",
    "\n",
    "<!-- --- begin solution of exercise --- -->\n",
    "**Solution.**"
   ]
  },
  {
   "cell_type": "markdown",
   "id": "8718301f",
   "metadata": {
    "editable": true
   },
   "source": [
    "$$\n",
    "\\begin{align*}\n",
    "u_\\infty = \\frac{g_{e}E_{e}}{G_{in}}\n",
    "\\end{align*}\n",
    "$$"
   ]
  },
  {
   "cell_type": "markdown",
   "id": "a8a5944a_2",
   "metadata": {
    "editable": true
   },
   "source": [
    "<!-- --- end solution of exercise --- -->"
   ]
  },
  {
   "cell_type": "markdown",
   "id": "06ebb786",
   "metadata": {
    "editable": true
   },
   "source": [
    "**c)**\n",
    "Describe what happens when $g_i >> g_e + g_m$\n",
    "\n",
    "<!-- --- begin solution of exercise --- -->\n",
    "**Solution.**"
   ]
  },
  {
   "cell_type": "markdown",
   "id": "99c5c105",
   "metadata": {
    "editable": true
   },
   "source": [
    "$$\n",
    "\\begin{align*}\n",
    "u_\\infty = \\frac{g_{e}E_{e}}{g_{i}}\n",
    "\\end{align*}\n",
    "$$"
   ]
  },
  {
   "cell_type": "markdown",
   "id": "fbc48a93",
   "metadata": {
    "editable": true
   },
   "source": [
    "since the synaptic reversal potential is equal to the resting potential $g_i$ \n",
    "only appears in the denominator. Increasing $g_i$ therefore reduces the EPSP from its peak\n",
    "value in a division-like manner.\n",
    "Moreover, increasing $g_i$, also affects the speed with which the cell converges to its steady-state, since\n",
    "the time constant decreases with increasing shunting inhibition.\n",
    "<!-- --- end solution of exercise --- -->\n",
    "The effect of shunting inhibition on the membrane potential of a neuron can be seen in the following example."
   ]
  },
  {
   "cell_type": "code",
   "execution_count": 7,
   "id": "324f2b08",
   "metadata": {
    "collapsed": false,
    "editable": true
   },
   "outputs": [],
   "source": [
    "# Time vector\n",
    "time = np.arange(0, 60, 0.1)\n",
    "\n",
    "for gi in [0,1,5]:\n",
    "    # Plotting\n",
    "    gabaa_current = lambda u,t: synaptic_current(u, gi, E_gabaa)\n",
    "    ampa_current = lambda u,t: synaptic_current(u, 1, E_ampa)\n",
    "\n",
    "\n",
    "    inputs = [(gabaa_current, [0]), (ampa_current, [0])]\n",
    "\n",
    "    u_sol = odeint(du_dt_membrane, u_rest, time, args=(u_rest, 0.1, 200, inputs))\n",
    "\n",
    "    plt.plot(time, u_sol, label=f'g_i={gi}')\n",
    "\n",
    "plt.legend()"
   ]
  },
  {
   "cell_type": "markdown",
   "id": "5593ccfb",
   "metadata": {
    "editable": true
   },
   "source": [
    "## Exercise 6: Shunting inhibition effect on firing rate\n",
    "\n",
    "The shunting effects seen above have been proposed as a possible basis for neural computations involving division.\n",
    "\n",
    "<!-- dom:FIGURE: [figures/carandini-heeger-1994.png] <div id=\"fig:carandini-heeger-1994\"></div> In the work of Carandini and Heeger (1994) shunting inhibition was proposed as a means of  normalizing inputs in simple cells of the primary visual cortex. Their work presents a simplified model of the response properties of neurons in the visual system.  One key idea in this model is that the responses of neurons are normalized by the activity of their neighbors,  which is thought to explain various non-linear response properties observed in visual neurons.  The model can be simplified as a three-stage cascade: linear filtering, rectification, and normalization.  -->\n",
    "<!-- begin figure -->\n",
    "<div id=\"fig:carandini-heeger-1994\"></div>\n",
    "\n",
    "<img src=\"figures/carandini-heeger-1994.png\" ><p style=\"font-size: 0.9em\"><i>Figure 1:  In the work of Carandini and Heeger (1994) shunting inhibition was proposed as a means of  normalizing inputs in simple cells of the primary visual cortex. Their work presents a simplified model of the response properties of neurons in the visual system.  One key idea in this model is that the responses of neurons are normalized by the activity of their neighbors,  which is thought to explain various non-linear response properties observed in visual neurons.  The model can be simplified as a three-stage cascade: linear filtering, rectification, and normalization.</i></p>\n",
    "<!-- end figure -->\n",
    "\n",
    "Carandini and Heeger proposed a simple rate equation $m max(0, u-u_rest)^2$.\n",
    "With the proposed rate equation of Carandini and Heeger we can see that the firing rate grows non-linearly with \n",
    "constant current input and shunting inhibition. With $u_rest = 0$ we can see that the rate output \n",
    "can be nonlinearly normalized by the shunting inhibition"
   ]
  },
  {
   "cell_type": "markdown",
   "id": "b5c459ac",
   "metadata": {
    "editable": true
   },
   "source": [
    "<!-- Equation labels as ordinary links -->\n",
    "<div id=\"_auto9\"></div>\n",
    "\n",
    "$$\n",
    "\\begin{equation}\n",
    "r = \\left[\\frac{g_{e}E_{e}}{g_{i}}\\right]^2\n",
    "\\label{_auto9} \\tag{14}\n",
    "\\end{equation}\n",
    "$$"
   ]
  },
  {
   "cell_type": "markdown",
   "id": "ec22f68f_1",
   "metadata": {
    "editable": true
   },
   "source": [
    "<!-- --- begin solution of exercise --- -->\n",
    "**Solution.**"
   ]
  },
  {
   "cell_type": "code",
   "execution_count": 8,
   "id": "8bc072ad",
   "metadata": {
    "collapsed": false,
    "editable": true
   },
   "outputs": [],
   "source": [
    "model = '''\n",
    "du/dt = (-(u-u_rest) + R*I)/tau : volt\n",
    "I : amp\n",
    "'''"
   ]
  },
  {
   "cell_type": "markdown",
   "id": "a8a5944a_3",
   "metadata": {
    "editable": true
   },
   "source": [
    "<!-- --- end solution of exercise --- -->"
   ]
  },
  {
   "cell_type": "markdown",
   "id": "c52445cc",
   "metadata": {
    "editable": true
   },
   "source": [
    "**a)**\n",
    "S\n",
    "h\n",
    "o\n",
    "w\n",
    "\n",
    "t\n",
    "h\n",
    "a\n",
    "t\n",
    "\n",
    "t\n",
    "h"
   ]
  },
  {
   "cell_type": "markdown",
   "id": "d4bf0e3a",
   "metadata": {
    "editable": true
   },
   "source": [
    "f"
   ]
  },
  {
   "cell_type": "markdown",
   "id": "ee99ddb9",
   "metadata": {
    "editable": true
   },
   "source": [
    "a\n",
    "t"
   ]
  },
  {
   "cell_type": "markdown",
   "id": "9505a549",
   "metadata": {
    "editable": true
   },
   "source": [
    "o\n",
    "f\n",
    "\n",
    "t\n",
    "h"
   ]
  },
  {
   "cell_type": "markdown",
   "id": "8a276838",
   "metadata": {
    "editable": true
   },
   "source": [
    "t"
   ]
  },
  {
   "cell_type": "markdown",
   "id": "ee99ddb9_1",
   "metadata": {
    "editable": true
   },
   "source": [
    "a\n",
    "t"
   ]
  },
  {
   "cell_type": "markdown",
   "id": "abd37534",
   "metadata": {
    "editable": true
   },
   "source": [
    "a"
   ]
  },
  {
   "cell_type": "markdown",
   "id": "f9d925d4",
   "metadata": {
    "editable": true
   },
   "source": [
    "d\n",
    "\n",
    "f"
   ]
  },
  {
   "cell_type": "markdown",
   "id": "1c98f1d4",
   "metadata": {
    "editable": true
   },
   "source": [
    "m\n",
    "o\n",
    "d"
   ]
  },
  {
   "cell_type": "markdown",
   "id": "2e0cc996",
   "metadata": {
    "editable": true
   },
   "source": [
    "l"
   ]
  },
  {
   "cell_type": "markdown",
   "id": "1227d552",
   "metadata": {
    "editable": true
   },
   "source": [
    "o\n",
    "w"
   ]
  },
  {
   "cell_type": "markdown",
   "id": "2e0cc996_1",
   "metadata": {
    "editable": true
   },
   "source": [
    "l"
   ]
  },
  {
   "cell_type": "markdown",
   "id": "abd37534_1",
   "metadata": {
    "editable": true
   },
   "source": [
    "a"
   ]
  },
  {
   "cell_type": "markdown",
   "id": "a310e36e",
   "metadata": {
    "editable": true
   },
   "source": [
    "l\n",
    "y\n",
    "\n",
    "w"
   ]
  },
  {
   "cell_type": "markdown",
   "id": "c24f7c50",
   "metadata": {
    "editable": true
   },
   "source": [
    "t\n",
    "h"
   ]
  },
  {
   "cell_type": "markdown",
   "id": "cbb625b4",
   "metadata": {
    "editable": true
   },
   "source": [
    "o"
   ]
  },
  {
   "cell_type": "markdown",
   "id": "a7487b86",
   "metadata": {
    "editable": true
   },
   "source": [
    "t\n",
    "a"
   ]
  },
  {
   "cell_type": "markdown",
   "id": "8a276838_1",
   "metadata": {
    "editable": true
   },
   "source": [
    "t"
   ]
  },
  {
   "cell_type": "markdown",
   "id": "fcd074cd",
   "metadata": {
    "editable": true
   },
   "source": [
    "j"
   ]
  },
  {
   "cell_type": "markdown",
   "id": "8a276838_2",
   "metadata": {
    "editable": true
   },
   "source": [
    "t"
   ]
  },
  {
   "cell_type": "markdown",
   "id": "06c9f714",
   "metadata": {
    "editable": true
   },
   "source": [
    "d"
   ]
  },
  {
   "cell_type": "markdown",
   "id": "966c657b",
   "metadata": {
    "editable": true
   },
   "source": [
    "t\n",
    "\n",
    "**\n",
    "**\n",
    "H"
   ]
  },
  {
   "cell_type": "markdown",
   "id": "f6599dc4",
   "metadata": {
    "editable": true
   },
   "source": [
    "t\n",
    ":\n",
    "**\n",
    "**\n",
    "\n",
    "T\n",
    "h"
   ]
  },
  {
   "cell_type": "markdown",
   "id": "d4bf0e3a_1",
   "metadata": {
    "editable": true
   },
   "source": [
    "f"
   ]
  },
  {
   "cell_type": "markdown",
   "id": "ee99ddb9_2",
   "metadata": {
    "editable": true
   },
   "source": [
    "a\n",
    "t"
   ]
  },
  {
   "cell_type": "markdown",
   "id": "f9b46887",
   "metadata": {
    "editable": true
   },
   "source": [
    "o\n",
    "f\n",
    "\n",
    "a"
   ]
  },
  {
   "cell_type": "markdown",
   "id": "8a276838_3",
   "metadata": {
    "editable": true
   },
   "source": [
    "t"
   ]
  },
  {
   "cell_type": "markdown",
   "id": "ee99ddb9_3",
   "metadata": {
    "editable": true
   },
   "source": [
    "a\n",
    "t"
   ]
  },
  {
   "cell_type": "markdown",
   "id": "abd37534_2",
   "metadata": {
    "editable": true
   },
   "source": [
    "a"
   ]
  },
  {
   "cell_type": "markdown",
   "id": "06c9f714_1",
   "metadata": {
    "editable": true
   },
   "source": [
    "d"
   ]
  },
  {
   "cell_type": "markdown",
   "id": "d4bf0e3a_2",
   "metadata": {
    "editable": true
   },
   "source": [
    "f"
   ]
  },
  {
   "cell_type": "markdown",
   "id": "1c98f1d4_1",
   "metadata": {
    "editable": true
   },
   "source": [
    "m\n",
    "o\n",
    "d"
   ]
  },
  {
   "cell_type": "markdown",
   "id": "2e0cc996_2",
   "metadata": {
    "editable": true
   },
   "source": [
    "l"
   ]
  },
  {
   "cell_type": "markdown",
   "id": "943fc5be",
   "metadata": {
    "editable": true
   },
   "source": [
    "p\n",
    "o"
   ]
  },
  {
   "cell_type": "markdown",
   "id": "072e494e",
   "metadata": {
    "editable": true
   },
   "source": [
    "t\n",
    "o\n",
    "\n",
    "a"
   ]
  },
  {
   "cell_type": "markdown",
   "id": "cbb625b4_1",
   "metadata": {
    "editable": true
   },
   "source": [
    "o"
   ]
  },
  {
   "cell_type": "markdown",
   "id": "a7487b86_1",
   "metadata": {
    "editable": true
   },
   "source": [
    "t\n",
    "a"
   ]
  },
  {
   "cell_type": "markdown",
   "id": "8a276838_4",
   "metadata": {
    "editable": true
   },
   "source": [
    "t"
   ]
  },
  {
   "cell_type": "markdown",
   "id": "fcd074cd_1",
   "metadata": {
    "editable": true
   },
   "source": [
    "j"
   ]
  },
  {
   "cell_type": "markdown",
   "id": "8a276838_5",
   "metadata": {
    "editable": true
   },
   "source": [
    "t"
   ]
  },
  {
   "cell_type": "markdown",
   "id": "06c9f714_2",
   "metadata": {
    "editable": true
   },
   "source": [
    "d"
   ]
  },
  {
   "cell_type": "markdown",
   "id": "8a276838_6",
   "metadata": {
    "editable": true
   },
   "source": [
    "t"
   ]
  },
  {
   "cell_type": "markdown",
   "id": "abd37534_3",
   "metadata": {
    "editable": true
   },
   "source": [
    "a"
   ]
  },
  {
   "cell_type": "markdown",
   "id": "11553beb",
   "metadata": {
    "editable": true
   },
   "source": [
    "o\n",
    "m\n",
    "p"
   ]
  },
  {
   "cell_type": "markdown",
   "id": "8a276838_7",
   "metadata": {
    "editable": true
   },
   "source": [
    "t"
   ]
  },
  {
   "cell_type": "markdown",
   "id": "d933f4bc",
   "metadata": {
    "editable": true
   },
   "source": [
    "d\n",
    "\n",
    "a"
   ]
  },
  {
   "cell_type": "markdown",
   "id": "5676fdc0",
   "metadata": {
    "editable": true
   },
   "source": [
    "a\n",
    "l\n",
    "y\n",
    "t"
   ]
  },
  {
   "cell_type": "markdown",
   "id": "9ccd5de3",
   "metadata": {
    "editable": true
   },
   "source": [
    "a\n",
    "l\n",
    "l\n",
    "y\n",
    ".\n",
    "\n",
    "W\n",
    "h"
   ]
  },
  {
   "cell_type": "markdown",
   "id": "38bc3605",
   "metadata": {
    "editable": true
   },
   "source": [
    "$\n",
    "I\n",
    "**"
   ]
  },
  {
   "cell_type": "markdown",
   "id": "23fa1e67",
   "metadata": {
    "editable": true
   },
   "source": [
    "$"
   ]
  },
  {
   "cell_type": "markdown",
   "id": "06c9f714_3",
   "metadata": {
    "editable": true
   },
   "source": [
    "d"
   ]
  },
  {
   "cell_type": "markdown",
   "id": "e22bd066",
   "metadata": {
    "editable": true
   },
   "source": [
    "p"
   ]
  },
  {
   "cell_type": "markdown",
   "id": "06c9f714_4",
   "metadata": {
    "editable": true
   },
   "source": [
    "d"
   ]
  },
  {
   "cell_type": "markdown",
   "id": "6cda2401",
   "metadata": {
    "editable": true
   },
   "source": [
    "t\n",
    "\n",
    "o\n",
    "f\n",
    "\n",
    "t"
   ]
  },
  {
   "cell_type": "markdown",
   "id": "4fde0463",
   "metadata": {
    "editable": true
   },
   "source": [
    "m"
   ]
  },
  {
   "cell_type": "markdown",
   "id": "abd6f42b",
   "metadata": {
    "editable": true
   },
   "source": [
    ",\n",
    "\n",
    "t\n",
    "h"
   ]
  },
  {
   "cell_type": "markdown",
   "id": "c24f7c50_1",
   "metadata": {
    "editable": true
   },
   "source": [
    "t\n",
    "h"
   ]
  },
  {
   "cell_type": "markdown",
   "id": "27c66011",
   "metadata": {
    "editable": true
   },
   "source": [
    "h\n",
    "o\n",
    "l\n",
    "d\n",
    "\n",
    "p\n",
    "o\n",
    "t"
   ]
  },
  {
   "cell_type": "markdown",
   "id": "8a276838_8",
   "metadata": {
    "editable": true
   },
   "source": [
    "t"
   ]
  },
  {
   "cell_type": "markdown",
   "id": "6cb09307",
   "metadata": {
    "editable": true
   },
   "source": [
    "a\n",
    "l\n",
    "\n",
    "$"
   ]
  },
  {
   "cell_type": "markdown",
   "id": "26b67ff8",
   "metadata": {
    "editable": true
   },
   "source": [
    "(\n",
    "t\n",
    ")\n",
    "$"
   ]
  },
  {
   "cell_type": "markdown",
   "id": "abd37534_4",
   "metadata": {
    "editable": true
   },
   "source": [
    "a"
   ]
  },
  {
   "cell_type": "markdown",
   "id": "11553beb_1",
   "metadata": {
    "editable": true
   },
   "source": [
    "o\n",
    "m\n",
    "p"
   ]
  },
  {
   "cell_type": "markdown",
   "id": "8a276838_9",
   "metadata": {
    "editable": true
   },
   "source": [
    "t"
   ]
  },
  {
   "cell_type": "markdown",
   "id": "06c9f714_5",
   "metadata": {
    "editable": true
   },
   "source": [
    "d"
   ]
  },
  {
   "cell_type": "markdown",
   "id": "518d3dd9",
   "metadata": {
    "editable": true
   },
   "source": [
    "y"
   ]
  },
  {
   "cell_type": "markdown",
   "id": "3a0a429b",
   "metadata": {
    "editable": true
   },
   "source": [
    "o\n",
    "l\n",
    "v"
   ]
  },
  {
   "cell_type": "markdown",
   "id": "8acd7084",
   "metadata": {
    "editable": true
   },
   "source": [
    "q"
   ]
  },
  {
   "cell_type": "markdown",
   "id": "ee99ddb9_4",
   "metadata": {
    "editable": true
   },
   "source": [
    "a\n",
    "t"
   ]
  },
  {
   "cell_type": "markdown",
   "id": "cbb625b4_2",
   "metadata": {
    "editable": true
   },
   "source": [
    "o"
   ]
  },
  {
   "cell_type": "markdown",
   "id": "bbe923d6",
   "metadata": {
    "editable": true
   },
   "source": [
    "("
   ]
  },
  {
   "cell_type": "markdown",
   "id": "baeb3376",
   "metadata": {
    "editable": true
   },
   "source": [
    "f\n",
    "{"
   ]
  },
  {
   "cell_type": "markdown",
   "id": "77f6a690",
   "metadata": {
    "editable": true
   },
   "source": [
    "q\n",
    ":"
   ]
  },
  {
   "cell_type": "markdown",
   "id": "e0ccaead",
   "metadata": {
    "editable": true
   },
   "source": [
    "h"
   ]
  },
  {
   "cell_type": "markdown",
   "id": "8a276838_10",
   "metadata": {
    "editable": true
   },
   "source": [
    "t"
   ]
  },
  {
   "cell_type": "markdown",
   "id": "d556d223",
   "metadata": {
    "editable": true
   },
   "source": [
    "**\n",
    "l"
   ]
  },
  {
   "cell_type": "markdown",
   "id": "bb1af6b5",
   "metadata": {
    "editable": true
   },
   "source": [
    "f\n",
    "}\n",
    ")\n",
    "\n",
    "a"
   ]
  },
  {
   "cell_type": "markdown",
   "id": "06c9f714_6",
   "metadata": {
    "editable": true
   },
   "source": [
    "d"
   ]
  },
  {
   "cell_type": "markdown",
   "id": "501f2da4",
   "metadata": {
    "editable": true
   },
   "source": [
    "1\n",
    "9"
   ]
  },
  {
   "cell_type": "markdown",
   "id": "48437158",
   "metadata": {
    "editable": true
   },
   "source": [
    "M\n",
    "A\n",
    "T\n",
    "H\n",
    "**\n",
    "B\n",
    "L\n",
    "O\n",
    "C\n",
    "K\n",
    "\n",
    "w\n",
    "h"
   ]
  },
  {
   "cell_type": "markdown",
   "id": "23fa1e67_1",
   "metadata": {
    "editable": true
   },
   "source": [
    "$"
   ]
  },
  {
   "cell_type": "markdown",
   "id": "aed52001",
   "metadata": {
    "editable": true
   },
   "source": [
    "(\n",
    "0\n",
    ")\n",
    "$"
   ]
  },
  {
   "cell_type": "markdown",
   "id": "c24f7c50_2",
   "metadata": {
    "editable": true
   },
   "source": [
    "t\n",
    "h"
   ]
  },
  {
   "cell_type": "markdown",
   "id": "cad702f1",
   "metadata": {
    "editable": true
   },
   "source": [
    "v\n",
    "a\n",
    "l"
   ]
  },
  {
   "cell_type": "markdown",
   "id": "1d03cb01",
   "metadata": {
    "editable": true
   },
   "source": [
    "o\n",
    "f"
   ]
  },
  {
   "cell_type": "markdown",
   "id": "1a654a32",
   "metadata": {
    "editable": true
   },
   "source": [
    "a\n",
    "t\n",
    "\n",
    "t"
   ]
  },
  {
   "cell_type": "markdown",
   "id": "4fde0463_1",
   "metadata": {
    "editable": true
   },
   "source": [
    "m"
   ]
  },
  {
   "cell_type": "markdown",
   "id": "f1ba56f9",
   "metadata": {
    "editable": true
   },
   "source": [
    "$\n",
    "t\n",
    "\n",
    "=\n",
    "\n",
    "0\n",
    "$\n",
    ".\n",
    "\n",
    "I\n",
    "t"
   ]
  },
  {
   "cell_type": "markdown",
   "id": "cad702f1_1",
   "metadata": {
    "editable": true
   },
   "source": [
    "v\n",
    "a\n",
    "l"
   ]
  },
  {
   "cell_type": "markdown",
   "id": "d5493a6f",
   "metadata": {
    "editable": true
   },
   "source": [
    "d\n",
    "\n",
    "f\n",
    "o"
   ]
  },
  {
   "cell_type": "markdown",
   "id": "c24f7c50_3",
   "metadata": {
    "editable": true
   },
   "source": [
    "t\n",
    "h"
   ]
  },
  {
   "cell_type": "markdown",
   "id": "8a276838_11",
   "metadata": {
    "editable": true
   },
   "source": [
    "t"
   ]
  },
  {
   "cell_type": "markdown",
   "id": "ee99ddb9_5",
   "metadata": {
    "editable": true
   },
   "source": [
    "a\n",
    "t"
   ]
  },
  {
   "cell_type": "markdown",
   "id": "abd37534_5",
   "metadata": {
    "editable": true
   },
   "source": [
    "a"
   ]
  },
  {
   "cell_type": "markdown",
   "id": "06c9f714_7",
   "metadata": {
    "editable": true
   },
   "source": [
    "d"
   ]
  },
  {
   "cell_type": "markdown",
   "id": "d4bf0e3a_3",
   "metadata": {
    "editable": true
   },
   "source": [
    "f"
   ]
  },
  {
   "cell_type": "markdown",
   "id": "1c98f1d4_2",
   "metadata": {
    "editable": true
   },
   "source": [
    "m\n",
    "o\n",
    "d"
   ]
  },
  {
   "cell_type": "markdown",
   "id": "64a9f6c4",
   "metadata": {
    "editable": true
   },
   "source": [
    "l\n",
    "\n",
    "o"
   ]
  },
  {
   "cell_type": "markdown",
   "id": "45cc2bff",
   "metadata": {
    "editable": true
   },
   "source": [
    "l\n",
    "y\n",
    "\n",
    "a"
   ]
  },
  {
   "cell_type": "markdown",
   "id": "4f37ae22",
   "metadata": {
    "editable": true
   },
   "source": [
    "l\n",
    "o"
   ]
  },
  {
   "cell_type": "markdown",
   "id": "abd37534_6",
   "metadata": {
    "editable": true
   },
   "source": [
    "a"
   ]
  },
  {
   "cell_type": "markdown",
   "id": "23fa1e67_2",
   "metadata": {
    "editable": true
   },
   "source": [
    "$"
   ]
  },
  {
   "cell_type": "markdown",
   "id": "23fa1e67_3",
   "metadata": {
    "editable": true
   },
   "source": [
    "$"
   ]
  },
  {
   "cell_type": "markdown",
   "id": "c2c97ea6",
   "metadata": {
    "editable": true
   },
   "source": [
    "t\n",
    "a\n",
    "y"
   ]
  },
  {
   "cell_type": "markdown",
   "id": "3f8370b8",
   "metadata": {
    "editable": true
   },
   "source": [
    "l\n",
    "o\n",
    "w\n",
    "\n",
    "t\n",
    "h"
   ]
  },
  {
   "cell_type": "markdown",
   "id": "c24f7c50_4",
   "metadata": {
    "editable": true
   },
   "source": [
    "t\n",
    "h"
   ]
  },
  {
   "cell_type": "markdown",
   "id": "55e1a75c",
   "metadata": {
    "editable": true
   },
   "source": [
    "h\n",
    "o\n",
    "l\n",
    "d\n",
    ".\n",
    "\n",
    "S"
   ]
  },
  {
   "cell_type": "markdown",
   "id": "dff6726e",
   "metadata": {
    "editable": true
   },
   "source": [
    "p\n",
    "p\n",
    "o"
   ]
  },
  {
   "cell_type": "markdown",
   "id": "c44d59b1",
   "metadata": {
    "editable": true
   },
   "source": [
    "t\n",
    "h\n",
    "a\n",
    "t\n",
    "\n",
    "a\n",
    "t\n",
    "\n",
    "$\n",
    "t\n",
    "\n",
    "=\n",
    "\n",
    "0\n",
    "$\n",
    ",\n",
    "\n",
    "t\n",
    "h"
   ]
  },
  {
   "cell_type": "markdown",
   "id": "cbb625b4_3",
   "metadata": {
    "editable": true
   },
   "source": [
    "o"
   ]
  },
  {
   "cell_type": "markdown",
   "id": "b4119098",
   "metadata": {
    "editable": true
   },
   "source": [
    "h\n",
    "a"
   ]
  },
  {
   "cell_type": "markdown",
   "id": "fcd074cd_2",
   "metadata": {
    "editable": true
   },
   "source": [
    "j"
   ]
  },
  {
   "cell_type": "markdown",
   "id": "e207bba9",
   "metadata": {
    "editable": true
   },
   "source": [
    "t\n",
    "\n",
    "f"
   ]
  },
  {
   "cell_type": "markdown",
   "id": "d933f4bc_1",
   "metadata": {
    "editable": true
   },
   "source": [
    "d\n",
    "\n",
    "a"
   ]
  },
  {
   "cell_type": "markdown",
   "id": "abd37534_7",
   "metadata": {
    "editable": true
   },
   "source": [
    "a"
   ]
  },
  {
   "cell_type": "markdown",
   "id": "8a276838_12",
   "metadata": {
    "editable": true
   },
   "source": [
    "t"
   ]
  },
  {
   "cell_type": "markdown",
   "id": "cbb625b4_4",
   "metadata": {
    "editable": true
   },
   "source": [
    "o"
   ]
  },
  {
   "cell_type": "markdown",
   "id": "c13827e5",
   "metadata": {
    "editable": true
   },
   "source": [
    "p\n",
    "o\n",
    "t"
   ]
  },
  {
   "cell_type": "markdown",
   "id": "8a276838_13",
   "metadata": {
    "editable": true
   },
   "source": [
    "t"
   ]
  },
  {
   "cell_type": "markdown",
   "id": "7d66dc38",
   "metadata": {
    "editable": true
   },
   "source": [
    "a\n",
    "l\n",
    "\n",
    "a"
   ]
  },
  {
   "cell_type": "markdown",
   "id": "06c9f714_8",
   "metadata": {
    "editable": true
   },
   "source": [
    "d"
   ]
  },
  {
   "cell_type": "markdown",
   "id": "c24f7c50_5",
   "metadata": {
    "editable": true
   },
   "source": [
    "t\n",
    "h"
   ]
  },
  {
   "cell_type": "markdown",
   "id": "5643c1f7",
   "metadata": {
    "editable": true
   },
   "source": [
    "a\n",
    "t\n",
    "\n",
    "t\n",
    "h"
   ]
  },
  {
   "cell_type": "markdown",
   "id": "dec6516f",
   "metadata": {
    "editable": true
   },
   "source": [
    "t\n",
    "\n",
    "p\n",
    "o\n",
    "t"
   ]
  },
  {
   "cell_type": "markdown",
   "id": "8a276838_14",
   "metadata": {
    "editable": true
   },
   "source": [
    "t"
   ]
  },
  {
   "cell_type": "markdown",
   "id": "361dcd23",
   "metadata": {
    "editable": true
   },
   "source": [
    "a\n",
    "l\n",
    ","
   ]
  },
  {
   "cell_type": "markdown",
   "id": "99265131",
   "metadata": {
    "editable": true
   },
   "source": [
    "o\n",
    "\n",
    "t\n",
    "h\n",
    "a\n",
    "t\n",
    "\n",
    "$"
   ]
  },
  {
   "cell_type": "markdown",
   "id": "d7fb88fc",
   "metadata": {
    "editable": true
   },
   "source": [
    "(\n",
    "0\n",
    ")\n",
    "\n",
    "="
   ]
  },
  {
   "cell_type": "markdown",
   "id": "a3353f5c",
   "metadata": {
    "editable": true
   },
   "source": [
    "**\n",
    "{\n",
    "\\\n",
    "t"
   ]
  },
  {
   "cell_type": "markdown",
   "id": "9df0096f",
   "metadata": {
    "editable": true
   },
   "source": [
    "t\n",
    "{"
   ]
  },
  {
   "cell_type": "markdown",
   "id": "b34802c9",
   "metadata": {
    "editable": true
   },
   "source": [
    "t\n",
    "}\n",
    "}\n",
    "$\n",
    ".\n",
    "\n",
    "T\n",
    "h"
   ]
  },
  {
   "cell_type": "markdown",
   "id": "dc8cde44",
   "metadata": {
    "editable": true
   },
   "source": [
    "t\n",
    "\n",
    "a"
   ]
  },
  {
   "cell_type": "markdown",
   "id": "8a276838_15",
   "metadata": {
    "editable": true
   },
   "source": [
    "t"
   ]
  },
  {
   "cell_type": "markdown",
   "id": "cbb625b4_5",
   "metadata": {
    "editable": true
   },
   "source": [
    "o"
   ]
  },
  {
   "cell_type": "markdown",
   "id": "c13827e5_1",
   "metadata": {
    "editable": true
   },
   "source": [
    "p\n",
    "o\n",
    "t"
   ]
  },
  {
   "cell_type": "markdown",
   "id": "8a276838_16",
   "metadata": {
    "editable": true
   },
   "source": [
    "t"
   ]
  },
  {
   "cell_type": "markdown",
   "id": "6a4ede89",
   "metadata": {
    "editable": true
   },
   "source": [
    "a\n",
    "l\n",
    "\n",
    "w"
   ]
  },
  {
   "cell_type": "markdown",
   "id": "97f371c0",
   "metadata": {
    "editable": true
   },
   "source": [
    "l\n",
    "l\n",
    "\n",
    "o"
   ]
  },
  {
   "cell_type": "markdown",
   "id": "64210f92",
   "metadata": {
    "editable": true
   },
   "source": [
    "w\n",
    "h"
   ]
  },
  {
   "cell_type": "markdown",
   "id": "c24f7c50_6",
   "metadata": {
    "editable": true
   },
   "source": [
    "t\n",
    "h"
   ]
  },
  {
   "cell_type": "markdown",
   "id": "4fde0463_2",
   "metadata": {
    "editable": true
   },
   "source": [
    "m"
   ]
  },
  {
   "cell_type": "markdown",
   "id": "4fde0463_3",
   "metadata": {
    "editable": true
   },
   "source": [
    "m"
   ]
  },
  {
   "cell_type": "markdown",
   "id": "abd37534_8",
   "metadata": {
    "editable": true
   },
   "source": [
    "a"
   ]
  },
  {
   "cell_type": "markdown",
   "id": "c13827e5_2",
   "metadata": {
    "editable": true
   },
   "source": [
    "p\n",
    "o\n",
    "t"
   ]
  },
  {
   "cell_type": "markdown",
   "id": "8a276838_17",
   "metadata": {
    "editable": true
   },
   "source": [
    "t"
   ]
  },
  {
   "cell_type": "markdown",
   "id": "0fbdb437",
   "metadata": {
    "editable": true
   },
   "source": [
    "a\n",
    "l"
   ]
  },
  {
   "cell_type": "markdown",
   "id": "abd37534_9",
   "metadata": {
    "editable": true
   },
   "source": [
    "a"
   ]
  },
  {
   "cell_type": "markdown",
   "id": "e0ccaead_1",
   "metadata": {
    "editable": true
   },
   "source": [
    "h"
   ]
  },
  {
   "cell_type": "markdown",
   "id": "c24f7c50_7",
   "metadata": {
    "editable": true
   },
   "source": [
    "t\n",
    "h"
   ]
  },
  {
   "cell_type": "markdown",
   "id": "c24f7c50_8",
   "metadata": {
    "editable": true
   },
   "source": [
    "t\n",
    "h"
   ]
  },
  {
   "cell_type": "markdown",
   "id": "49d72e4c",
   "metadata": {
    "editable": true
   },
   "source": [
    "h\n",
    "o\n",
    "l\n",
    "d\n",
    ",\n",
    "\n",
    "t\n",
    "h\n",
    "a\n",
    "t"
   ]
  },
  {
   "cell_type": "markdown",
   "id": "5967b0e9",
   "metadata": {
    "editable": true
   },
   "source": [
    ",\n",
    "\n",
    "a\n",
    "t\n",
    "\n",
    "a\n",
    "\n",
    "t"
   ]
  },
  {
   "cell_type": "markdown",
   "id": "4fde0463_4",
   "metadata": {
    "editable": true
   },
   "source": [
    "m"
   ]
  },
  {
   "cell_type": "markdown",
   "id": "920974f5",
   "metadata": {
    "editable": true
   },
   "source": [
    "$\n",
    "t\n",
    "\n",
    "=\n",
    "\n",
    "t\n",
    "_\n",
    "{\n",
    "\\\n",
    "t"
   ]
  },
  {
   "cell_type": "markdown",
   "id": "9df0096f_1",
   "metadata": {
    "editable": true
   },
   "source": [
    "t\n",
    "{"
   ]
  },
  {
   "cell_type": "markdown",
   "id": "aff893e1",
   "metadata": {
    "editable": true
   },
   "source": [
    "}\n",
    "}\n",
    "$\n",
    "\n",
    "<!-- --- begin solution of exercise --- -->\n",
    "**Solution.**\n",
    "2\n",
    "0"
   ]
  },
  {
   "cell_type": "markdown",
   "id": "43585cbb",
   "metadata": {
    "editable": true
   },
   "source": [
    "M\n",
    "A\n",
    "T\n",
    "H\n",
    "**\n",
    "B\n",
    "L\n",
    "O\n",
    "C\n",
    "K\n",
    "\n",
    "B\n",
    "y"
   ]
  },
  {
   "cell_type": "markdown",
   "id": "3a0a429b_1",
   "metadata": {
    "editable": true
   },
   "source": [
    "o\n",
    "l\n",
    "v"
   ]
  },
  {
   "cell_type": "markdown",
   "id": "c24f7c50_9",
   "metadata": {
    "editable": true
   },
   "source": [
    "t\n",
    "h"
   ]
  },
  {
   "cell_type": "markdown",
   "id": "a42c0f9d",
   "metadata": {
    "editable": true
   },
   "source": [
    "f\n",
    "o"
   ]
  },
  {
   "cell_type": "markdown",
   "id": "f4f2c6ec",
   "metadata": {
    "editable": true
   },
   "source": [
    "$\n",
    "t\n",
    "**\n",
    "{\n",
    "\\\n",
    "t"
   ]
  },
  {
   "cell_type": "markdown",
   "id": "9df0096f_2",
   "metadata": {
    "editable": true
   },
   "source": [
    "t\n",
    "{"
   ]
  },
  {
   "cell_type": "markdown",
   "id": "f095d346",
   "metadata": {
    "editable": true
   },
   "source": [
    "}\n",
    "}\n",
    "$\n",
    ",\n",
    "\n",
    "t\n",
    "h"
   ]
  },
  {
   "cell_type": "markdown",
   "id": "8a276838_18",
   "metadata": {
    "editable": true
   },
   "source": [
    "t"
   ]
  },
  {
   "cell_type": "markdown",
   "id": "4fde0463_5",
   "metadata": {
    "editable": true
   },
   "source": [
    "m"
   ]
  },
  {
   "cell_type": "markdown",
   "id": "9505a549_1",
   "metadata": {
    "editable": true
   },
   "source": [
    "o\n",
    "f\n",
    "\n",
    "t\n",
    "h"
   ]
  },
  {
   "cell_type": "markdown",
   "id": "dc8cde44_1",
   "metadata": {
    "editable": true
   },
   "source": [
    "t\n",
    "\n",
    "a"
   ]
  },
  {
   "cell_type": "markdown",
   "id": "8a276838_19",
   "metadata": {
    "editable": true
   },
   "source": [
    "t"
   ]
  },
  {
   "cell_type": "markdown",
   "id": "cbb625b4_6",
   "metadata": {
    "editable": true
   },
   "source": [
    "o"
   ]
  },
  {
   "cell_type": "markdown",
   "id": "c13827e5_3",
   "metadata": {
    "editable": true
   },
   "source": [
    "p\n",
    "o\n",
    "t"
   ]
  },
  {
   "cell_type": "markdown",
   "id": "8a276838_20",
   "metadata": {
    "editable": true
   },
   "source": [
    "t"
   ]
  },
  {
   "cell_type": "markdown",
   "id": "d4f42ea1",
   "metadata": {
    "editable": true
   },
   "source": [
    "a\n",
    "l\n",
    ",\n",
    "\n",
    "w"
   ]
  },
  {
   "cell_type": "markdown",
   "id": "abd37534_10",
   "metadata": {
    "editable": true
   },
   "source": [
    "a"
   ]
  },
  {
   "cell_type": "markdown",
   "id": "06c9f714_9",
   "metadata": {
    "editable": true
   },
   "source": [
    "d"
   ]
  },
  {
   "cell_type": "markdown",
   "id": "8a276838_21",
   "metadata": {
    "editable": true
   },
   "source": [
    "t"
   ]
  },
  {
   "cell_type": "markdown",
   "id": "4fde0463_6",
   "metadata": {
    "editable": true
   },
   "source": [
    "m"
   ]
  },
  {
   "cell_type": "markdown",
   "id": "c24f7c50_10",
   "metadata": {
    "editable": true
   },
   "source": [
    "t\n",
    "h"
   ]
  },
  {
   "cell_type": "markdown",
   "id": "8a276838_22",
   "metadata": {
    "editable": true
   },
   "source": [
    "t"
   ]
  },
  {
   "cell_type": "markdown",
   "id": "e22bd066_1",
   "metadata": {
    "editable": true
   },
   "source": [
    "p"
   ]
  },
  {
   "cell_type": "markdown",
   "id": "5006bab5",
   "metadata": {
    "editable": true
   },
   "source": [
    "k"
   ]
  },
  {
   "cell_type": "markdown",
   "id": "8a276838_23",
   "metadata": {
    "editable": true
   },
   "source": [
    "t"
   ]
  },
  {
   "cell_type": "markdown",
   "id": "3249a097",
   "metadata": {
    "editable": true
   },
   "source": [
    "v\n",
    "a\n",
    "l\n",
    "\n",
    "f\n",
    "o"
   ]
  },
  {
   "cell_type": "markdown",
   "id": "cbb625b4_7",
   "metadata": {
    "editable": true
   },
   "source": [
    "o"
   ]
  },
  {
   "cell_type": "markdown",
   "id": "a7487b86_2",
   "metadata": {
    "editable": true
   },
   "source": [
    "t\n",
    "a"
   ]
  },
  {
   "cell_type": "markdown",
   "id": "c97c6af1",
   "metadata": {
    "editable": true
   },
   "source": [
    "t\n",
    "\n",
    "$\n",
    "I\n",
    "**"
   ]
  },
  {
   "cell_type": "markdown",
   "id": "483508c5",
   "metadata": {
    "editable": true
   },
   "source": [
    "$\n",
    ",\n",
    "\n",
    "o"
   ]
  },
  {
   "cell_type": "markdown",
   "id": "8acd7084_1",
   "metadata": {
    "editable": true
   },
   "source": [
    "q"
   ]
  },
  {
   "cell_type": "markdown",
   "id": "cad702f1_2",
   "metadata": {
    "editable": true
   },
   "source": [
    "v\n",
    "a\n",
    "l"
   ]
  },
  {
   "cell_type": "markdown",
   "id": "221db42c",
   "metadata": {
    "editable": true
   },
   "source": [
    "t\n",
    "l\n",
    "y"
   ]
  },
  {
   "cell_type": "markdown",
   "id": "8a276838_24",
   "metadata": {
    "editable": true
   },
   "source": [
    "t"
   ]
  },
  {
   "cell_type": "markdown",
   "id": "df4e7160",
   "metadata": {
    "editable": true
   },
   "source": [
    "v"
   ]
  },
  {
   "cell_type": "markdown",
   "id": "c63a5609",
   "metadata": {
    "editable": true
   },
   "source": [
    ",\n",
    "\n",
    "w\n",
    "h"
   ]
  },
  {
   "cell_type": "markdown",
   "id": "031335d5",
   "metadata": {
    "editable": true
   },
   "source": [
    "h\n",
    "\n",
    "w"
   ]
  },
  {
   "cell_type": "markdown",
   "id": "5377406e",
   "metadata": {
    "editable": true
   },
   "source": [
    "a\n",
    "l\n",
    "l\n",
    "\n",
    "t\n",
    "h"
   ]
  },
  {
   "cell_type": "markdown",
   "id": "8a276838_25",
   "metadata": {
    "editable": true
   },
   "source": [
    "t"
   ]
  },
  {
   "cell_type": "markdown",
   "id": "e22bd066_2",
   "metadata": {
    "editable": true
   },
   "source": [
    "p"
   ]
  },
  {
   "cell_type": "markdown",
   "id": "5006bab5_1",
   "metadata": {
    "editable": true
   },
   "source": [
    "k"
   ]
  },
  {
   "cell_type": "markdown",
   "id": "8a276838_26",
   "metadata": {
    "editable": true
   },
   "source": [
    "t"
   ]
  },
  {
   "cell_type": "markdown",
   "id": "990ddee8",
   "metadata": {
    "editable": true
   },
   "source": [
    "v\n",
    "a\n",
    "l\n",
    "\n",
    "f"
   ]
  },
  {
   "cell_type": "markdown",
   "id": "ee99ddb9_6",
   "metadata": {
    "editable": true
   },
   "source": [
    "a\n",
    "t"
   ]
  },
  {
   "cell_type": "markdown",
   "id": "9505a549_2",
   "metadata": {
    "editable": true
   },
   "source": [
    "o\n",
    "f\n",
    "\n",
    "t\n",
    "h"
   ]
  },
  {
   "cell_type": "markdown",
   "id": "cbb625b4_8",
   "metadata": {
    "editable": true
   },
   "source": [
    "o"
   ]
  },
  {
   "cell_type": "markdown",
   "id": "3aef51b4",
   "metadata": {
    "editable": true
   },
   "source": [
    ",\n",
    "\n",
    "2\n",
    "1"
   ]
  },
  {
   "cell_type": "markdown",
   "id": "0e10a93c",
   "metadata": {
    "editable": true
   },
   "source": [
    "M\n",
    "A\n",
    "T\n",
    "H\n",
    "**\n",
    "B\n",
    "L\n",
    "O\n",
    "C\n",
    "K\n",
    "\n",
    "T\n",
    "h"
   ]
  },
  {
   "cell_type": "markdown",
   "id": "e22bd066_3",
   "metadata": {
    "editable": true
   },
   "source": [
    "p"
   ]
  },
  {
   "cell_type": "markdown",
   "id": "cbb625b4_9",
   "metadata": {
    "editable": true
   },
   "source": [
    "o"
   ]
  },
  {
   "cell_type": "markdown",
   "id": "cad702f1_3",
   "metadata": {
    "editable": true
   },
   "source": [
    "v\n",
    "a\n",
    "l"
   ]
  },
  {
   "cell_type": "markdown",
   "id": "06c9f714_10",
   "metadata": {
    "editable": true
   },
   "source": [
    "d"
   ]
  },
  {
   "cell_type": "markdown",
   "id": "9c37be23",
   "metadata": {
    "editable": true
   },
   "source": [
    "f\n",
    "\n",
    "$\n",
    "R\n",
    "**\n",
    "m\n",
    "\n",
    "I\n",
    "**"
   ]
  },
  {
   "cell_type": "markdown",
   "id": "a3353f5c_1",
   "metadata": {
    "editable": true
   },
   "source": [
    "**\n",
    "{\n",
    "\\\n",
    "t"
   ]
  },
  {
   "cell_type": "markdown",
   "id": "3f9a0df1",
   "metadata": {
    "editable": true
   },
   "source": [
    "t\n",
    "{\n",
    "t\n",
    "h\n",
    "}\n",
    "}"
   ]
  },
  {
   "cell_type": "markdown",
   "id": "a3353f5c_2",
   "metadata": {
    "editable": true
   },
   "source": [
    "**\n",
    "{\n",
    "\\\n",
    "t"
   ]
  },
  {
   "cell_type": "markdown",
   "id": "9df0096f_3",
   "metadata": {
    "editable": true
   },
   "source": [
    "t\n",
    "{"
   ]
  },
  {
   "cell_type": "markdown",
   "id": "e36c139d",
   "metadata": {
    "editable": true
   },
   "source": [
    "t\n",
    "}\n",
    "}\n",
    "$\n",
    ",\n",
    "\n",
    "o\n",
    "t\n",
    "h"
   ]
  },
  {
   "cell_type": "markdown",
   "id": "5e4165a6",
   "metadata": {
    "editable": true
   },
   "source": [
    "w"
   ]
  },
  {
   "cell_type": "markdown",
   "id": "23fa1e67_4",
   "metadata": {
    "editable": true
   },
   "source": [
    "$"
   ]
  },
  {
   "cell_type": "markdown",
   "id": "a3353f5c_3",
   "metadata": {
    "editable": true
   },
   "source": [
    "**\n",
    "{\n",
    "\\\n",
    "t"
   ]
  },
  {
   "cell_type": "markdown",
   "id": "9df0096f_4",
   "metadata": {
    "editable": true
   },
   "source": [
    "t\n",
    "{"
   ]
  },
  {
   "cell_type": "markdown",
   "id": "fdde46c4",
   "metadata": {
    "editable": true
   },
   "source": [
    "}\n",
    "}\n",
    "\n",
    "=\n",
    "\n",
    "0\n",
    "$\n",
    ".\n",
    "\n",
    "F\n",
    "o"
   ]
  },
  {
   "cell_type": "markdown",
   "id": "c286a5be",
   "metadata": {
    "editable": true
   },
   "source": [
    "f\n",
    "f"
   ]
  },
  {
   "cell_type": "markdown",
   "id": "2a5a72f0",
   "metadata": {
    "editable": true
   },
   "source": [
    "t\n",
    "l\n",
    "y\n",
    "\n",
    "l\n",
    "a"
   ]
  },
  {
   "cell_type": "markdown",
   "id": "cad702f1_4",
   "metadata": {
    "editable": true
   },
   "source": [
    "v\n",
    "a\n",
    "l"
   ]
  },
  {
   "cell_type": "markdown",
   "id": "1086c402",
   "metadata": {
    "editable": true
   },
   "source": [
    "o\n",
    "f\n",
    "\n",
    "$\n",
    "I\n",
    "**"
   ]
  },
  {
   "cell_type": "markdown",
   "id": "91b4ebb7",
   "metadata": {
    "editable": true
   },
   "source": [
    "$\n",
    ",\n",
    "\n",
    "w"
   ]
  },
  {
   "cell_type": "markdown",
   "id": "abd37534_11",
   "metadata": {
    "editable": true
   },
   "source": [
    "a"
   ]
  },
  {
   "cell_type": "markdown",
   "id": "c24f7c50_11",
   "metadata": {
    "editable": true
   },
   "source": [
    "t\n",
    "h"
   ]
  },
  {
   "cell_type": "markdown",
   "id": "2e0cc996_3",
   "metadata": {
    "editable": true
   },
   "source": [
    "l"
   ]
  },
  {
   "cell_type": "markdown",
   "id": "abd37534_12",
   "metadata": {
    "editable": true
   },
   "source": [
    "a"
   ]
  },
  {
   "cell_type": "markdown",
   "id": "1e923576",
   "metadata": {
    "editable": true
   },
   "source": [
    "a\n",
    "p\n",
    "p"
   ]
  },
  {
   "cell_type": "markdown",
   "id": "cbb625b4_10",
   "metadata": {
    "editable": true
   },
   "source": [
    "o"
   ]
  },
  {
   "cell_type": "markdown",
   "id": "fa2d1911",
   "metadata": {
    "editable": true
   },
   "source": [
    "m\n",
    "a\n",
    "t"
   ]
  },
  {
   "cell_type": "markdown",
   "id": "cbb625b4_11",
   "metadata": {
    "editable": true
   },
   "source": [
    "o"
   ]
  },
  {
   "cell_type": "markdown",
   "id": "9505a549_3",
   "metadata": {
    "editable": true
   },
   "source": [
    "o\n",
    "f\n",
    "\n",
    "t\n",
    "h"
   ]
  },
  {
   "cell_type": "markdown",
   "id": "4f37ae22_1",
   "metadata": {
    "editable": true
   },
   "source": [
    "l\n",
    "o"
   ]
  },
  {
   "cell_type": "markdown",
   "id": "abd37534_13",
   "metadata": {
    "editable": true
   },
   "source": [
    "a"
   ]
  },
  {
   "cell_type": "markdown",
   "id": "a76862ab",
   "metadata": {
    "editable": true
   },
   "source": [
    "t\n",
    "h\n",
    "m\n",
    "\n",
    "(\n",
    "$\n",
    "\\\n",
    "l"
   ]
  },
  {
   "cell_type": "markdown",
   "id": "8a6f1731",
   "metadata": {
    "editable": true
   },
   "source": [
    "(\n",
    "1\n",
    "\n",
    "+\n",
    "\n",
    "z\n",
    "\n",
    ")\n",
    "\n",
    "\\\n",
    "a\n",
    "p\n",
    "p"
   ]
  },
  {
   "cell_type": "markdown",
   "id": "cbb625b4_12",
   "metadata": {
    "editable": true
   },
   "source": [
    "o"
   ]
  },
  {
   "cell_type": "markdown",
   "id": "aaee9a53",
   "metadata": {
    "editable": true
   },
   "source": [
    "z\n",
    "$\n",
    "\n",
    "f\n",
    "o"
   ]
  },
  {
   "cell_type": "markdown",
   "id": "ba4226a3",
   "metadata": {
    "editable": true
   },
   "source": [
    "m\n",
    "a\n",
    "l\n",
    "l\n",
    "\n",
    "$\n",
    "z\n",
    "$\n",
    ")\n",
    "\n",
    "t\n",
    "o"
   ]
  },
  {
   "cell_type": "markdown",
   "id": "5941a1d1",
   "metadata": {
    "editable": true
   },
   "source": [
    "h\n",
    "o\n",
    "w\n",
    "\n",
    "t\n",
    "h\n",
    "a\n",
    "t\n",
    "\n",
    "2\n",
    "2"
   ]
  },
  {
   "cell_type": "markdown",
   "id": "48437158_1",
   "metadata": {
    "editable": true
   },
   "source": [
    "M\n",
    "A\n",
    "T\n",
    "H\n",
    "**\n",
    "B\n",
    "L\n",
    "O\n",
    "C\n",
    "K\n",
    "\n",
    "w\n",
    "h"
   ]
  },
  {
   "cell_type": "markdown",
   "id": "e0ccaead_2",
   "metadata": {
    "editable": true
   },
   "source": [
    "h"
   ]
  },
  {
   "cell_type": "markdown",
   "id": "468530b2",
   "metadata": {
    "editable": true
   },
   "source": [
    "h\n",
    "o\n",
    "w"
   ]
  },
  {
   "cell_type": "markdown",
   "id": "e2914683",
   "metadata": {
    "editable": true
   },
   "source": [
    "t\n",
    "h\n",
    "a\n",
    "t\n",
    "\n",
    "t\n",
    "h"
   ]
  },
  {
   "cell_type": "markdown",
   "id": "d4bf0e3a_4",
   "metadata": {
    "editable": true
   },
   "source": [
    "f"
   ]
  },
  {
   "cell_type": "markdown",
   "id": "ee99ddb9_7",
   "metadata": {
    "editable": true
   },
   "source": [
    "a\n",
    "t"
   ]
  },
  {
   "cell_type": "markdown",
   "id": "1227d552_1",
   "metadata": {
    "editable": true
   },
   "source": [
    "o\n",
    "w"
   ]
  },
  {
   "cell_type": "markdown",
   "id": "2e0cc996_4",
   "metadata": {
    "editable": true
   },
   "source": [
    "l"
   ]
  },
  {
   "cell_type": "markdown",
   "id": "abd37534_14",
   "metadata": {
    "editable": true
   },
   "source": [
    "a"
   ]
  },
  {
   "cell_type": "markdown",
   "id": "a310e36e_1",
   "metadata": {
    "editable": true
   },
   "source": [
    "l\n",
    "y\n",
    "\n",
    "w"
   ]
  },
  {
   "cell_type": "markdown",
   "id": "29df7c56",
   "metadata": {
    "editable": true
   },
   "source": [
    "t\n",
    "h\n",
    "\n",
    "$\n",
    "I\n",
    "**"
   ]
  },
  {
   "cell_type": "markdown",
   "id": "d3b2a3fb",
   "metadata": {
    "editable": true
   },
   "source": [
    "$\n",
    "\n",
    "f\n",
    "o"
   ]
  },
  {
   "cell_type": "markdown",
   "id": "8d8bf42e",
   "metadata": {
    "editable": true
   },
   "source": [
    "l\n",
    "a"
   ]
  },
  {
   "cell_type": "markdown",
   "id": "38bc3605_1",
   "metadata": {
    "editable": true
   },
   "source": [
    "$\n",
    "I\n",
    "**"
   ]
  },
  {
   "cell_type": "markdown",
   "id": "4c2b1bba",
   "metadata": {
    "editable": true
   },
   "source": [
    "$\n",
    ".\n",
    "<!-- --- end solution of exercise --- -->\n",
    "S\n",
    "h\n",
    "o\n",
    "w\n",
    "\n",
    "t\n",
    "h\n",
    "a\n",
    "t\n",
    "\n",
    "t\n",
    "h"
   ]
  },
  {
   "cell_type": "markdown",
   "id": "d4bf0e3a_5",
   "metadata": {
    "editable": true
   },
   "source": [
    "f"
   ]
  },
  {
   "cell_type": "markdown",
   "id": "ee99ddb9_8",
   "metadata": {
    "editable": true
   },
   "source": [
    "a\n",
    "t"
   ]
  },
  {
   "cell_type": "markdown",
   "id": "9505a549_4",
   "metadata": {
    "editable": true
   },
   "source": [
    "o\n",
    "f\n",
    "\n",
    "t\n",
    "h"
   ]
  },
  {
   "cell_type": "markdown",
   "id": "8a276838_27",
   "metadata": {
    "editable": true
   },
   "source": [
    "t"
   ]
  },
  {
   "cell_type": "markdown",
   "id": "ee99ddb9_9",
   "metadata": {
    "editable": true
   },
   "source": [
    "a\n",
    "t"
   ]
  },
  {
   "cell_type": "markdown",
   "id": "abd37534_15",
   "metadata": {
    "editable": true
   },
   "source": [
    "a"
   ]
  },
  {
   "cell_type": "markdown",
   "id": "f9d925d4_1",
   "metadata": {
    "editable": true
   },
   "source": [
    "d\n",
    "\n",
    "f"
   ]
  },
  {
   "cell_type": "markdown",
   "id": "1c98f1d4_3",
   "metadata": {
    "editable": true
   },
   "source": [
    "m\n",
    "o\n",
    "d"
   ]
  },
  {
   "cell_type": "markdown",
   "id": "2e0cc996_5",
   "metadata": {
    "editable": true
   },
   "source": [
    "l"
   ]
  },
  {
   "cell_type": "markdown",
   "id": "1227d552_2",
   "metadata": {
    "editable": true
   },
   "source": [
    "o\n",
    "w"
   ]
  },
  {
   "cell_type": "markdown",
   "id": "2e0cc996_6",
   "metadata": {
    "editable": true
   },
   "source": [
    "l"
   ]
  },
  {
   "cell_type": "markdown",
   "id": "abd37534_16",
   "metadata": {
    "editable": true
   },
   "source": [
    "a"
   ]
  },
  {
   "cell_type": "markdown",
   "id": "a310e36e_2",
   "metadata": {
    "editable": true
   },
   "source": [
    "l\n",
    "y\n",
    "\n",
    "w"
   ]
  },
  {
   "cell_type": "markdown",
   "id": "c24f7c50_12",
   "metadata": {
    "editable": true
   },
   "source": [
    "t\n",
    "h"
   ]
  },
  {
   "cell_type": "markdown",
   "id": "cbb625b4_13",
   "metadata": {
    "editable": true
   },
   "source": [
    "o"
   ]
  },
  {
   "cell_type": "markdown",
   "id": "a7487b86_3",
   "metadata": {
    "editable": true
   },
   "source": [
    "t\n",
    "a"
   ]
  },
  {
   "cell_type": "markdown",
   "id": "8a276838_28",
   "metadata": {
    "editable": true
   },
   "source": [
    "t"
   ]
  },
  {
   "cell_type": "markdown",
   "id": "fcd074cd_3",
   "metadata": {
    "editable": true
   },
   "source": [
    "j"
   ]
  },
  {
   "cell_type": "markdown",
   "id": "8a276838_29",
   "metadata": {
    "editable": true
   },
   "source": [
    "t"
   ]
  },
  {
   "cell_type": "markdown",
   "id": "06c9f714_11",
   "metadata": {
    "editable": true
   },
   "source": [
    "d"
   ]
  },
  {
   "cell_type": "markdown",
   "id": "8a276838_30",
   "metadata": {
    "editable": true
   },
   "source": [
    "t"
   ]
  },
  {
   "cell_type": "markdown",
   "id": "abd37534_17",
   "metadata": {
    "editable": true
   },
   "source": [
    "a"
   ]
  },
  {
   "cell_type": "markdown",
   "id": "baf0d826",
   "metadata": {
    "editable": true
   },
   "source": [
    "2\n",
    "\n",
    "7"
   ]
  },
  {
   "cell_type": "markdown",
   "id": "f7f9758d",
   "metadata": {
    "editable": true
   },
   "source": [
    "C\n",
    "O\n",
    "D\n",
    "E\n",
    "**\n",
    "B\n",
    "L\n",
    "O\n",
    "C\n",
    "K\n",
    "\n",
    "p\n",
    "y"
   ]
  },
  {
   "cell_type": "markdown",
   "id": "7d2ceaa6",
   "metadata": {
    "editable": true
   },
   "source": [
    "o\n",
    "d"
   ]
  },
  {
   "cell_type": "markdown",
   "id": "192f56eb",
   "metadata": {
    "editable": true
   },
   "source": [
    "9"
   ]
  },
  {
   "cell_type": "markdown",
   "id": "79110b2a",
   "metadata": {
    "editable": true
   },
   "source": [
    "C\n",
    "O\n",
    "D\n",
    "E\n",
    "_\n",
    "B\n",
    "L\n",
    "O\n",
    "C\n",
    "K\n",
    "\n",
    "p\n",
    "y"
   ]
  },
  {
   "cell_type": "markdown",
   "id": "7d2ceaa6_1",
   "metadata": {
    "editable": true
   },
   "source": [
    "o\n",
    "d"
   ]
  },
  {
   "cell_type": "markdown",
   "id": "7847a2f9",
   "metadata": {
    "editable": true
   },
   "source": [
    "**b)**\n",
    "S\n",
    "h\n",
    "o\n",
    "w\n",
    "\n",
    "t\n",
    "h\n",
    "a\n",
    "t\n",
    "\n",
    "t\n",
    "h"
   ]
  },
  {
   "cell_type": "markdown",
   "id": "d4bf0e3a_6",
   "metadata": {
    "editable": true
   },
   "source": [
    "f"
   ]
  },
  {
   "cell_type": "markdown",
   "id": "ee99ddb9_10",
   "metadata": {
    "editable": true
   },
   "source": [
    "a\n",
    "t"
   ]
  },
  {
   "cell_type": "markdown",
   "id": "9505a549_5",
   "metadata": {
    "editable": true
   },
   "source": [
    "o\n",
    "f\n",
    "\n",
    "t\n",
    "h"
   ]
  },
  {
   "cell_type": "markdown",
   "id": "8a276838_31",
   "metadata": {
    "editable": true
   },
   "source": [
    "t"
   ]
  },
  {
   "cell_type": "markdown",
   "id": "ee99ddb9_11",
   "metadata": {
    "editable": true
   },
   "source": [
    "a\n",
    "t"
   ]
  },
  {
   "cell_type": "markdown",
   "id": "abd37534_18",
   "metadata": {
    "editable": true
   },
   "source": [
    "a"
   ]
  },
  {
   "cell_type": "markdown",
   "id": "f9d925d4_2",
   "metadata": {
    "editable": true
   },
   "source": [
    "d\n",
    "\n",
    "f"
   ]
  },
  {
   "cell_type": "markdown",
   "id": "1c98f1d4_4",
   "metadata": {
    "editable": true
   },
   "source": [
    "m\n",
    "o\n",
    "d"
   ]
  },
  {
   "cell_type": "markdown",
   "id": "2e0cc996_7",
   "metadata": {
    "editable": true
   },
   "source": [
    "l"
   ]
  },
  {
   "cell_type": "markdown",
   "id": "1227d552_3",
   "metadata": {
    "editable": true
   },
   "source": [
    "o\n",
    "w"
   ]
  },
  {
   "cell_type": "markdown",
   "id": "2e0cc996_8",
   "metadata": {
    "editable": true
   },
   "source": [
    "l"
   ]
  },
  {
   "cell_type": "markdown",
   "id": "abd37534_19",
   "metadata": {
    "editable": true
   },
   "source": [
    "a"
   ]
  },
  {
   "cell_type": "markdown",
   "id": "a310e36e_3",
   "metadata": {
    "editable": true
   },
   "source": [
    "l\n",
    "y\n",
    "\n",
    "w"
   ]
  },
  {
   "cell_type": "markdown",
   "id": "c24f7c50_13",
   "metadata": {
    "editable": true
   },
   "source": [
    "t\n",
    "h"
   ]
  },
  {
   "cell_type": "markdown",
   "id": "cbb625b4_14",
   "metadata": {
    "editable": true
   },
   "source": [
    "o"
   ]
  },
  {
   "cell_type": "markdown",
   "id": "a7487b86_4",
   "metadata": {
    "editable": true
   },
   "source": [
    "t\n",
    "a"
   ]
  },
  {
   "cell_type": "markdown",
   "id": "8a276838_32",
   "metadata": {
    "editable": true
   },
   "source": [
    "t"
   ]
  },
  {
   "cell_type": "markdown",
   "id": "fcd074cd_4",
   "metadata": {
    "editable": true
   },
   "source": [
    "j"
   ]
  },
  {
   "cell_type": "markdown",
   "id": "8a276838_33",
   "metadata": {
    "editable": true
   },
   "source": [
    "t"
   ]
  },
  {
   "cell_type": "markdown",
   "id": "06c9f714_12",
   "metadata": {
    "editable": true
   },
   "source": [
    "d"
   ]
  },
  {
   "cell_type": "markdown",
   "id": "966c657b_1",
   "metadata": {
    "editable": true
   },
   "source": [
    "t\n",
    "\n",
    "**\n",
    "**\n",
    "H"
   ]
  },
  {
   "cell_type": "markdown",
   "id": "f6599dc4_1",
   "metadata": {
    "editable": true
   },
   "source": [
    "t\n",
    ":\n",
    "**\n",
    "**\n",
    "\n",
    "T\n",
    "h"
   ]
  },
  {
   "cell_type": "markdown",
   "id": "d4bf0e3a_7",
   "metadata": {
    "editable": true
   },
   "source": [
    "f"
   ]
  },
  {
   "cell_type": "markdown",
   "id": "ee99ddb9_12",
   "metadata": {
    "editable": true
   },
   "source": [
    "a\n",
    "t"
   ]
  },
  {
   "cell_type": "markdown",
   "id": "f9b46887_1",
   "metadata": {
    "editable": true
   },
   "source": [
    "o\n",
    "f\n",
    "\n",
    "a"
   ]
  },
  {
   "cell_type": "markdown",
   "id": "8a276838_34",
   "metadata": {
    "editable": true
   },
   "source": [
    "t"
   ]
  },
  {
   "cell_type": "markdown",
   "id": "ee99ddb9_13",
   "metadata": {
    "editable": true
   },
   "source": [
    "a\n",
    "t"
   ]
  },
  {
   "cell_type": "markdown",
   "id": "abd37534_20",
   "metadata": {
    "editable": true
   },
   "source": [
    "a"
   ]
  },
  {
   "cell_type": "markdown",
   "id": "06c9f714_13",
   "metadata": {
    "editable": true
   },
   "source": [
    "d"
   ]
  },
  {
   "cell_type": "markdown",
   "id": "d4bf0e3a_8",
   "metadata": {
    "editable": true
   },
   "source": [
    "f"
   ]
  },
  {
   "cell_type": "markdown",
   "id": "1c98f1d4_5",
   "metadata": {
    "editable": true
   },
   "source": [
    "m\n",
    "o\n",
    "d"
   ]
  },
  {
   "cell_type": "markdown",
   "id": "2e0cc996_9",
   "metadata": {
    "editable": true
   },
   "source": [
    "l"
   ]
  },
  {
   "cell_type": "markdown",
   "id": "943fc5be_1",
   "metadata": {
    "editable": true
   },
   "source": [
    "p\n",
    "o"
   ]
  },
  {
   "cell_type": "markdown",
   "id": "072e494e_1",
   "metadata": {
    "editable": true
   },
   "source": [
    "t\n",
    "o\n",
    "\n",
    "a"
   ]
  },
  {
   "cell_type": "markdown",
   "id": "cbb625b4_15",
   "metadata": {
    "editable": true
   },
   "source": [
    "o"
   ]
  },
  {
   "cell_type": "markdown",
   "id": "a7487b86_5",
   "metadata": {
    "editable": true
   },
   "source": [
    "t\n",
    "a"
   ]
  },
  {
   "cell_type": "markdown",
   "id": "8a276838_35",
   "metadata": {
    "editable": true
   },
   "source": [
    "t"
   ]
  },
  {
   "cell_type": "markdown",
   "id": "fcd074cd_5",
   "metadata": {
    "editable": true
   },
   "source": [
    "j"
   ]
  },
  {
   "cell_type": "markdown",
   "id": "8a276838_36",
   "metadata": {
    "editable": true
   },
   "source": [
    "t"
   ]
  },
  {
   "cell_type": "markdown",
   "id": "06c9f714_14",
   "metadata": {
    "editable": true
   },
   "source": [
    "d"
   ]
  },
  {
   "cell_type": "markdown",
   "id": "8a276838_37",
   "metadata": {
    "editable": true
   },
   "source": [
    "t"
   ]
  },
  {
   "cell_type": "markdown",
   "id": "abd37534_21",
   "metadata": {
    "editable": true
   },
   "source": [
    "a"
   ]
  },
  {
   "cell_type": "markdown",
   "id": "11553beb_2",
   "metadata": {
    "editable": true
   },
   "source": [
    "o\n",
    "m\n",
    "p"
   ]
  },
  {
   "cell_type": "markdown",
   "id": "8a276838_38",
   "metadata": {
    "editable": true
   },
   "source": [
    "t"
   ]
  },
  {
   "cell_type": "markdown",
   "id": "d933f4bc_2",
   "metadata": {
    "editable": true
   },
   "source": [
    "d\n",
    "\n",
    "a"
   ]
  },
  {
   "cell_type": "markdown",
   "id": "5676fdc0_1",
   "metadata": {
    "editable": true
   },
   "source": [
    "a\n",
    "l\n",
    "y\n",
    "t"
   ]
  },
  {
   "cell_type": "markdown",
   "id": "9ccd5de3_1",
   "metadata": {
    "editable": true
   },
   "source": [
    "a\n",
    "l\n",
    "l\n",
    "y\n",
    ".\n",
    "\n",
    "W\n",
    "h"
   ]
  },
  {
   "cell_type": "markdown",
   "id": "38bc3605_2",
   "metadata": {
    "editable": true
   },
   "source": [
    "$\n",
    "I\n",
    "**"
   ]
  },
  {
   "cell_type": "markdown",
   "id": "23fa1e67_5",
   "metadata": {
    "editable": true
   },
   "source": [
    "$"
   ]
  },
  {
   "cell_type": "markdown",
   "id": "06c9f714_15",
   "metadata": {
    "editable": true
   },
   "source": [
    "d"
   ]
  },
  {
   "cell_type": "markdown",
   "id": "e22bd066_4",
   "metadata": {
    "editable": true
   },
   "source": [
    "p"
   ]
  },
  {
   "cell_type": "markdown",
   "id": "06c9f714_16",
   "metadata": {
    "editable": true
   },
   "source": [
    "d"
   ]
  },
  {
   "cell_type": "markdown",
   "id": "6cda2401_1",
   "metadata": {
    "editable": true
   },
   "source": [
    "t\n",
    "\n",
    "o\n",
    "f\n",
    "\n",
    "t"
   ]
  },
  {
   "cell_type": "markdown",
   "id": "4fde0463_7",
   "metadata": {
    "editable": true
   },
   "source": [
    "m"
   ]
  },
  {
   "cell_type": "markdown",
   "id": "abd6f42b_1",
   "metadata": {
    "editable": true
   },
   "source": [
    ",\n",
    "\n",
    "t\n",
    "h"
   ]
  },
  {
   "cell_type": "markdown",
   "id": "c24f7c50_14",
   "metadata": {
    "editable": true
   },
   "source": [
    "t\n",
    "h"
   ]
  },
  {
   "cell_type": "markdown",
   "id": "27c66011_1",
   "metadata": {
    "editable": true
   },
   "source": [
    "h\n",
    "o\n",
    "l\n",
    "d\n",
    "\n",
    "p\n",
    "o\n",
    "t"
   ]
  },
  {
   "cell_type": "markdown",
   "id": "8a276838_39",
   "metadata": {
    "editable": true
   },
   "source": [
    "t"
   ]
  },
  {
   "cell_type": "markdown",
   "id": "6cb09307_1",
   "metadata": {
    "editable": true
   },
   "source": [
    "a\n",
    "l\n",
    "\n",
    "$"
   ]
  },
  {
   "cell_type": "markdown",
   "id": "26b67ff8_1",
   "metadata": {
    "editable": true
   },
   "source": [
    "(\n",
    "t\n",
    ")\n",
    "$"
   ]
  },
  {
   "cell_type": "markdown",
   "id": "abd37534_22",
   "metadata": {
    "editable": true
   },
   "source": [
    "a"
   ]
  },
  {
   "cell_type": "markdown",
   "id": "11553beb_3",
   "metadata": {
    "editable": true
   },
   "source": [
    "o\n",
    "m\n",
    "p"
   ]
  },
  {
   "cell_type": "markdown",
   "id": "8a276838_40",
   "metadata": {
    "editable": true
   },
   "source": [
    "t"
   ]
  },
  {
   "cell_type": "markdown",
   "id": "06c9f714_17",
   "metadata": {
    "editable": true
   },
   "source": [
    "d"
   ]
  },
  {
   "cell_type": "markdown",
   "id": "518d3dd9_1",
   "metadata": {
    "editable": true
   },
   "source": [
    "y"
   ]
  },
  {
   "cell_type": "markdown",
   "id": "3a0a429b_2",
   "metadata": {
    "editable": true
   },
   "source": [
    "o\n",
    "l\n",
    "v"
   ]
  },
  {
   "cell_type": "markdown",
   "id": "8acd7084_2",
   "metadata": {
    "editable": true
   },
   "source": [
    "q"
   ]
  },
  {
   "cell_type": "markdown",
   "id": "ee99ddb9_14",
   "metadata": {
    "editable": true
   },
   "source": [
    "a\n",
    "t"
   ]
  },
  {
   "cell_type": "markdown",
   "id": "cbb625b4_16",
   "metadata": {
    "editable": true
   },
   "source": [
    "o"
   ]
  },
  {
   "cell_type": "markdown",
   "id": "bbe923d6_1",
   "metadata": {
    "editable": true
   },
   "source": [
    "("
   ]
  },
  {
   "cell_type": "markdown",
   "id": "baeb3376_1",
   "metadata": {
    "editable": true
   },
   "source": [
    "f\n",
    "{"
   ]
  },
  {
   "cell_type": "markdown",
   "id": "77f6a690_1",
   "metadata": {
    "editable": true
   },
   "source": [
    "q\n",
    ":"
   ]
  },
  {
   "cell_type": "markdown",
   "id": "e0ccaead_3",
   "metadata": {
    "editable": true
   },
   "source": [
    "h"
   ]
  },
  {
   "cell_type": "markdown",
   "id": "8a276838_41",
   "metadata": {
    "editable": true
   },
   "source": [
    "t"
   ]
  },
  {
   "cell_type": "markdown",
   "id": "d556d223_1",
   "metadata": {
    "editable": true
   },
   "source": [
    "**\n",
    "l"
   ]
  },
  {
   "cell_type": "markdown",
   "id": "bb1af6b5_1",
   "metadata": {
    "editable": true
   },
   "source": [
    "f\n",
    "}\n",
    ")\n",
    "\n",
    "a"
   ]
  },
  {
   "cell_type": "markdown",
   "id": "06c9f714_18",
   "metadata": {
    "editable": true
   },
   "source": [
    "d"
   ]
  },
  {
   "cell_type": "markdown",
   "id": "501f2da4_1",
   "metadata": {
    "editable": true
   },
   "source": [
    "1\n",
    "9"
   ]
  },
  {
   "cell_type": "markdown",
   "id": "48437158_2",
   "metadata": {
    "editable": true
   },
   "source": [
    "M\n",
    "A\n",
    "T\n",
    "H\n",
    "**\n",
    "B\n",
    "L\n",
    "O\n",
    "C\n",
    "K\n",
    "\n",
    "w\n",
    "h"
   ]
  },
  {
   "cell_type": "markdown",
   "id": "23fa1e67_6",
   "metadata": {
    "editable": true
   },
   "source": [
    "$"
   ]
  },
  {
   "cell_type": "markdown",
   "id": "aed52001_1",
   "metadata": {
    "editable": true
   },
   "source": [
    "(\n",
    "0\n",
    ")\n",
    "$"
   ]
  },
  {
   "cell_type": "markdown",
   "id": "c24f7c50_15",
   "metadata": {
    "editable": true
   },
   "source": [
    "t\n",
    "h"
   ]
  },
  {
   "cell_type": "markdown",
   "id": "cad702f1_5",
   "metadata": {
    "editable": true
   },
   "source": [
    "v\n",
    "a\n",
    "l"
   ]
  },
  {
   "cell_type": "markdown",
   "id": "1d03cb01_1",
   "metadata": {
    "editable": true
   },
   "source": [
    "o\n",
    "f"
   ]
  },
  {
   "cell_type": "markdown",
   "id": "1a654a32_1",
   "metadata": {
    "editable": true
   },
   "source": [
    "a\n",
    "t\n",
    "\n",
    "t"
   ]
  },
  {
   "cell_type": "markdown",
   "id": "4fde0463_8",
   "metadata": {
    "editable": true
   },
   "source": [
    "m"
   ]
  },
  {
   "cell_type": "markdown",
   "id": "f1ba56f9_1",
   "metadata": {
    "editable": true
   },
   "source": [
    "$\n",
    "t\n",
    "\n",
    "=\n",
    "\n",
    "0\n",
    "$\n",
    ".\n",
    "\n",
    "I\n",
    "t"
   ]
  },
  {
   "cell_type": "markdown",
   "id": "cad702f1_6",
   "metadata": {
    "editable": true
   },
   "source": [
    "v\n",
    "a\n",
    "l"
   ]
  },
  {
   "cell_type": "markdown",
   "id": "d5493a6f_1",
   "metadata": {
    "editable": true
   },
   "source": [
    "d\n",
    "\n",
    "f\n",
    "o"
   ]
  },
  {
   "cell_type": "markdown",
   "id": "c24f7c50_16",
   "metadata": {
    "editable": true
   },
   "source": [
    "t\n",
    "h"
   ]
  },
  {
   "cell_type": "markdown",
   "id": "8a276838_42",
   "metadata": {
    "editable": true
   },
   "source": [
    "t"
   ]
  },
  {
   "cell_type": "markdown",
   "id": "ee99ddb9_15",
   "metadata": {
    "editable": true
   },
   "source": [
    "a\n",
    "t"
   ]
  },
  {
   "cell_type": "markdown",
   "id": "abd37534_23",
   "metadata": {
    "editable": true
   },
   "source": [
    "a"
   ]
  },
  {
   "cell_type": "markdown",
   "id": "06c9f714_19",
   "metadata": {
    "editable": true
   },
   "source": [
    "d"
   ]
  },
  {
   "cell_type": "markdown",
   "id": "d4bf0e3a_9",
   "metadata": {
    "editable": true
   },
   "source": [
    "f"
   ]
  },
  {
   "cell_type": "markdown",
   "id": "1c98f1d4_6",
   "metadata": {
    "editable": true
   },
   "source": [
    "m\n",
    "o\n",
    "d"
   ]
  },
  {
   "cell_type": "markdown",
   "id": "64a9f6c4_1",
   "metadata": {
    "editable": true
   },
   "source": [
    "l\n",
    "\n",
    "o"
   ]
  },
  {
   "cell_type": "markdown",
   "id": "45cc2bff_1",
   "metadata": {
    "editable": true
   },
   "source": [
    "l\n",
    "y\n",
    "\n",
    "a"
   ]
  },
  {
   "cell_type": "markdown",
   "id": "4f37ae22_2",
   "metadata": {
    "editable": true
   },
   "source": [
    "l\n",
    "o"
   ]
  },
  {
   "cell_type": "markdown",
   "id": "abd37534_24",
   "metadata": {
    "editable": true
   },
   "source": [
    "a"
   ]
  },
  {
   "cell_type": "markdown",
   "id": "23fa1e67_7",
   "metadata": {
    "editable": true
   },
   "source": [
    "$"
   ]
  },
  {
   "cell_type": "markdown",
   "id": "23fa1e67_8",
   "metadata": {
    "editable": true
   },
   "source": [
    "$"
   ]
  },
  {
   "cell_type": "markdown",
   "id": "c2c97ea6_1",
   "metadata": {
    "editable": true
   },
   "source": [
    "t\n",
    "a\n",
    "y"
   ]
  },
  {
   "cell_type": "markdown",
   "id": "3f8370b8_1",
   "metadata": {
    "editable": true
   },
   "source": [
    "l\n",
    "o\n",
    "w\n",
    "\n",
    "t\n",
    "h"
   ]
  },
  {
   "cell_type": "markdown",
   "id": "c24f7c50_17",
   "metadata": {
    "editable": true
   },
   "source": [
    "t\n",
    "h"
   ]
  },
  {
   "cell_type": "markdown",
   "id": "55e1a75c_1",
   "metadata": {
    "editable": true
   },
   "source": [
    "h\n",
    "o\n",
    "l\n",
    "d\n",
    ".\n",
    "\n",
    "S"
   ]
  },
  {
   "cell_type": "markdown",
   "id": "dff6726e_1",
   "metadata": {
    "editable": true
   },
   "source": [
    "p\n",
    "p\n",
    "o"
   ]
  },
  {
   "cell_type": "markdown",
   "id": "c44d59b1_1",
   "metadata": {
    "editable": true
   },
   "source": [
    "t\n",
    "h\n",
    "a\n",
    "t\n",
    "\n",
    "a\n",
    "t\n",
    "\n",
    "$\n",
    "t\n",
    "\n",
    "=\n",
    "\n",
    "0\n",
    "$\n",
    ",\n",
    "\n",
    "t\n",
    "h"
   ]
  },
  {
   "cell_type": "markdown",
   "id": "cbb625b4_17",
   "metadata": {
    "editable": true
   },
   "source": [
    "o"
   ]
  },
  {
   "cell_type": "markdown",
   "id": "b4119098_1",
   "metadata": {
    "editable": true
   },
   "source": [
    "h\n",
    "a"
   ]
  },
  {
   "cell_type": "markdown",
   "id": "fcd074cd_6",
   "metadata": {
    "editable": true
   },
   "source": [
    "j"
   ]
  },
  {
   "cell_type": "markdown",
   "id": "e207bba9_1",
   "metadata": {
    "editable": true
   },
   "source": [
    "t\n",
    "\n",
    "f"
   ]
  },
  {
   "cell_type": "markdown",
   "id": "d933f4bc_3",
   "metadata": {
    "editable": true
   },
   "source": [
    "d\n",
    "\n",
    "a"
   ]
  },
  {
   "cell_type": "markdown",
   "id": "abd37534_25",
   "metadata": {
    "editable": true
   },
   "source": [
    "a"
   ]
  },
  {
   "cell_type": "markdown",
   "id": "8a276838_43",
   "metadata": {
    "editable": true
   },
   "source": [
    "t"
   ]
  },
  {
   "cell_type": "markdown",
   "id": "cbb625b4_18",
   "metadata": {
    "editable": true
   },
   "source": [
    "o"
   ]
  },
  {
   "cell_type": "markdown",
   "id": "c13827e5_4",
   "metadata": {
    "editable": true
   },
   "source": [
    "p\n",
    "o\n",
    "t"
   ]
  },
  {
   "cell_type": "markdown",
   "id": "8a276838_44",
   "metadata": {
    "editable": true
   },
   "source": [
    "t"
   ]
  },
  {
   "cell_type": "markdown",
   "id": "7d66dc38_1",
   "metadata": {
    "editable": true
   },
   "source": [
    "a\n",
    "l\n",
    "\n",
    "a"
   ]
  },
  {
   "cell_type": "markdown",
   "id": "06c9f714_20",
   "metadata": {
    "editable": true
   },
   "source": [
    "d"
   ]
  },
  {
   "cell_type": "markdown",
   "id": "c24f7c50_18",
   "metadata": {
    "editable": true
   },
   "source": [
    "t\n",
    "h"
   ]
  },
  {
   "cell_type": "markdown",
   "id": "5643c1f7_1",
   "metadata": {
    "editable": true
   },
   "source": [
    "a\n",
    "t\n",
    "\n",
    "t\n",
    "h"
   ]
  },
  {
   "cell_type": "markdown",
   "id": "dec6516f_1",
   "metadata": {
    "editable": true
   },
   "source": [
    "t\n",
    "\n",
    "p\n",
    "o\n",
    "t"
   ]
  },
  {
   "cell_type": "markdown",
   "id": "8a276838_45",
   "metadata": {
    "editable": true
   },
   "source": [
    "t"
   ]
  },
  {
   "cell_type": "markdown",
   "id": "361dcd23_1",
   "metadata": {
    "editable": true
   },
   "source": [
    "a\n",
    "l\n",
    ","
   ]
  },
  {
   "cell_type": "markdown",
   "id": "99265131_1",
   "metadata": {
    "editable": true
   },
   "source": [
    "o\n",
    "\n",
    "t\n",
    "h\n",
    "a\n",
    "t\n",
    "\n",
    "$"
   ]
  },
  {
   "cell_type": "markdown",
   "id": "d7fb88fc_1",
   "metadata": {
    "editable": true
   },
   "source": [
    "(\n",
    "0\n",
    ")\n",
    "\n",
    "="
   ]
  },
  {
   "cell_type": "markdown",
   "id": "a3353f5c_4",
   "metadata": {
    "editable": true
   },
   "source": [
    "**\n",
    "{\n",
    "\\\n",
    "t"
   ]
  },
  {
   "cell_type": "markdown",
   "id": "9df0096f_5",
   "metadata": {
    "editable": true
   },
   "source": [
    "t\n",
    "{"
   ]
  },
  {
   "cell_type": "markdown",
   "id": "b34802c9_1",
   "metadata": {
    "editable": true
   },
   "source": [
    "t\n",
    "}\n",
    "}\n",
    "$\n",
    ".\n",
    "\n",
    "T\n",
    "h"
   ]
  },
  {
   "cell_type": "markdown",
   "id": "dc8cde44_2",
   "metadata": {
    "editable": true
   },
   "source": [
    "t\n",
    "\n",
    "a"
   ]
  },
  {
   "cell_type": "markdown",
   "id": "8a276838_46",
   "metadata": {
    "editable": true
   },
   "source": [
    "t"
   ]
  },
  {
   "cell_type": "markdown",
   "id": "cbb625b4_19",
   "metadata": {
    "editable": true
   },
   "source": [
    "o"
   ]
  },
  {
   "cell_type": "markdown",
   "id": "c13827e5_5",
   "metadata": {
    "editable": true
   },
   "source": [
    "p\n",
    "o\n",
    "t"
   ]
  },
  {
   "cell_type": "markdown",
   "id": "8a276838_47",
   "metadata": {
    "editable": true
   },
   "source": [
    "t"
   ]
  },
  {
   "cell_type": "markdown",
   "id": "6a4ede89_1",
   "metadata": {
    "editable": true
   },
   "source": [
    "a\n",
    "l\n",
    "\n",
    "w"
   ]
  },
  {
   "cell_type": "markdown",
   "id": "97f371c0_1",
   "metadata": {
    "editable": true
   },
   "source": [
    "l\n",
    "l\n",
    "\n",
    "o"
   ]
  },
  {
   "cell_type": "markdown",
   "id": "64210f92_1",
   "metadata": {
    "editable": true
   },
   "source": [
    "w\n",
    "h"
   ]
  },
  {
   "cell_type": "markdown",
   "id": "c24f7c50_19",
   "metadata": {
    "editable": true
   },
   "source": [
    "t\n",
    "h"
   ]
  },
  {
   "cell_type": "markdown",
   "id": "4fde0463_9",
   "metadata": {
    "editable": true
   },
   "source": [
    "m"
   ]
  },
  {
   "cell_type": "markdown",
   "id": "4fde0463_10",
   "metadata": {
    "editable": true
   },
   "source": [
    "m"
   ]
  },
  {
   "cell_type": "markdown",
   "id": "abd37534_26",
   "metadata": {
    "editable": true
   },
   "source": [
    "a"
   ]
  },
  {
   "cell_type": "markdown",
   "id": "c13827e5_6",
   "metadata": {
    "editable": true
   },
   "source": [
    "p\n",
    "o\n",
    "t"
   ]
  },
  {
   "cell_type": "markdown",
   "id": "8a276838_48",
   "metadata": {
    "editable": true
   },
   "source": [
    "t"
   ]
  },
  {
   "cell_type": "markdown",
   "id": "0fbdb437_1",
   "metadata": {
    "editable": true
   },
   "source": [
    "a\n",
    "l"
   ]
  },
  {
   "cell_type": "markdown",
   "id": "abd37534_27",
   "metadata": {
    "editable": true
   },
   "source": [
    "a"
   ]
  },
  {
   "cell_type": "markdown",
   "id": "e0ccaead_4",
   "metadata": {
    "editable": true
   },
   "source": [
    "h"
   ]
  },
  {
   "cell_type": "markdown",
   "id": "c24f7c50_20",
   "metadata": {
    "editable": true
   },
   "source": [
    "t\n",
    "h"
   ]
  },
  {
   "cell_type": "markdown",
   "id": "c24f7c50_21",
   "metadata": {
    "editable": true
   },
   "source": [
    "t\n",
    "h"
   ]
  },
  {
   "cell_type": "markdown",
   "id": "49d72e4c_1",
   "metadata": {
    "editable": true
   },
   "source": [
    "h\n",
    "o\n",
    "l\n",
    "d\n",
    ",\n",
    "\n",
    "t\n",
    "h\n",
    "a\n",
    "t"
   ]
  },
  {
   "cell_type": "markdown",
   "id": "5967b0e9_1",
   "metadata": {
    "editable": true
   },
   "source": [
    ",\n",
    "\n",
    "a\n",
    "t\n",
    "\n",
    "a\n",
    "\n",
    "t"
   ]
  },
  {
   "cell_type": "markdown",
   "id": "4fde0463_11",
   "metadata": {
    "editable": true
   },
   "source": [
    "m"
   ]
  },
  {
   "cell_type": "markdown",
   "id": "920974f5_1",
   "metadata": {
    "editable": true
   },
   "source": [
    "$\n",
    "t\n",
    "\n",
    "=\n",
    "\n",
    "t\n",
    "_\n",
    "{\n",
    "\\\n",
    "t"
   ]
  },
  {
   "cell_type": "markdown",
   "id": "9df0096f_6",
   "metadata": {
    "editable": true
   },
   "source": [
    "t\n",
    "{"
   ]
  },
  {
   "cell_type": "markdown",
   "id": "aff893e1_1",
   "metadata": {
    "editable": true
   },
   "source": [
    "}\n",
    "}\n",
    "$\n",
    "\n",
    "<!-- --- begin solution of exercise --- -->\n",
    "**Solution.**\n",
    "2\n",
    "0"
   ]
  },
  {
   "cell_type": "markdown",
   "id": "43585cbb_1",
   "metadata": {
    "editable": true
   },
   "source": [
    "M\n",
    "A\n",
    "T\n",
    "H\n",
    "**\n",
    "B\n",
    "L\n",
    "O\n",
    "C\n",
    "K\n",
    "\n",
    "B\n",
    "y"
   ]
  },
  {
   "cell_type": "markdown",
   "id": "3a0a429b_3",
   "metadata": {
    "editable": true
   },
   "source": [
    "o\n",
    "l\n",
    "v"
   ]
  },
  {
   "cell_type": "markdown",
   "id": "c24f7c50_22",
   "metadata": {
    "editable": true
   },
   "source": [
    "t\n",
    "h"
   ]
  },
  {
   "cell_type": "markdown",
   "id": "a42c0f9d_1",
   "metadata": {
    "editable": true
   },
   "source": [
    "f\n",
    "o"
   ]
  },
  {
   "cell_type": "markdown",
   "id": "f4f2c6ec_1",
   "metadata": {
    "editable": true
   },
   "source": [
    "$\n",
    "t\n",
    "**\n",
    "{\n",
    "\\\n",
    "t"
   ]
  },
  {
   "cell_type": "markdown",
   "id": "9df0096f_7",
   "metadata": {
    "editable": true
   },
   "source": [
    "t\n",
    "{"
   ]
  },
  {
   "cell_type": "markdown",
   "id": "f095d346_1",
   "metadata": {
    "editable": true
   },
   "source": [
    "}\n",
    "}\n",
    "$\n",
    ",\n",
    "\n",
    "t\n",
    "h"
   ]
  },
  {
   "cell_type": "markdown",
   "id": "8a276838_49",
   "metadata": {
    "editable": true
   },
   "source": [
    "t"
   ]
  },
  {
   "cell_type": "markdown",
   "id": "4fde0463_12",
   "metadata": {
    "editable": true
   },
   "source": [
    "m"
   ]
  },
  {
   "cell_type": "markdown",
   "id": "9505a549_6",
   "metadata": {
    "editable": true
   },
   "source": [
    "o\n",
    "f\n",
    "\n",
    "t\n",
    "h"
   ]
  },
  {
   "cell_type": "markdown",
   "id": "dc8cde44_3",
   "metadata": {
    "editable": true
   },
   "source": [
    "t\n",
    "\n",
    "a"
   ]
  },
  {
   "cell_type": "markdown",
   "id": "8a276838_50",
   "metadata": {
    "editable": true
   },
   "source": [
    "t"
   ]
  },
  {
   "cell_type": "markdown",
   "id": "cbb625b4_20",
   "metadata": {
    "editable": true
   },
   "source": [
    "o"
   ]
  },
  {
   "cell_type": "markdown",
   "id": "c13827e5_7",
   "metadata": {
    "editable": true
   },
   "source": [
    "p\n",
    "o\n",
    "t"
   ]
  },
  {
   "cell_type": "markdown",
   "id": "8a276838_51",
   "metadata": {
    "editable": true
   },
   "source": [
    "t"
   ]
  },
  {
   "cell_type": "markdown",
   "id": "d4f42ea1_1",
   "metadata": {
    "editable": true
   },
   "source": [
    "a\n",
    "l\n",
    ",\n",
    "\n",
    "w"
   ]
  },
  {
   "cell_type": "markdown",
   "id": "abd37534_28",
   "metadata": {
    "editable": true
   },
   "source": [
    "a"
   ]
  },
  {
   "cell_type": "markdown",
   "id": "06c9f714_21",
   "metadata": {
    "editable": true
   },
   "source": [
    "d"
   ]
  },
  {
   "cell_type": "markdown",
   "id": "8a276838_52",
   "metadata": {
    "editable": true
   },
   "source": [
    "t"
   ]
  },
  {
   "cell_type": "markdown",
   "id": "4fde0463_13",
   "metadata": {
    "editable": true
   },
   "source": [
    "m"
   ]
  },
  {
   "cell_type": "markdown",
   "id": "c24f7c50_23",
   "metadata": {
    "editable": true
   },
   "source": [
    "t\n",
    "h"
   ]
  },
  {
   "cell_type": "markdown",
   "id": "8a276838_53",
   "metadata": {
    "editable": true
   },
   "source": [
    "t"
   ]
  },
  {
   "cell_type": "markdown",
   "id": "e22bd066_5",
   "metadata": {
    "editable": true
   },
   "source": [
    "p"
   ]
  },
  {
   "cell_type": "markdown",
   "id": "5006bab5_2",
   "metadata": {
    "editable": true
   },
   "source": [
    "k"
   ]
  },
  {
   "cell_type": "markdown",
   "id": "8a276838_54",
   "metadata": {
    "editable": true
   },
   "source": [
    "t"
   ]
  },
  {
   "cell_type": "markdown",
   "id": "3249a097_1",
   "metadata": {
    "editable": true
   },
   "source": [
    "v\n",
    "a\n",
    "l\n",
    "\n",
    "f\n",
    "o"
   ]
  },
  {
   "cell_type": "markdown",
   "id": "cbb625b4_21",
   "metadata": {
    "editable": true
   },
   "source": [
    "o"
   ]
  },
  {
   "cell_type": "markdown",
   "id": "a7487b86_6",
   "metadata": {
    "editable": true
   },
   "source": [
    "t\n",
    "a"
   ]
  },
  {
   "cell_type": "markdown",
   "id": "c97c6af1_1",
   "metadata": {
    "editable": true
   },
   "source": [
    "t\n",
    "\n",
    "$\n",
    "I\n",
    "**"
   ]
  },
  {
   "cell_type": "markdown",
   "id": "483508c5_1",
   "metadata": {
    "editable": true
   },
   "source": [
    "$\n",
    ",\n",
    "\n",
    "o"
   ]
  },
  {
   "cell_type": "markdown",
   "id": "8acd7084_3",
   "metadata": {
    "editable": true
   },
   "source": [
    "q"
   ]
  },
  {
   "cell_type": "markdown",
   "id": "cad702f1_7",
   "metadata": {
    "editable": true
   },
   "source": [
    "v\n",
    "a\n",
    "l"
   ]
  },
  {
   "cell_type": "markdown",
   "id": "221db42c_1",
   "metadata": {
    "editable": true
   },
   "source": [
    "t\n",
    "l\n",
    "y"
   ]
  },
  {
   "cell_type": "markdown",
   "id": "8a276838_55",
   "metadata": {
    "editable": true
   },
   "source": [
    "t"
   ]
  },
  {
   "cell_type": "markdown",
   "id": "df4e7160_1",
   "metadata": {
    "editable": true
   },
   "source": [
    "v"
   ]
  },
  {
   "cell_type": "markdown",
   "id": "c63a5609_1",
   "metadata": {
    "editable": true
   },
   "source": [
    ",\n",
    "\n",
    "w\n",
    "h"
   ]
  },
  {
   "cell_type": "markdown",
   "id": "031335d5_1",
   "metadata": {
    "editable": true
   },
   "source": [
    "h\n",
    "\n",
    "w"
   ]
  },
  {
   "cell_type": "markdown",
   "id": "5377406e_1",
   "metadata": {
    "editable": true
   },
   "source": [
    "a\n",
    "l\n",
    "l\n",
    "\n",
    "t\n",
    "h"
   ]
  },
  {
   "cell_type": "markdown",
   "id": "8a276838_56",
   "metadata": {
    "editable": true
   },
   "source": [
    "t"
   ]
  },
  {
   "cell_type": "markdown",
   "id": "e22bd066_6",
   "metadata": {
    "editable": true
   },
   "source": [
    "p"
   ]
  },
  {
   "cell_type": "markdown",
   "id": "5006bab5_3",
   "metadata": {
    "editable": true
   },
   "source": [
    "k"
   ]
  },
  {
   "cell_type": "markdown",
   "id": "8a276838_57",
   "metadata": {
    "editable": true
   },
   "source": [
    "t"
   ]
  },
  {
   "cell_type": "markdown",
   "id": "990ddee8_1",
   "metadata": {
    "editable": true
   },
   "source": [
    "v\n",
    "a\n",
    "l\n",
    "\n",
    "f"
   ]
  },
  {
   "cell_type": "markdown",
   "id": "ee99ddb9_16",
   "metadata": {
    "editable": true
   },
   "source": [
    "a\n",
    "t"
   ]
  },
  {
   "cell_type": "markdown",
   "id": "9505a549_7",
   "metadata": {
    "editable": true
   },
   "source": [
    "o\n",
    "f\n",
    "\n",
    "t\n",
    "h"
   ]
  },
  {
   "cell_type": "markdown",
   "id": "cbb625b4_22",
   "metadata": {
    "editable": true
   },
   "source": [
    "o"
   ]
  },
  {
   "cell_type": "markdown",
   "id": "3aef51b4_1",
   "metadata": {
    "editable": true
   },
   "source": [
    ",\n",
    "\n",
    "2\n",
    "1"
   ]
  },
  {
   "cell_type": "markdown",
   "id": "0e10a93c_1",
   "metadata": {
    "editable": true
   },
   "source": [
    "M\n",
    "A\n",
    "T\n",
    "H\n",
    "**\n",
    "B\n",
    "L\n",
    "O\n",
    "C\n",
    "K\n",
    "\n",
    "T\n",
    "h"
   ]
  },
  {
   "cell_type": "markdown",
   "id": "e22bd066_7",
   "metadata": {
    "editable": true
   },
   "source": [
    "p"
   ]
  },
  {
   "cell_type": "markdown",
   "id": "cbb625b4_23",
   "metadata": {
    "editable": true
   },
   "source": [
    "o"
   ]
  },
  {
   "cell_type": "markdown",
   "id": "cad702f1_8",
   "metadata": {
    "editable": true
   },
   "source": [
    "v\n",
    "a\n",
    "l"
   ]
  },
  {
   "cell_type": "markdown",
   "id": "06c9f714_22",
   "metadata": {
    "editable": true
   },
   "source": [
    "d"
   ]
  },
  {
   "cell_type": "markdown",
   "id": "9c37be23_1",
   "metadata": {
    "editable": true
   },
   "source": [
    "f\n",
    "\n",
    "$\n",
    "R\n",
    "**\n",
    "m\n",
    "\n",
    "I\n",
    "**"
   ]
  },
  {
   "cell_type": "markdown",
   "id": "a3353f5c_5",
   "metadata": {
    "editable": true
   },
   "source": [
    "**\n",
    "{\n",
    "\\\n",
    "t"
   ]
  },
  {
   "cell_type": "markdown",
   "id": "3f9a0df1_1",
   "metadata": {
    "editable": true
   },
   "source": [
    "t\n",
    "{\n",
    "t\n",
    "h\n",
    "}\n",
    "}"
   ]
  },
  {
   "cell_type": "markdown",
   "id": "a3353f5c_6",
   "metadata": {
    "editable": true
   },
   "source": [
    "**\n",
    "{\n",
    "\\\n",
    "t"
   ]
  },
  {
   "cell_type": "markdown",
   "id": "9df0096f_8",
   "metadata": {
    "editable": true
   },
   "source": [
    "t\n",
    "{"
   ]
  },
  {
   "cell_type": "markdown",
   "id": "e36c139d_1",
   "metadata": {
    "editable": true
   },
   "source": [
    "t\n",
    "}\n",
    "}\n",
    "$\n",
    ",\n",
    "\n",
    "o\n",
    "t\n",
    "h"
   ]
  },
  {
   "cell_type": "markdown",
   "id": "5e4165a6_1",
   "metadata": {
    "editable": true
   },
   "source": [
    "w"
   ]
  },
  {
   "cell_type": "markdown",
   "id": "23fa1e67_9",
   "metadata": {
    "editable": true
   },
   "source": [
    "$"
   ]
  },
  {
   "cell_type": "markdown",
   "id": "a3353f5c_7",
   "metadata": {
    "editable": true
   },
   "source": [
    "**\n",
    "{\n",
    "\\\n",
    "t"
   ]
  },
  {
   "cell_type": "markdown",
   "id": "9df0096f_9",
   "metadata": {
    "editable": true
   },
   "source": [
    "t\n",
    "{"
   ]
  },
  {
   "cell_type": "markdown",
   "id": "fdde46c4_1",
   "metadata": {
    "editable": true
   },
   "source": [
    "}\n",
    "}\n",
    "\n",
    "=\n",
    "\n",
    "0\n",
    "$\n",
    ".\n",
    "\n",
    "F\n",
    "o"
   ]
  },
  {
   "cell_type": "markdown",
   "id": "c286a5be_1",
   "metadata": {
    "editable": true
   },
   "source": [
    "f\n",
    "f"
   ]
  },
  {
   "cell_type": "markdown",
   "id": "2a5a72f0_1",
   "metadata": {
    "editable": true
   },
   "source": [
    "t\n",
    "l\n",
    "y\n",
    "\n",
    "l\n",
    "a"
   ]
  },
  {
   "cell_type": "markdown",
   "id": "cad702f1_9",
   "metadata": {
    "editable": true
   },
   "source": [
    "v\n",
    "a\n",
    "l"
   ]
  },
  {
   "cell_type": "markdown",
   "id": "1086c402_1",
   "metadata": {
    "editable": true
   },
   "source": [
    "o\n",
    "f\n",
    "\n",
    "$\n",
    "I\n",
    "**"
   ]
  },
  {
   "cell_type": "markdown",
   "id": "91b4ebb7_1",
   "metadata": {
    "editable": true
   },
   "source": [
    "$\n",
    ",\n",
    "\n",
    "w"
   ]
  },
  {
   "cell_type": "markdown",
   "id": "abd37534_29",
   "metadata": {
    "editable": true
   },
   "source": [
    "a"
   ]
  },
  {
   "cell_type": "markdown",
   "id": "c24f7c50_24",
   "metadata": {
    "editable": true
   },
   "source": [
    "t\n",
    "h"
   ]
  },
  {
   "cell_type": "markdown",
   "id": "2e0cc996_10",
   "metadata": {
    "editable": true
   },
   "source": [
    "l"
   ]
  },
  {
   "cell_type": "markdown",
   "id": "abd37534_30",
   "metadata": {
    "editable": true
   },
   "source": [
    "a"
   ]
  },
  {
   "cell_type": "markdown",
   "id": "1e923576_1",
   "metadata": {
    "editable": true
   },
   "source": [
    "a\n",
    "p\n",
    "p"
   ]
  },
  {
   "cell_type": "markdown",
   "id": "cbb625b4_24",
   "metadata": {
    "editable": true
   },
   "source": [
    "o"
   ]
  },
  {
   "cell_type": "markdown",
   "id": "fa2d1911_1",
   "metadata": {
    "editable": true
   },
   "source": [
    "m\n",
    "a\n",
    "t"
   ]
  },
  {
   "cell_type": "markdown",
   "id": "cbb625b4_25",
   "metadata": {
    "editable": true
   },
   "source": [
    "o"
   ]
  },
  {
   "cell_type": "markdown",
   "id": "9505a549_8",
   "metadata": {
    "editable": true
   },
   "source": [
    "o\n",
    "f\n",
    "\n",
    "t\n",
    "h"
   ]
  },
  {
   "cell_type": "markdown",
   "id": "4f37ae22_3",
   "metadata": {
    "editable": true
   },
   "source": [
    "l\n",
    "o"
   ]
  },
  {
   "cell_type": "markdown",
   "id": "abd37534_31",
   "metadata": {
    "editable": true
   },
   "source": [
    "a"
   ]
  },
  {
   "cell_type": "markdown",
   "id": "a76862ab_1",
   "metadata": {
    "editable": true
   },
   "source": [
    "t\n",
    "h\n",
    "m\n",
    "\n",
    "(\n",
    "$\n",
    "\\\n",
    "l"
   ]
  },
  {
   "cell_type": "markdown",
   "id": "8a6f1731_1",
   "metadata": {
    "editable": true
   },
   "source": [
    "(\n",
    "1\n",
    "\n",
    "+\n",
    "\n",
    "z\n",
    "\n",
    ")\n",
    "\n",
    "\\\n",
    "a\n",
    "p\n",
    "p"
   ]
  },
  {
   "cell_type": "markdown",
   "id": "cbb625b4_26",
   "metadata": {
    "editable": true
   },
   "source": [
    "o"
   ]
  },
  {
   "cell_type": "markdown",
   "id": "aaee9a53_1",
   "metadata": {
    "editable": true
   },
   "source": [
    "z\n",
    "$\n",
    "\n",
    "f\n",
    "o"
   ]
  },
  {
   "cell_type": "markdown",
   "id": "ba4226a3_1",
   "metadata": {
    "editable": true
   },
   "source": [
    "m\n",
    "a\n",
    "l\n",
    "l\n",
    "\n",
    "$\n",
    "z\n",
    "$\n",
    ")\n",
    "\n",
    "t\n",
    "o"
   ]
  },
  {
   "cell_type": "markdown",
   "id": "5941a1d1_1",
   "metadata": {
    "editable": true
   },
   "source": [
    "h\n",
    "o\n",
    "w\n",
    "\n",
    "t\n",
    "h\n",
    "a\n",
    "t\n",
    "\n",
    "2\n",
    "2"
   ]
  },
  {
   "cell_type": "markdown",
   "id": "48437158_3",
   "metadata": {
    "editable": true
   },
   "source": [
    "M\n",
    "A\n",
    "T\n",
    "H\n",
    "**\n",
    "B\n",
    "L\n",
    "O\n",
    "C\n",
    "K\n",
    "\n",
    "w\n",
    "h"
   ]
  },
  {
   "cell_type": "markdown",
   "id": "e0ccaead_5",
   "metadata": {
    "editable": true
   },
   "source": [
    "h"
   ]
  },
  {
   "cell_type": "markdown",
   "id": "468530b2_1",
   "metadata": {
    "editable": true
   },
   "source": [
    "h\n",
    "o\n",
    "w"
   ]
  },
  {
   "cell_type": "markdown",
   "id": "e2914683_1",
   "metadata": {
    "editable": true
   },
   "source": [
    "t\n",
    "h\n",
    "a\n",
    "t\n",
    "\n",
    "t\n",
    "h"
   ]
  },
  {
   "cell_type": "markdown",
   "id": "d4bf0e3a_10",
   "metadata": {
    "editable": true
   },
   "source": [
    "f"
   ]
  },
  {
   "cell_type": "markdown",
   "id": "ee99ddb9_17",
   "metadata": {
    "editable": true
   },
   "source": [
    "a\n",
    "t"
   ]
  },
  {
   "cell_type": "markdown",
   "id": "1227d552_4",
   "metadata": {
    "editable": true
   },
   "source": [
    "o\n",
    "w"
   ]
  },
  {
   "cell_type": "markdown",
   "id": "2e0cc996_11",
   "metadata": {
    "editable": true
   },
   "source": [
    "l"
   ]
  },
  {
   "cell_type": "markdown",
   "id": "abd37534_32",
   "metadata": {
    "editable": true
   },
   "source": [
    "a"
   ]
  },
  {
   "cell_type": "markdown",
   "id": "a310e36e_4",
   "metadata": {
    "editable": true
   },
   "source": [
    "l\n",
    "y\n",
    "\n",
    "w"
   ]
  },
  {
   "cell_type": "markdown",
   "id": "29df7c56_1",
   "metadata": {
    "editable": true
   },
   "source": [
    "t\n",
    "h\n",
    "\n",
    "$\n",
    "I\n",
    "**"
   ]
  },
  {
   "cell_type": "markdown",
   "id": "d3b2a3fb_1",
   "metadata": {
    "editable": true
   },
   "source": [
    "$\n",
    "\n",
    "f\n",
    "o"
   ]
  },
  {
   "cell_type": "markdown",
   "id": "8d8bf42e_1",
   "metadata": {
    "editable": true
   },
   "source": [
    "l\n",
    "a"
   ]
  },
  {
   "cell_type": "markdown",
   "id": "38bc3605_3",
   "metadata": {
    "editable": true
   },
   "source": [
    "$\n",
    "I\n",
    "**"
   ]
  },
  {
   "cell_type": "markdown",
   "id": "4c2b1bba_1",
   "metadata": {
    "editable": true
   },
   "source": [
    "$\n",
    ".\n",
    "<!-- --- end solution of exercise --- -->\n",
    "S\n",
    "h\n",
    "o\n",
    "w\n",
    "\n",
    "t\n",
    "h\n",
    "a\n",
    "t\n",
    "\n",
    "t\n",
    "h"
   ]
  },
  {
   "cell_type": "markdown",
   "id": "d4bf0e3a_11",
   "metadata": {
    "editable": true
   },
   "source": [
    "f"
   ]
  },
  {
   "cell_type": "markdown",
   "id": "ee99ddb9_18",
   "metadata": {
    "editable": true
   },
   "source": [
    "a\n",
    "t"
   ]
  },
  {
   "cell_type": "markdown",
   "id": "9505a549_9",
   "metadata": {
    "editable": true
   },
   "source": [
    "o\n",
    "f\n",
    "\n",
    "t\n",
    "h"
   ]
  },
  {
   "cell_type": "markdown",
   "id": "8a276838_58",
   "metadata": {
    "editable": true
   },
   "source": [
    "t"
   ]
  },
  {
   "cell_type": "markdown",
   "id": "ee99ddb9_19",
   "metadata": {
    "editable": true
   },
   "source": [
    "a\n",
    "t"
   ]
  },
  {
   "cell_type": "markdown",
   "id": "abd37534_33",
   "metadata": {
    "editable": true
   },
   "source": [
    "a"
   ]
  },
  {
   "cell_type": "markdown",
   "id": "f9d925d4_3",
   "metadata": {
    "editable": true
   },
   "source": [
    "d\n",
    "\n",
    "f"
   ]
  },
  {
   "cell_type": "markdown",
   "id": "1c98f1d4_7",
   "metadata": {
    "editable": true
   },
   "source": [
    "m\n",
    "o\n",
    "d"
   ]
  },
  {
   "cell_type": "markdown",
   "id": "2e0cc996_12",
   "metadata": {
    "editable": true
   },
   "source": [
    "l"
   ]
  },
  {
   "cell_type": "markdown",
   "id": "1227d552_5",
   "metadata": {
    "editable": true
   },
   "source": [
    "o\n",
    "w"
   ]
  },
  {
   "cell_type": "markdown",
   "id": "2e0cc996_13",
   "metadata": {
    "editable": true
   },
   "source": [
    "l"
   ]
  },
  {
   "cell_type": "markdown",
   "id": "abd37534_34",
   "metadata": {
    "editable": true
   },
   "source": [
    "a"
   ]
  },
  {
   "cell_type": "markdown",
   "id": "a310e36e_5",
   "metadata": {
    "editable": true
   },
   "source": [
    "l\n",
    "y\n",
    "\n",
    "w"
   ]
  },
  {
   "cell_type": "markdown",
   "id": "c24f7c50_25",
   "metadata": {
    "editable": true
   },
   "source": [
    "t\n",
    "h"
   ]
  },
  {
   "cell_type": "markdown",
   "id": "cbb625b4_27",
   "metadata": {
    "editable": true
   },
   "source": [
    "o"
   ]
  },
  {
   "cell_type": "markdown",
   "id": "a7487b86_7",
   "metadata": {
    "editable": true
   },
   "source": [
    "t\n",
    "a"
   ]
  },
  {
   "cell_type": "markdown",
   "id": "8a276838_59",
   "metadata": {
    "editable": true
   },
   "source": [
    "t"
   ]
  },
  {
   "cell_type": "markdown",
   "id": "fcd074cd_7",
   "metadata": {
    "editable": true
   },
   "source": [
    "j"
   ]
  },
  {
   "cell_type": "markdown",
   "id": "8a276838_60",
   "metadata": {
    "editable": true
   },
   "source": [
    "t"
   ]
  },
  {
   "cell_type": "markdown",
   "id": "06c9f714_23",
   "metadata": {
    "editable": true
   },
   "source": [
    "d"
   ]
  },
  {
   "cell_type": "markdown",
   "id": "8a276838_61",
   "metadata": {
    "editable": true
   },
   "source": [
    "t"
   ]
  },
  {
   "cell_type": "markdown",
   "id": "abd37534_35",
   "metadata": {
    "editable": true
   },
   "source": [
    "a"
   ]
  },
  {
   "cell_type": "markdown",
   "id": "baf0d826_1",
   "metadata": {
    "editable": true
   },
   "source": [
    "2\n",
    "\n",
    "7"
   ]
  },
  {
   "cell_type": "markdown",
   "id": "f7f9758d_1",
   "metadata": {
    "editable": true
   },
   "source": [
    "C\n",
    "O\n",
    "D\n",
    "E\n",
    "**\n",
    "B\n",
    "L\n",
    "O\n",
    "C\n",
    "K\n",
    "\n",
    "p\n",
    "y"
   ]
  },
  {
   "cell_type": "markdown",
   "id": "7d2ceaa6_2",
   "metadata": {
    "editable": true
   },
   "source": [
    "o\n",
    "d"
   ]
  },
  {
   "cell_type": "markdown",
   "id": "192f56eb_1",
   "metadata": {
    "editable": true
   },
   "source": [
    "9"
   ]
  },
  {
   "cell_type": "markdown",
   "id": "79110b2a_1",
   "metadata": {
    "editable": true
   },
   "source": [
    "C\n",
    "O\n",
    "D\n",
    "E\n",
    "_\n",
    "B\n",
    "L\n",
    "O\n",
    "C\n",
    "K\n",
    "\n",
    "p\n",
    "y"
   ]
  },
  {
   "cell_type": "markdown",
   "id": "7d2ceaa6_3",
   "metadata": {
    "editable": true
   },
   "source": [
    "o\n",
    "d"
   ]
  },
  {
   "cell_type": "markdown",
   "id": "5a4c37cd",
   "metadata": {
    "editable": true
   },
   "source": [
    "**c)**\n",
    "What is the effect of shunting inhibition on the integrate-and-fire neurons in terms of firing rate?\n",
    "In this exercise we will look closely at the proposed model of Carandini and Heeger to see if we \n",
    "can veryfy or falsify their claims.\n",
    "\n",
    "<!-- --- begin solution of exercise --- -->\n",
    "**Solution.**\n",
    "The firing rate grows linearly with shunting inhibition.\n",
    "Assume that synaptic input is arriving at a sufficient rate to maintain a relatively constant value of $g_i$. \n",
    "In this case, shunting amounts to changing the value of the membrane resistance from $R_m$ to \n",
    "$\\frac{R_m}{1 + R_m g_i}$. \n",
    "Recalling the equation for the firing rate of the integrate-and-fire model and the fact that $\\tau_m = C_m R_m$, \n",
    "we can write the firing rate in a form that reveals its dependence on $R_m$,"
   ]
  },
  {
   "cell_type": "markdown",
   "id": "f72aa0cb",
   "metadata": {
    "editable": true
   },
   "source": [
    "<!-- Equation labels as ordinary links -->\n",
    "<div id=\"_auto14\"></div>\n",
    "\n",
    "$$\n",
    "\\begin{equation}\n",
    "r_{\\text{isi}} \\approx \\frac{u_{\\text{rest}} - u_{\\text{th}}}{C_m R_m (u_{\\text{th}} - u_{\\text{reset}})} + \n",
    "\\frac{I_e}{C_m (u_{\\text{th}} - u_{\\text{reset}})}\n",
    "\\label{_auto14} \\tag{19}\n",
    "\\end{equation}\n",
    "$$"
   ]
  },
  {
   "cell_type": "markdown",
   "id": "50acc4e0",
   "metadata": {
    "editable": true
   },
   "source": [
    "Changing $R_m$ only modifies the constant term in this equation, it has no effect on the dependence of the firing \n",
    "rate on $I_e$.\n",
    "\n",
    "We can also show this using the Brian2 simulator\n",
    "<!-- --- end solution of exercise --- -->"
   ]
  },
  {
   "cell_type": "markdown",
   "id": "0931ed31",
   "metadata": {
    "editable": true
   },
   "source": [
    "**d)**\n",
    "Show that the firing rate of the integrate and fire model grows linearly with constant injected current \n",
    "during shunting inhibition"
   ]
  },
  {
   "cell_type": "code",
   "execution_count": 9,
   "id": "195dd865",
   "metadata": {
    "collapsed": false,
    "editable": true
   },
   "outputs": [],
   "source": [
    "start_scope()\n",
    "# Define the model\n",
    "duration = 1.0*second  # Total simulation time\n",
    "sim_dt = 0.1*ms        # Integrator/sampling step\n",
    "\n",
    "### Neuron parameters\n",
    "u_rest = -60*mV        # Leak reversal potential\n",
    "g_l = 10*nS          # Leak conductance\n",
    "E_i = -70*mV           # Inhibitory synaptic reversal potential\n",
    "C_m = 1500*pF           # Membrane capacitance\n",
    "u_th = -50*mV          # Firing threshold\n",
    "model = '''\n",
    "du/dt = code here : volt\n",
    "I : amp\n",
    "g_i : siemens\n",
    "'''"
   ]
  },
  {
   "cell_type": "code",
   "execution_count": 10,
   "id": "f365e8a4",
   "metadata": {
    "collapsed": false,
    "editable": true
   },
   "outputs": [],
   "source": [
    "# Create a neuron group\n",
    "neurons = NeuronGroup(700, model, threshold='u>u_th', reset='u=u_rest', method='euler')\n",
    "neurons.u = u_rest\n",
    "\n",
    "# Apply a range of constant input currents\n",
    "neurons.I = tile(linspace(0*nA, 1.5*nA, 100), 7)\n",
    "g_is = arange(10*nS, 70*nS, 10*nS)\n",
    "neurons.g_i = g_is.repeat(100)  # range of membrane resistances\n",
    "\n",
    "# Record spikes\n",
    "spikes = SpikeMonitor(neurons)\n",
    "\n",
    "# Run simulation\n",
    "run(duration)\n",
    "\n",
    "# Compute firing rates\n",
    "firing_rates = spikes.count / duration\n",
    "\n",
    "# Plot firing rate vs input current\n",
    "for g_i, I, f in zip(g_is, reshape(neurons.I/nA, (7,100)), reshape(firing_rates/Hz, (7,100))):\n",
    "    plot(I, f, label=f'{g_i}')\n",
    "xlabel('I (nA)')\n",
    "ylabel('Firing rate (Hz)')\n",
    "ylim(0,110)\n",
    "legend()"
   ]
  },
  {
   "cell_type": "markdown",
   "id": "ec22f68f_2",
   "metadata": {
    "editable": true
   },
   "source": [
    "<!-- --- begin solution of exercise --- -->\n",
    "**Solution.**"
   ]
  },
  {
   "cell_type": "code",
   "execution_count": 11,
   "id": "9f14bac8",
   "metadata": {
    "collapsed": false,
    "editable": true
   },
   "outputs": [],
   "source": [
    "model = '''\n",
    "du/dt = (I + g_l*(u_rest-u) + g_i*(E_i-u))/C_m : volt\n",
    "I : amp\n",
    "g_i : siemens\n",
    "'''"
   ]
  },
  {
   "cell_type": "markdown",
   "id": "a8a5944a_4",
   "metadata": {
    "editable": true
   },
   "source": [
    "<!-- --- end solution of exercise --- -->"
   ]
  },
  {
   "cell_type": "markdown",
   "id": "4d436a61",
   "metadata": {
    "editable": true
   },
   "source": [
    "**e)**\n",
    "Explore with the brian2 simulator that this is true for transient excitatory and shunting inhibitory input\n",
    "\n",
    "<!-- --- begin solution of exercise --- -->\n",
    "**Solution.**"
   ]
  },
  {
   "cell_type": "code",
   "execution_count": 12,
   "id": "873d3577",
   "metadata": {
    "collapsed": false,
    "editable": true
   },
   "outputs": [],
   "source": [
    "start_scope()\n",
    "seed(11922)  # to get identical figures for repeated runs\n",
    "\n",
    "################################################################################\n",
    "# Model parameters\n",
    "################################################################################\n",
    "### General parameters\n",
    "duration = 1.0*second  # Total simulation time\n",
    "sim_dt = 0.01*ms        # Integrator/sampling step\n",
    "N_e = 800             # Number of excitatory neurons\n",
    "N_i = 200              # Number of inhibitory neurons\n",
    "\n",
    "### Neuron parameters\n",
    "u_rest = -60*mV        # Leak reversal potential\n",
    "g_l = 10*nS          # Leak conductance\n",
    "E_e = 0*mV             # Excitatory synaptic reversal potential\n",
    "E_i = -60*mV             # Inhibitory synaptic reversal potential\n",
    "C_m = 1500*pF           # Membrane capacitance\n",
    "tau_m = C_m/g_l         # milliseconds\n",
    "tau_e = 5*ms           # Excitatory synaptic time constant\n",
    "tau_i = 10*ms          # Inhibitory synaptic time constant\n",
    "tau_r = 5*ms           # Refractory period\n",
    "u_th = 50*mV          # Firing threshold\n",
    "\n",
    "### Synapse parameters\n",
    "w_e = 0.01*nS          # Excitatory synaptic conductance\n",
    "w_i = 0.1*nS           # Inhibitory synaptic conductance\n",
    "\n",
    "################################################################################\n",
    "# Model definition\n",
    "################################################################################\n",
    "# Set the integration time (in this case not strictly necessary, since we are\n",
    "# using the default value)\n",
    "defaultclock.dt = sim_dt\n",
    "\n",
    "### Neurons\n",
    "neuron_eqs = '''\n",
    "du/dt = (g_l*(u_rest-u) + g_e*(E_e-u_rest) + g_i*(E_i-u))/C_m    : volt (unless refractory)\n",
    "dg_e/dt = -g_e/tau_e  : siemens  # post-synaptic exc. conductance\n",
    "dg_i/dt = -g_i/tau_i  : siemens  # post-synaptic exc. conductance\n",
    "'''\n",
    "neurons = NeuronGroup(70, model=neuron_eqs,\n",
    "                      threshold='u>u_th', reset='u=u_rest',\n",
    "                      refractory='tau_r', method='euler')\n",
    "# Random initial membrane potential values and conductances\n",
    "neurons.u = 'u_rest'\n",
    "neurons.g_e = 'w_e'\n",
    "neurons.g_i = 'w_i'\n",
    "\n",
    "exc_neurons =  PoissonGroup(70, arange(1000, 4500, 50)*Hz)\n",
    "inh_neurons =  PoissonGroup(70, arange(500, 1200, 10)*Hz)\n",
    "\n",
    "exc_syn = Synapses(exc_neurons, neurons, on_pre='g_e += w_e')\n",
    "inh_syn = Synapses(inh_neurons, neurons, on_pre='g_i += w_i')\n",
    "\n",
    "exc_syn.connect(j='i')\n",
    "inh_syn.connect(j='i')\n",
    "\n",
    "# Record spikes\n",
    "spikes = SpikeMonitor(neurons)\n",
    "exc_spikes = SpikeMonitor(exc_neurons)\n",
    "inh_spikes = SpikeMonitor(inh_neurons)\n",
    "\n",
    "# Record conductances and membrane potential of neuron ni\n",
    "state_mon = StateMonitor(neurons, ['u', 'g_e', 'g_i'], record=True)\n",
    "\n",
    "\n",
    "# Run simulation\n",
    "run(duration)\n",
    "\n",
    "# Compute firing rates\n",
    "firing_rates = spikes.count / duration\n",
    "exc_firing_rates = exc_spikes.count / duration\n",
    "inh_firing_rates = inh_spikes.count / duration"
   ]
  },
  {
   "cell_type": "markdown",
   "id": "a8a5944a_5",
   "metadata": {
    "editable": true
   },
   "source": [
    "<!-- --- end solution of exercise --- -->"
   ]
  }
 ],
 "metadata": {},
 "nbformat": 4,
 "nbformat_minor": 5
}
