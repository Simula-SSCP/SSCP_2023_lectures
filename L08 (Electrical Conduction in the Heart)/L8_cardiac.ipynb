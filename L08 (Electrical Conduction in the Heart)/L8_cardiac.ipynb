{
 "cells": [
  {
   "cell_type": "markdown",
   "metadata": {
    "slideshow": {
     "slide_type": "slide"
    }
   },
   "source": [
    "<!-- dom:TITLE: Solution to exercises, cable equation -->\n",
    "# Solving the cable equation\n",
    "<!-- dom:AUTHOR: Joakim Sundnes -->\n",
    "<!-- Author: -->  \n",
    "**Joakim Sundnes**\n",
    "\n",
    "Date: **Jun 9, 2023**"
   ]
  },
  {
   "cell_type": "markdown",
   "metadata": {
    "slideshow": {
     "slide_type": "slide"
    },
    "tags": []
   },
   "source": [
    "## Part 1: The bistable equation\n",
    "\n",
    "We want to solve the bistable equation on an interval $\\Omega =[0,L]$:\n",
    "\n",
    "$$\n",
    "\\begin{alignat*}{2}\n",
    "v_t &= kv_{xx} + f(v) & \\mbox{ for } & t> 0, 0 < x < L, \\\\\n",
    "v_x &= 0 & \\mbox{ for } &x = 0, x = L, \\\\\n",
    "v & = v_0 &\\mbox{ for } &t = 0, 0 < x = < L/10, \\\\\n",
    "v & = 0 &\\mbox{ for } &t = 0, L/10< x = < L,\n",
    "\\end{alignat*}\n",
    "$$\n",
    "\n",
    "with\n",
    "\n",
    "$$\n",
    "f(v) = Av(1-v)(v-\\alpha) \n",
    "$$\n",
    "and parameter values\n",
    "$$\n",
    "\\begin{alignat*}{2}\n",
    "k &= 1.0, A &= 1.0, \\alpha &= 0.1 \\\\\n",
    "L &= 100, v_0&= 0.3. &\n",
    "\\end{alignat*}\n",
    "$$\n",
    "\n",
    "(Note that we have used the compact notation $v_t = \\partial\n",
    "v/\\partial t, v_{xx} = \\partial^2v/\\partial x^2$.)"
   ]
  },
  {
   "cell_type": "markdown",
   "metadata": {
    "slideshow": {
     "slide_type": "slide"
    },
    "tags": []
   },
   "source": [
    "### Explicit update scheme \n",
    "A standard finite difference approximation in space and time gives an explicit update formula for $v$:\n",
    "$$\n",
    "\\begin{align*}\n",
    "v_0^{j+1} &= v_0^j +\\frac{k \\Delta t}{\\Delta x^2} 2 (v_1^j-v_0^j)\n",
    "+\\Delta t f(v_0^j) \\\\\n",
    "v_i^{j+1}  &= v_0^j +\\frac{k \\Delta t}{\\Delta x^2} (v_{i-1}^j-2v_i^j+v_{i+1}^j)\n",
    "+\\Delta t f(v_0^j), i = 1, \\cdots, N-1 \\\\\n",
    "v_N^{j+1} &= v_N^j +\\frac{k \\Delta t}{\\Delta x^2} 2 (v_{N-1}^j-v_N^j)\n",
    "+\\Delta t f(v_N^j)\n",
    "\\end{align*}\n",
    "$$\n",
    "\n",
    "We will now implement this scheme in Python. First, we need to set some parameters and define arrays to store the solution:"
   ]
  },
  {
   "cell_type": "code",
   "execution_count": 15,
   "metadata": {
    "slideshow": {
     "slide_type": "-"
    },
    "tags": []
   },
   "outputs": [],
   "source": [
    "%matplotlib inline\n",
    "\n",
    "%matplotlib inline\n",
    "import matplotlib.pyplot as plt\n",
    "from IPython import display\n",
    "import numpy as np\n",
    "\n",
    "k = 2.0\n",
    "A = 1.0\n",
    "alpha = 0.1\n",
    "L =100\n",
    "\n",
    "dx = 1;\n",
    "dt = 0.1;\n",
    "\n",
    "N = int(L/dx)\n",
    "\n",
    "v = np.zeros(N+1)\n",
    "v_prev = v\n",
    "left =  int(N/10)\n",
    "v_prev[:left] = 0.3"
   ]
  },
  {
   "cell_type": "markdown",
   "metadata": {
    "slideshow": {
     "slide_type": "slide"
    }
   },
   "source": [
    "### *Exercise 1: Bistable equation in Python*\n",
    "Update the code below to implement the explicit update scheme above, and solve the bistable equation. "
   ]
  },
  {
   "cell_type": "code",
   "execution_count": 22,
   "metadata": {
    "slideshow": {
     "slide_type": "-"
    },
    "tags": []
   },
   "outputs": [
    {
     "data": {
      "image/png": "[encoded data removed]",
      "text/plain": [
       "<Figure size 432x288 with 1 Axes>"
      ]
     },
     "metadata": {},
     "output_type": "display_data"
    },
    {
     "data": {
      "image/png": "[encoded data removed]",
      "text/plain": [
       "<Figure size 432x288 with 1 Axes>"
      ]
     },
     "metadata": {
      "needs_background": "light"
     },
     "output_type": "display_data"
    }
   ],
   "source": [
    "def f(v):\n",
    "    return A*v*(1-v)*(v-alpha)\n",
    "\n",
    "\n",
    "for i in range (1400):\n",
    "    for j in range(1,N):\n",
    "    \tpass #replace with update formula v[j] = ...\n",
    "     \n",
    "    #add formulas for end points:\n",
    "    #v[0] = ...\n",
    "    #v[N] = ...\n",
    "    if i%20==0:  #to avoid displaying every time step\n",
    "        plt.clf()\n",
    "        plt.axis([0, L, 0, 1.1])\n",
    "        plt.plot(v)\n",
    "        plt.title('i=%d' % i)\n",
    "        display.clear_output(wait=True)\n",
    "        display.display(plt.gcf())"
   ]
  },
  {
   "cell_type": "markdown",
   "metadata": {},
   "source": [
    "### *Solution:*\n",
    "\n",
    "Click below to expand the cell and see the solution. "
   ]
  },
  {
   "cell_type": "code",
   "execution_count": 23,
   "metadata": {
    "jupyter": {
     "outputs_hidden": true,
     "source_hidden": true
    },
    "slideshow": {
     "slide_type": "-"
    },
    "tags": [
     "hide-input",
     "hide-output"
    ]
   },
   "outputs": [
    {
     "data": {
      "image/png": "[encoded data removed]",
      "text/plain": [
       "<Figure size 432x288 with 1 Axes>"
      ]
     },
     "metadata": {},
     "output_type": "display_data"
    },
    {
     "data": {
      "image/png": "[encoded data removed]",
      "text/plain": [
       "<Figure size 432x288 with 1 Axes>"
      ]
     },
     "metadata": {
      "needs_background": "light"
     },
     "output_type": "display_data"
    }
   ],
   "source": [
    "for i in range (1400):\n",
    "    for j in range(1,N):\n",
    "        I_ion = f(v_prev[j])  #reaction term\n",
    "        diff = (k / dx**2) * (v_prev[j + 1]-2 * v_prev[j] + v_prev[j - 1]) #diffusion term\n",
    "        v[j]  = v_prev[j] + dt * diff + dt * I_ion\n",
    "    \n",
    "    v[0] = v_prev[0] + dt * (k / dx ** 2) * 2 * (v_prev[1] - v_prev[0]) + dt * f(v_prev[0]) \n",
    "    v[N] = v_prev[N] + dt * (k / dx ** 2) * 2 * (v_prev[N-1] - v_prev[N]) + dt * f(v_prev[N]) \n",
    "    v_prev = v\n",
    "    \n",
    "    if i%20==0:  #to avoid displaying every time step\n",
    "        plt.clf()\n",
    "        plt.axis([0, L, 0, 1.1])\n",
    "        plt.plot(v)\n",
    "        plt.title('i=%d' % i)\n",
    "        display.clear_output(wait=True)\n",
    "        display.display(plt.gcf())"
   ]
  },
  {
   "cell_type": "markdown",
   "metadata": {
    "slideshow": {
     "slide_type": "slide"
    }
   },
   "source": [
    "### Comments on the code\n",
    "* Note that the solution is not saved, but overwritten for every step.\n",
    "\n",
    "* Loops in Python are slow. It is possible to speed up the code by using vectorized NumPy operations to\n",
    "  avoid the loop over the spatial domain. "
   ]
  },
  {
   "cell_type": "markdown",
   "metadata": {},
   "source": [
    "### *Exercise 2: vectorization (optional)*\n",
    "Complete the code below to use a vectorized operation to update $v$, i.e., no loop over the spatial domain. "
   ]
  },
  {
   "cell_type": "code",
   "execution_count": 24,
   "metadata": {},
   "outputs": [
    {
     "data": {
      "image/png": "[encoded data removed]",
      "text/plain": [
       "<Figure size 432x288 with 1 Axes>"
      ]
     },
     "metadata": {},
     "output_type": "display_data"
    },
    {
     "data": {
      "image/png": "[encoded data removed]",
      "text/plain": [
       "<Figure size 432x288 with 1 Axes>"
      ]
     },
     "metadata": {
      "needs_background": "light"
     },
     "output_type": "display_data"
    }
   ],
   "source": [
    "\n",
    "#reset v to initial condition:\n",
    "v[:left] = 0.3\n",
    "\n",
    "#introduce the appropriate arrays for slicing:\n",
    "I = np.arange(1,N)\n",
    "Ip = I+1\n",
    "Im = I-1\n",
    "\n",
    "for i in range (1400):\n",
    "    \"\"\"Insert your code here. The same formula as above, but \n",
    "    now vectorized, i.e. no loop over the array v\"\"\"\n",
    "\n",
    "    if i%20==0:  #to avoid displaying every time step\n",
    "        plt.clf()\n",
    "        plt.axis([0, L, 0, 1.1])\n",
    "        plt.plot(v)\n",
    "        plt.title('i=%d' % i)\n",
    "        display.clear_output(wait=True)\n",
    "        display.display(plt.gcf())\n",
    "    "
   ]
  },
  {
   "cell_type": "markdown",
   "metadata": {},
   "source": [
    "### *Solution:*\n",
    "\n",
    "Click below to expand the cell and see the solution. "
   ]
  },
  {
   "cell_type": "code",
   "execution_count": 25,
   "metadata": {
    "jupyter": {
     "outputs_hidden": true,
     "source_hidden": true
    },
    "slideshow": {
     "slide_type": "-"
    },
    "tags": [
     "hide-output",
     "hide-input"
    ]
   },
   "outputs": [
    {
     "data": {
      "image/png": "[encoded data removed]",
      "text/plain": [
       "<Figure size 432x288 with 1 Axes>"
      ]
     },
     "metadata": {},
     "output_type": "display_data"
    },
    {
     "data": {
      "image/png": "[encoded data removed]",
      "text/plain": [
       "<Figure size 432x288 with 1 Axes>"
      ]
     },
     "metadata": {
      "needs_background": "light"
     },
     "output_type": "display_data"
    }
   ],
   "source": [
    "k = 2.0\n",
    "A = 1.0\n",
    "alpha = 0.1\n",
    "L = 100\n",
    "\n",
    "dx = 1;\n",
    "dt = 0.1;\n",
    "\n",
    "N = int(L/dx)\n",
    "\n",
    "v = np.zeros(N+1)\n",
    "left =  int(N/10)\n",
    "v[:left] = 0.3\n",
    "\n",
    "#introduce the appropriate arrays for slicing:\n",
    "I = np.arange(1,N)\n",
    "Ip = I+1\n",
    "Im = I-1\n",
    "\n",
    "for i in range (1400):\n",
    "    I_ion = f(v) \n",
    "    #first add diffusion terms:\n",
    "    v[I] = v[I] + dt * (k / dx ** 2) * (v[Ip] - 2 * v[I] + v[Im])\n",
    "    v[0] = v[0] + dt * (k / dx ** 2) * 2 * (v[1] - v[0]) \n",
    "    v[N] = v[N] + dt * (k / dx ** 2) * 2 * (v[N-1] - v[N])  \n",
    "    \n",
    "    #then the reaction:\n",
    "    v = v + dt * I_ion\n",
    "    \n",
    "\n",
    "    if i%20==0:  #to avoid displaying every time step\n",
    "        plt.clf()\n",
    "        plt.axis([0, L, 0, 1.1])\n",
    "        plt.plot(v)\n",
    "        plt.title('i=%d' % i)\n",
    "        display.clear_output(wait=True)\n",
    "        display.display(plt.gcf())"
   ]
  },
  {
   "cell_type": "markdown",
   "metadata": {
    "slideshow": {
     "slide_type": "slide"
    }
   },
   "source": [
    "## Part 2: The FitzHugh-Nagumo (FHN) model\n",
    "A small modification of the bistable equation gives the\n",
    "FHN model:\n",
    "\n",
    "$$\n",
    "\\begin{alignat*}{2}\n",
    "v_t &= kv_{xx} + Av(1-v)(v-\\alpha) -w & \\mbox{ for } & t> 0, 0 < x < L, \\\\\n",
    "w_t &= \\epsilon (v-\\gamma w) & \\mbox{ for } & t> 0, 0 < x < L, \\\\\n",
    "v_x &= 0 & \\mbox{ for } &x = 0, x = L, \\\\\n",
    "v & = v_0 &\\mbox{ for } &t = 0, 0 < x = < L/10, \\\\\n",
    "v & = 0 &\\mbox{ for } &t = 0, L/10< x = < L,\n",
    "\\end{alignat*}\n",
    "$$\n",
    "\n",
    "The additional parameters are set to\n",
    "\n",
    "$$\n",
    "\\epsilon = 0.005, \\gamma = 2.0 .\n",
    "$$\n",
    "\n",
    "We will now extend the solver from above to solve the FHN model."
   ]
  },
  {
   "cell_type": "markdown",
   "metadata": {
    "slideshow": {
     "slide_type": "slide"
    }
   },
   "source": [
    "### *Exercise 3: Solving the FHN model*\n",
    "Update the solver from above to solve the FHN model. You can either copy the relevant code lines into the empty cell below, or copy the entire cell from above and then modify it. "
   ]
  },
  {
   "cell_type": "code",
   "execution_count": 7,
   "metadata": {},
   "outputs": [],
   "source": [
    "# Insert your solution here (or create a new cell)"
   ]
  },
  {
   "cell_type": "markdown",
   "metadata": {},
   "source": [
    "### *Solution:*\n",
    "\n",
    "Click below to see the solution."
   ]
  },
  {
   "cell_type": "code",
   "execution_count": 26,
   "metadata": {
    "jupyter": {
     "outputs_hidden": true,
     "source_hidden": true
    },
    "slideshow": {
     "slide_type": "-"
    },
    "tags": [
     "hide-input",
     "hide-output"
    ]
   },
   "outputs": [
    {
     "data": {
      "image/png": "[encoded data removed]",
      "text/plain": [
       "<Figure size 432x288 with 1 Axes>"
      ]
     },
     "metadata": {},
     "output_type": "display_data"
    },
    {
     "data": {
      "image/png": "[encoded data removed]",
      "text/plain": [
       "<Figure size 432x288 with 1 Axes>"
      ]
     },
     "metadata": {
      "needs_background": "light"
     },
     "output_type": "display_data"
    }
   ],
   "source": [
    "k = 2.0\n",
    "A = 1.0\n",
    "alpha = 0.1\n",
    "L =100\n",
    "eps = 0.005\n",
    "gamma = 2.0\n",
    "\n",
    "v = np.zeros(N+1)\n",
    "w = np.zeros(N+1)\n",
    "left = int(N/10)\n",
    "v[:left] = 0.3\n",
    "I = np.arange(1,N)\n",
    "Ip = I+1\n",
    "Im = I-1\n",
    "\n",
    "for i in range(1400):\n",
    "    I_ion = f(v) - w\n",
    "    \n",
    "    #first add the diffusion to v:\n",
    "    v[I] = v[I] + dt*(k/dx**2)*(v[Ip]-2*v[I] +v[Im])\n",
    "    v[0] = v[0] + dt * (k / dx ** 2) * 2 * (v[1] - v[0]) \n",
    "    v[N] = v[N] + dt * (k / dx ** 2) * 2 * (v[N-1] - v[N])  \n",
    "    \n",
    "    #then the reaction terms:\n",
    "    v = v + dt * I_ion;\n",
    "    w = w + dt * eps * (v - gamma * w)\n",
    "\n",
    "    if i%20==0:  #to avoid displaying every time step\n",
    "        plt.clf()\n",
    "        plt.axis([0, L, 0, 1.1])\n",
    "        plt.plot(v)\n",
    "        plt.title('i=%d' % i)\n",
    "        display.clear_output(wait=True)\n",
    "        display.display(plt.gcf())\n"
   ]
  },
  {
   "cell_type": "markdown",
   "metadata": {
    "slideshow": {
     "slide_type": "slide"
    }
   },
   "source": [
    "### *Exersise 4: Periodic boundary conditions*\n",
    "\n",
    "We can model a simple reentrant circuit with periodic boundary\n",
    "conditions:\n",
    "\n",
    "$$\n",
    "v(0) = v(L)\n",
    "$$\n",
    "\n",
    "This condition effectively creates a ring, by connecting the two ends of our cable to eachother. \n",
    "\n",
    "* Implement this condition in the FHN solver. You can either modify the code above directly or copy the cell here   and then modify.\n",
    "\n",
    "* What happens? Why?"
   ]
  },
  {
   "cell_type": "markdown",
   "metadata": {},
   "source": [
    "### *Solution:*\n",
    "Click below to see the solution."
   ]
  },
  {
   "cell_type": "code",
   "execution_count": 28,
   "metadata": {
    "jupyter": {
     "outputs_hidden": true,
     "source_hidden": true
    },
    "slideshow": {
     "slide_type": "-"
    },
    "tags": [
     "hide-input",
     "hide-output"
    ]
   },
   "outputs": [
    {
     "data": {
      "image/png": "[encoded data removed]",
      "text/plain": [
       "<Figure size 432x288 with 1 Axes>"
      ]
     },
     "metadata": {},
     "output_type": "display_data"
    },
    {
     "data": {
      "image/png": "[encoded data removed]",
      "text/plain": [
       "<Figure size 432x288 with 1 Axes>"
      ]
     },
     "metadata": {
      "needs_background": "light"
     },
     "output_type": "display_data"
    }
   ],
   "source": [
    "k = 2.0\n",
    "A = 1.0\n",
    "alpha = 0.1\n",
    "L =100\n",
    "eps = 0.005\n",
    "gamma = 2.0\n",
    "\n",
    "v = np.zeros(N+1)\n",
    "w = np.zeros(N+1)\n",
    "\n",
    "#mid = int(N/2)\n",
    "#v[mid-10:mid+10] = 0.3\n",
    "#w[:int(0.9*mid)] = 0.1\n",
    "\n",
    "left = int(N/10)\n",
    "v[:left] = 0.3\n",
    "#mid =  int(N/2);\n",
    "#v[mid-10:mid+10] = 0.3;\n",
    "#w[:int(0.9*mid)] = 0.1\n",
    "\n",
    "I = np.arange(N+1)\n",
    "Ip = I+1\n",
    "Ip[N] = 0\n",
    "Im = I-1;\n",
    "Im[0] = N\n",
    "\n",
    "for i in range (1400):\n",
    "    I_ion = A*v*(1-v)*(v-alpha) -w\n",
    "    v[I] = v[I] + dt*(k/dx**2)*(v[Ip]-2*v[I] +v[Im])\n",
    "    v = v + dt*I_ion;\n",
    "    w = w + dt*eps*(v-gamma*w)\n",
    "\n",
    "    if i%20==0:  #to avoid displaying every time step\n",
    "        plt.clf()\n",
    "        plt.axis([0, L, 0, 1.1])\n",
    "        plt.plot(v)\n",
    "        plt.title('i=%d' % i)\n",
    "        display.clear_output(wait=True)\n",
    "        display.display(plt.gcf())"
   ]
  },
  {
   "cell_type": "markdown",
   "metadata": {
    "slideshow": {
     "slide_type": "slide"
    }
   },
   "source": [
    "### *Exercise 5: Simulating reentry*\n",
    "\n",
    "Now, modify the initial condition in the code above to:"
   ]
  },
  {
   "cell_type": "code",
   "execution_count": 10,
   "metadata": {
    "slideshow": {
     "slide_type": "-"
    }
   },
   "outputs": [],
   "source": [
    "mid = int(N/2)\n",
    "v[mid-2:mid+2] = 0.3"
   ]
  },
  {
   "cell_type": "markdown",
   "metadata": {
    "slideshow": {
     "slide_type": "-"
    }
   },
   "source": [
    "What happens?\n",
    "\n",
    "Finally, add the line"
   ]
  },
  {
   "cell_type": "code",
   "execution_count": 11,
   "metadata": {
    "slideshow": {
     "slide_type": "-"
    }
   },
   "outputs": [],
   "source": [
    "w[:int(0.9*mid)] = 1"
   ]
  },
  {
   "cell_type": "markdown",
   "metadata": {
    "slideshow": {
     "slide_type": "-"
    }
   },
   "source": [
    "What happens? Why?"
   ]
  },
  {
   "cell_type": "markdown",
   "metadata": {},
   "source": [
    "### *Solution:*\n",
    "\n",
    "Click below to see the solution."
   ]
  },
  {
   "cell_type": "code",
   "execution_count": 29,
   "metadata": {
    "jupyter": {
     "outputs_hidden": true,
     "source_hidden": true
    },
    "tags": [
     "hide-input",
     "hide-output"
    ]
   },
   "outputs": [
    {
     "data": {
      "image/png": "[encoded data removed]",
      "text/plain": [
       "<Figure size 432x288 with 1 Axes>"
      ]
     },
     "metadata": {},
     "output_type": "display_data"
    },
    {
     "data": {
      "image/png": "[encoded data removed]",
      "text/plain": [
       "<Figure size 432x288 with 1 Axes>"
      ]
     },
     "metadata": {
      "needs_background": "light"
     },
     "output_type": "display_data"
    }
   ],
   "source": [
    "k = 2.0\n",
    "A = 1.0\n",
    "alpha = 0.1\n",
    "L =100\n",
    "eps = 0.005\n",
    "gamma = 2.0\n",
    "\n",
    "v = np.zeros(N+1)\n",
    "w = np.zeros(N+1)\n",
    "\n",
    "mid =  int(N/2);\n",
    "v[mid-10:mid+10] = 0.3;\n",
    "w[:int(0.9*mid)] = 0.1\n",
    "\n",
    "I = np.arange(N+1)\n",
    "Ip = I+1\n",
    "Ip[N] = 0\n",
    "Im = I-1;\n",
    "Im[0] = N\n",
    "\n",
    "for i in range (1400):\n",
    "    I_ion = A*v*(1-v)*(v-alpha) -w\n",
    "    v[I] = v[I] + dt*(k/dx**2)*(v[Ip]-2*v[I] +v[Im])\n",
    "    v = v + dt*I_ion;\n",
    "    w = w + dt*eps*(v-gamma*w)\n",
    "\n",
    "    #v[0] = v[1]\n",
    "    #v[N-1] = v[N-2]\n",
    "\n",
    "    if i%20==0:  #to avoid displaying every time step\n",
    "        plt.clf()\n",
    "        plt.axis([0, L, 0, 1.1])\n",
    "        plt.plot(v)\n",
    "        plt.title('i=%d' % i)\n",
    "        display.clear_output(wait=True)\n",
    "        display.display(plt.gcf())"
   ]
  },
  {
   "cell_type": "code",
   "execution_count": null,
   "metadata": {},
   "outputs": [],
   "source": []
  }
 ],
 "metadata": {
  "celltoolbar": "Slideshow",
  "kernelspec": {
   "display_name": "Python 3 (ipykernel)",
   "language": "python",
   "name": "python3"
  },
  "language_info": {
   "codemirror_mode": {
    "name": "ipython",
    "version": 3
   },
   "file_extension": ".py",
   "mimetype": "text/x-python",
   "name": "python",
   "nbconvert_exporter": "python",
   "pygments_lexer": "ipython3",
   "version": "3.9.7"
  }
 },
 "nbformat": 4,
 "nbformat_minor": 4
}
