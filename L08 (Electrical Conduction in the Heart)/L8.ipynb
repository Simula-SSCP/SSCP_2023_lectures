{
 "cells": [
  {
   "cell_type": "markdown",
   "metadata": {
    "slideshow": {
     "slide_type": "slide"
    }
   },
   "source": [
    "<!-- dom:TITLE: Numerical solution of the cable equation -->\n",
    "# Numerical solution of the cable equation\n",
    "<!-- dom:AUTHOR: Joakim Sundnes -->\n",
    "<!-- Author: -->  \n",
    "**Joakim Sundnes**\n",
    "\n",
    "Date: **Jun 6, 2023**"
   ]
  },
  {
   "cell_type": "markdown",
   "metadata": {
    "slideshow": {
     "slide_type": "slide"
    }
   },
   "source": [
    "## Outline\n",
    "* The cable equation\n",
    "\n",
    "* The bistable equation\n",
    "\n",
    "  * Finite difference scheme\n",
    "\n",
    "\n",
    "* The FitzHugh-Nagumo model\n",
    "\n",
    "  * Finite difference scheme\n",
    "\n",
    "  * Simulating reentry"
   ]
  },
  {
   "cell_type": "markdown",
   "metadata": {
    "slideshow": {
     "slide_type": "slide"
    }
   },
   "source": [
    "## The cable equation\n",
    "\n",
    "The standard cable equation is a reaction-diffusion equation given by\n",
    "\n",
    "$$\n",
    "\\frac{\\partial v}{\\partial t} = k\\frac{\\partial ^2 v}{\\partial x^2} +\n",
    "f(v,s) ,\n",
    "$$\n",
    "\n",
    "where $f(v,s)$ is a reaction term describing ionic fluxes across the\n",
    "membrane.\n",
    "\n",
    "* A linear $f(v)$ describes passive conduction through a leaky cable (dendrites).\n",
    "\n",
    "* A cubic $f(v)$ gives the bistable equation with a propagating activation front.\n",
    "\n",
    "* In general $f(v,s)$, where $s$ is a vector describing the state of the cell membrane, typically governed by a system of ODEs"
   ]
  },
  {
   "cell_type": "markdown",
   "metadata": {
    "slideshow": {
     "slide_type": "slide"
    }
   },
   "source": [
    "## Solving the bistable equation\n",
    "\n",
    "We want to solve the bistable equation on an interval $\\Omega =[0,L]$:\n",
    "\n",
    "$$\n",
    "\\begin{alignat*}{2}\n",
    "v_t &= kv_{xx} + Av(1-v)(v-\\alpha) & \\mbox{ for } & t> 0, 0 < x < L, \\\\\n",
    "v_x &= 0 & \\mbox{ for } &x = 0, x = L, \\\\\n",
    "v & = v_0 &\\mbox{ for } &t = 0, 0 < x = < L/10, \\\\\n",
    "v & = 0 &\\mbox{ for } &t = 0, L/10< x = < L,\n",
    "\\end{alignat*}\n",
    "$$\n",
    "\n",
    "with\n",
    "\n",
    "$$\n",
    "\\begin{alignat*}{2}\n",
    "k &= 1.0, A &= 1.0, \\alpha &= 0.1 \\\\\n",
    "L &= 100, v0&= 0.3. &\n",
    "\\end{alignat*}\n",
    "$$\n",
    "\n",
    "(Note that we have used the compact notation $v_t = \\partial\n",
    "v/\\partial t, v_{xx} = \\partial^2v/\\partial x^2$.)"
   ]
  },
  {
   "cell_type": "markdown",
   "metadata": {
    "slideshow": {
     "slide_type": "slide"
    }
   },
   "source": [
    "## Explicit finite difference scheme\n",
    "\n",
    "We replace the derivatives with finite differences\n",
    "\n",
    "$$\n",
    "\\begin{align*}\n",
    "v_t &\\approx \\frac{v_i^{n+1}-v_i^n}{\\Delta t}, \\\\\n",
    "v_{xx} &\\approx \\frac{v_{i-1}^{n}-2v_i^n+v_{i+1}^n}{\\Delta x^2}, \\\\\n",
    "v_x &\\approx \\frac{v_{i+1}^{n}-v_i^n}{\\Delta x}.\n",
    "\\end{align*}\n",
    "$$\n",
    "\n",
    "Use these relations to derive an explicit update scheme for $v$."
   ]
  },
  {
   "cell_type": "markdown",
   "metadata": {
    "slideshow": {
     "slide_type": "slide"
    }
   },
   "source": [
    "## Bistable equation in Python\n",
    "Use a Numpy array for the solution, and a loop over time steps."
   ]
  },
  {
   "cell_type": "code",
   "execution_count": 1,
   "metadata": {
    "slideshow": {
     "slide_type": "-"
    }
   },
   "outputs": [],
   "source": [
    "%matplotlib inline\n",
    "\n",
    "%matplotlib inline\n",
    "import matplotlib.pyplot as plt\n",
    "from IPython import display\n",
    "import numpy as np\n",
    "\n",
    "k = 2.0\n",
    "A = 1.0\n",
    "alpha = 0.1\n",
    "L =100\n",
    "\n",
    "dx = 1;\n",
    "dt = 0.1;\n",
    "\n",
    "N = int(L/dx)\n",
    "\n",
    "v = np.zeros(N+1)\n",
    "v_prev = v\n",
    "left =  int(N/10)\n",
    "v_prev[:left] = 0.3"
   ]
  },
  {
   "cell_type": "markdown",
   "metadata": {
    "slideshow": {
     "slide_type": "slide"
    }
   },
   "source": [
    "## Bistable equation in Python (2)"
   ]
  },
  {
   "cell_type": "code",
   "execution_count": 1,
   "metadata": {
    "slideshow": {
     "slide_type": "-"
    },
    "tags": []
   },
   "outputs": [
    {
     "ename": "NameError",
     "evalue": "name 'v' is not defined",
     "output_type": "error",
     "traceback": [
      "\u001b[0;31m---------------------------------------------------------------------------\u001b[0m",
      "\u001b[0;31mNameError\u001b[0m                                 Traceback (most recent call last)",
      "\u001b[0;32m/var/folders/1l/s192b6ms5w3_qpkhkq68wj_m0000gn/T/ipykernel_39005/837570480.py\u001b[0m in \u001b[0;36m<module>\u001b[0;34m\u001b[0m\n\u001b[1;32m      1\u001b[0m \u001b[0;32mfor\u001b[0m \u001b[0mi\u001b[0m \u001b[0;32min\u001b[0m \u001b[0mrange\u001b[0m \u001b[0;34m(\u001b[0m\u001b[0;36m1400\u001b[0m\u001b[0;34m)\u001b[0m\u001b[0;34m:\u001b[0m\u001b[0;34m\u001b[0m\u001b[0;34m\u001b[0m\u001b[0m\n\u001b[0;32m----> 2\u001b[0;31m     \u001b[0mv\u001b[0m\u001b[0;34m[\u001b[0m\u001b[0;36m0\u001b[0m\u001b[0;34m]\u001b[0m \u001b[0;34m=\u001b[0m \u001b[0mv\u001b[0m\u001b[0;34m[\u001b[0m\u001b[0;36m1\u001b[0m\u001b[0;34m]\u001b[0m\u001b[0;34m\u001b[0m\u001b[0;34m\u001b[0m\u001b[0m\n\u001b[0m\u001b[1;32m      3\u001b[0m     \u001b[0mv\u001b[0m\u001b[0;34m[\u001b[0m\u001b[0mN\u001b[0m\u001b[0;34m]\u001b[0m \u001b[0;34m=\u001b[0m \u001b[0mv\u001b[0m\u001b[0;34m[\u001b[0m\u001b[0mN\u001b[0m\u001b[0;34m-\u001b[0m\u001b[0;36m1\u001b[0m\u001b[0;34m]\u001b[0m\u001b[0;34m\u001b[0m\u001b[0;34m\u001b[0m\u001b[0m\n\u001b[1;32m      4\u001b[0m     \u001b[0;32mfor\u001b[0m \u001b[0mj\u001b[0m \u001b[0;32min\u001b[0m \u001b[0mrange\u001b[0m\u001b[0;34m(\u001b[0m\u001b[0;36m1\u001b[0m\u001b[0;34m,\u001b[0m\u001b[0mN\u001b[0m\u001b[0;34m)\u001b[0m\u001b[0;34m:\u001b[0m\u001b[0;34m\u001b[0m\u001b[0;34m\u001b[0m\u001b[0m\n\u001b[1;32m      5\u001b[0m         \u001b[0mv\u001b[0m\u001b[0;34m[\u001b[0m\u001b[0mj\u001b[0m\u001b[0;34m]\u001b[0m  \u001b[0;34m=\u001b[0m \u001b[0;34m(\u001b[0m\u001b[0;34m...\u001b[0m\u001b[0;34m)\u001b[0m\u001b[0;34m\u001b[0m\u001b[0;34m\u001b[0m\u001b[0m\n",
      "\u001b[0;31mNameError\u001b[0m: name 'v' is not defined"
     ]
    }
   ],
   "source": [
    "for i in range (1400):\n",
    "    v[0] = v[1]\n",
    "    v[N] = v[N-1]\n",
    "    for j in range(1,N):\n",
    "    \tv[j]  = (...)\n",
    "\n",
    "    if i%20==0:  #to avoid displaying every time step\n",
    "        plt.clf()\n",
    "        plt.axis([0, L, 0, 1.1])\n",
    "        plt.plot(v)\n",
    "        plt.title('i=%d' % i)\n",
    "        display.clear_output(wait=True)\n",
    "        display.display(plt.gcf())"
   ]
  },
  {
   "cell_type": "markdown",
   "metadata": {
    "slideshow": {
     "slide_type": "slide"
    }
   },
   "source": [
    "## Comments on the code\n",
    "* The solution is not saved, but overwritten for every step.\n",
    "\n",
    "* Loops in Python are slow. Can you update $v$ without looping over the spatial domain?"
   ]
  },
  {
   "cell_type": "markdown",
   "metadata": {
    "slideshow": {
     "slide_type": "slide"
    }
   },
   "source": [
    "## Solving the FitzHugh-Nagumo (FHN) model\n",
    "A small modification of the bistable equation gives the\n",
    "FHN model:\n",
    "\n",
    "$$\n",
    "\\begin{alignat*}{2}\n",
    "v_t &= kv_{xx} + Av(1-v)(v-\\alpha) -w & \\mbox{ for } & t> 0, 0 < x < L, \\\\\n",
    "w_t &= \\epsilon (v-\\gamma w) & \\mbox{ for } & t> 0, 0 < x < L, \\\\\n",
    "v_x &= 0 & \\mbox{ for } &x = 0, x = L, \\\\\n",
    "v & = v_0 &\\mbox{ for } &t = 0, 0 < x = < L/10, \\\\\n",
    "v & = 0 &\\mbox{ for } &t = 0, L/10< x = < L,\n",
    "\\end{alignat*}\n",
    "$$\n",
    "\n",
    "The additional parameters are set to\n",
    "\n",
    "$$\n",
    "\\epsilon = 0.005, \\gamma = 2.0 .\n",
    "$$\n",
    "\n",
    "Extend the solver from above to solve the FHN model."
   ]
  },
  {
   "cell_type": "markdown",
   "metadata": {
    "slideshow": {
     "slide_type": "slide"
    }
   },
   "source": [
    "## FHN in Python\n",
    "Update the solver from above to solve the FHN model"
   ]
  },
  {
   "cell_type": "code",
   "execution_count": 7,
   "metadata": {
    "slideshow": {
     "slide_type": "-"
    }
   },
   "outputs": [
    {
     "ename": "TypeError",
     "evalue": "'ellipsis' object cannot be interpreted as an integer",
     "output_type": "error",
     "traceback": [
      "\u001b[0;31m---------------------------------------------------------------------------\u001b[0m",
      "\u001b[0;31mTypeError\u001b[0m                                 Traceback (most recent call last)",
      "\u001b[0;32m/var/folders/1l/s192b6ms5w3_qpkhkq68wj_m0000gn/T/ipykernel_22350/1756855656.py\u001b[0m in \u001b[0;36m<module>\u001b[0;34m\u001b[0m\n\u001b[1;32m      4\u001b[0m \u001b[0mv\u001b[0m\u001b[0;34m[\u001b[0m\u001b[0;34m:\u001b[0m\u001b[0mleft\u001b[0m\u001b[0;34m]\u001b[0m \u001b[0;34m=\u001b[0m \u001b[0;36m0.3\u001b[0m\u001b[0;34m\u001b[0m\u001b[0;34m\u001b[0m\u001b[0m\n\u001b[1;32m      5\u001b[0m \u001b[0;34m(\u001b[0m\u001b[0;34m...\u001b[0m\u001b[0;34m)\u001b[0m\u001b[0;34m\u001b[0m\u001b[0;34m\u001b[0m\u001b[0m\n\u001b[0;32m----> 6\u001b[0;31m \u001b[0;32mfor\u001b[0m \u001b[0mi\u001b[0m \u001b[0;32min\u001b[0m \u001b[0mrange\u001b[0m \u001b[0;34m(\u001b[0m\u001b[0;34m...\u001b[0m\u001b[0;34m)\u001b[0m\u001b[0;34m:\u001b[0m\u001b[0;34m\u001b[0m\u001b[0;34m\u001b[0m\u001b[0m\n\u001b[0m\u001b[1;32m      7\u001b[0m     \u001b[0mv\u001b[0m \u001b[0;34m=\u001b[0m \u001b[0;34m(\u001b[0m\u001b[0;34m...\u001b[0m\u001b[0;34m)\u001b[0m\u001b[0;34m\u001b[0m\u001b[0;34m\u001b[0m\u001b[0m\n\u001b[1;32m      8\u001b[0m     \u001b[0mw\u001b[0m \u001b[0;34m=\u001b[0m \u001b[0;34m(\u001b[0m\u001b[0;34m...\u001b[0m\u001b[0;34m)\u001b[0m\u001b[0;34m\u001b[0m\u001b[0;34m\u001b[0m\u001b[0m\n",
      "\u001b[0;31mTypeError\u001b[0m: 'ellipsis' object cannot be interpreted as an integer"
     ]
    }
   ],
   "source": [
    "v = np.zeros(N+1)\n",
    "w = np.zeros(N+1)\n",
    "left = int(N/10)\n",
    "v[:left] = 0.3\n",
    "(...)\n",
    "for i in range (...):\n",
    "    v = (...)\n",
    "    w = (...)\n",
    "    if i%20==0:  #to avoid displaying every time step\n",
    "        plt.clf()\n",
    "        plt.axis([0, L, 0, 1.1])\n",
    "        plt.plot(v)\n",
    "        plt.title('i=%d' % i)\n",
    "        display.clear_output(wait=True)\n",
    "        display.display(plt.gcf())"
   ]
  },
  {
   "cell_type": "markdown",
   "metadata": {
    "slideshow": {
     "slide_type": "slide"
    }
   },
   "source": [
    "## Simulating reentry (1)\n",
    "\n",
    "We can model a simple reentrant circuit with periodic boundary\n",
    "conditions:\n",
    "\n",
    "$$\n",
    "v(0) = v(L)\n",
    "$$\n",
    "\n",
    "* Implement this condition in the FHN solver\n",
    "\n",
    "* What happens? Why?"
   ]
  },
  {
   "cell_type": "markdown",
   "metadata": {
    "slideshow": {
     "slide_type": "slide"
    }
   },
   "source": [
    "## Simulating reentry (2)\n",
    "Modify the initial condition to:"
   ]
  },
  {
   "cell_type": "code",
   "execution_count": 11,
   "metadata": {
    "slideshow": {
     "slide_type": "-"
    }
   },
   "outputs": [],
   "source": [
    "mid = int(N/2)\n",
    "v[mid-2:mid+2] = 0.3"
   ]
  },
  {
   "cell_type": "markdown",
   "metadata": {
    "slideshow": {
     "slide_type": "-"
    }
   },
   "source": [
    "What happens?\n",
    "\n",
    "Now, add the line"
   ]
  },
  {
   "cell_type": "code",
   "execution_count": 12,
   "metadata": {
    "slideshow": {
     "slide_type": "-"
    }
   },
   "outputs": [],
   "source": [
    "w[:int(0.9*mid)] = 1"
   ]
  },
  {
   "cell_type": "markdown",
   "metadata": {
    "slideshow": {
     "slide_type": "-"
    }
   },
   "source": [
    "What happens? Why?"
   ]
  }
 ],
 "metadata": {
  "celltoolbar": "Slideshow",
  "kernelspec": {
   "display_name": "Python 3 (ipykernel)",
   "language": "python",
   "name": "python3"
  },
  "language_info": {
   "codemirror_mode": {
    "name": "ipython",
    "version": 3
   },
   "file_extension": ".py",
   "mimetype": "text/x-python",
   "name": "python",
   "nbconvert_exporter": "python",
   "pygments_lexer": "ipython3",
   "version": "3.9.7"
  }
 },
 "nbformat": 4,
 "nbformat_minor": 4
}
