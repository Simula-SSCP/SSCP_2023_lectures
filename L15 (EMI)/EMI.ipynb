{
 "cells": [
  {
   "cell_type": "markdown",
   "id": "2980dd42",
   "metadata": {},
   "source": [
    "# EMI modeling in FEniCS\n"
   ]
  },
  {
   "cell_type": "markdown",
   "id": "7c1c2fd9",
   "metadata": {},
   "source": [
    "## Model equations \n",
    "In summary, the non-stationary EMI (extra-, membrane, intra-) model for a single cell surrounded by an extracellular domain (as illustrated), for $t\\in(0,T]$, is given by \n",
    "\\begin{align}\n",
    "    & -\\nabla \\cdot (\\sigma_e\\nabla u_e(\\mathbf{x},t))=0 && \\quad \\mathrm{for} \\quad \\mathbf{x}\\in\\Omega_e, \\\\ \n",
    "    & -\\nabla \\cdot (\\sigma_i\\nabla u_i(\\mathbf{x},t))=0 && \\quad \\mathrm{for} \\quad \\mathbf{x}\\in\\Omega_i, \\label{eq::EMI_2}\\\\\n",
    "    & \\sigma_e\\nabla u_e(\\mathbf{x},t)\\cdot\\mathbf{n}_e = -\\sigma_i\\nabla u_i(\\mathbf{x},t)\\cdot\\mathbf{n}_i\\equiv I_m(\\mathbf{x},t) && \\quad \\mathrm{for} \\quad \\mathbf{x}\\in\\Gamma, \\label{eq::EMI_3} \\\\\n",
    "    & u_i(\\mathbf{x},t)-u_e(\\mathbf{x},t) = v(\\mathbf{x},t) && \\quad \\mathrm{for} \\quad \\mathbf{x}\\in\\Gamma \\label{eq::EMI_4} \\\\ \n",
    "    & \\frac{\\partial v(\\mathbf{x},t)}{\\partial t} = C_m^{-1}(I_m(\\mathbf{x},t) - I_{\\text{ion}}(\\mathbf{x},t)) && \\quad \\mathrm{for} \\quad \\mathbf{x}\\in\\Gamma,\\label{eq::EMI_5}\n",
    "\\end{align}\n",
    "for the intra- and extra-cellular potentials $u_i,u_e$, and for the membrane current $I_m$:\n",
    "with $\\sigma_e,\\sigma_i$ conductivities and $C_m$ the membrane capacitance. We can close the EMI problem with homogeneous boundary conditions:\n",
    "\\begin{align}\n",
    "     u_e(\\mathbf{x},t) = 0 & \\quad \\mathrm{for} \\quad \\mathbf{x}\\in\\partial\\Gamma_e^D,\\\\ \\label{bc2}\n",
    "     \\sigma_e \\nabla u_e (\\mathbf{x},t) \\cdot \\mathbf{n}_e = 0 & \\quad \\mathrm{for} \\quad \\mathbf{x}\\in\\partial\\Gamma_e^N,\n",
    "\\end{align}\n",
    "and initial membrane potential $v(\\mathbf{x},0)=v_0(\\mathbf{x})$.\n",
    "\n",
    "| <img src=\"figures/cell.png\" width=500> |\n",
    "|:--:|\n",
    "|*Modeling Excitable Tissue The EMI Framework, Chapter 5* by M. Kuchta et. al. |"
   ]
  },
  {
   "cell_type": "markdown",
   "id": "1a9cc9d8",
   "metadata": {},
   "source": [
    "### Exercise \n",
    "The EMI solution consist of the intra- and extra- potentials, as well as a membrane term encoded in the current $I_m$. It is possible to eliminate the latter unknown, expressing it as a function of $u_i$ and $u_e$. Try to obtain such an expression for $I_m$; to do so:\n",
    "\n",
    "1) Discretize in time the membrane equations, i.e. consider $N>0$ discrete time steps $0=t_0<t_1<\\cdots<t_{N-1}=T$, with $\\Delta t = t_n - t_{n-1}$ for $n=1,...,N$. \n",
    "\n",
    "2) Consider a forward finite difference stencil for $\\partial/\\partial_t$.\n",
    "\n",
    "3) Consider an implicit treatment of the membrane current $I_m$ and an explicit one of the ionic current $I_{\\text{ion}}$.\n",
    "\n",
    "4) Derive an expression for $I_m$.\n"
   ]
  },
  {
   "cell_type": "markdown",
   "id": "9a65f407",
   "metadata": {},
   "source": [
    "## Weak formulation \n",
    "After substituting the expression for $I_m$, multiplying by test functions and integrating by parts, the weak form  of the EMI problem reads: given $V_i,V_e$ sufficiently regular Hilbert spaces, with elements satisfying the boundary conditions, find $u_i\\in V_i(\\Omega_i)$ and $u_e\\in V_e(\\Omega_e)$ such that\n",
    "\n",
    "\\begin{align}\n",
    "     C_m^{-1}\\Delta t\\int_{\\Omega_e} \\sigma_e\\nabla u_e \\cdot\\nabla v_e\\,\\mathrm{d}\\mathbf{x} + \\int_{\\Gamma}u_ev_e\\,\\mathrm{d}s - \\int_{\\Gamma}u_iv_e\\,\\mathrm{d}s & = -\\int_{\\Gamma}fv_e\\,\\mathrm{d}s,  \\\\\n",
    "          C_m^{-1}\\Delta t\\int_{\\Omega_i} \\sigma_i\\nabla u_i \\cdot\\nabla v_i\\,\\mathrm{d}\\mathbf{x} + \\int_{\\Gamma}u_iv_i\\,\\mathrm{d}s - \\int_{\\Gamma}u_ev_i\\,\\mathrm{d}s & = \\int_{\\Gamma}fv_i\\,\\mathrm{d}s, \n",
    "\\end{align}\n",
    "for all test functions $v_e\\in V_e$ and $v_i\\in V_i$. \n",
    "\n",
    "We introduce a yet unspecified discretization via finite element basis functions (e.g. Lagrangian elements of order $p\\in\\mathbb{N}$ on a regular grid, cf. Figure~\\ref{fig:EMI}) for $V_e$ and $V_i$:\n",
    "$$V_{e,h}=\\mathrm{span}\\left(\\{\\phi^e_j\\}_{j=1}^{N_e}\\right),\\quad V_{i,h}=\\mathrm{span}\\left(\\{\\phi^i_j\\}_{j=1}^{N_i}\\right),$$\n",
    "with $N_e,N_i$ and $N_\\Gamma\\in\\mathbb{N}$ denoting the number of degrees of freedom in the corresponding subdomains."
   ]
  },
  {
   "cell_type": "code",
   "execution_count": null,
   "id": "34eb4bf7",
   "metadata": {},
   "outputs": [],
   "source": []
  }
 ],
 "metadata": {
  "kernelspec": {
   "display_name": "Python 3 (ipykernel)",
   "language": "python",
   "name": "python3"
  },
  "language_info": {
   "codemirror_mode": {
    "name": "ipython",
    "version": 3
   },
   "file_extension": ".py",
   "mimetype": "text/x-python",
   "name": "python",
   "nbconvert_exporter": "python",
   "pygments_lexer": "ipython3",
   "version": "3.9.12"
  }
 },
 "nbformat": 4,
 "nbformat_minor": 5
}
